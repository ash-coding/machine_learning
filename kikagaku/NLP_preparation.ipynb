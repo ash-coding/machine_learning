{
  "nbformat": 4,
  "nbformat_minor": 0,
  "metadata": {
    "colab": {
      "name": "NLP_preparation.ipynb",
      "provenance": [],
      "collapsed_sections": [],
      "authorship_tag": "ABX9TyNAUdOFj3va54OHZ9Q4se6M"
    },
    "kernelspec": {
      "name": "python3",
      "display_name": "Python 3"
    },
    "language_info": {
      "name": "python"
    },
    "accelerator": "GPU"
  },
  "cells": [
    {
      "cell_type": "code",
      "metadata": {
        "id": "g0HJeAinOKAQ"
      },
      "source": [
        "# !apt install aptitude swig\n",
        "# !aptitude install mecab libmecab-dev mecab-ipadic-utf8 git make curl xz-utils file -y\n",
        "# !pip install mecab-python3==0.996.3"
      ],
      "execution_count": 1,
      "outputs": []
    },
    {
      "cell_type": "code",
      "metadata": {
        "id": "ocDVkyQiQFBX"
      },
      "source": [
        "# !git clone --depth 1 https://github.com/neologd/mecab-ipadic-neologd.git\n",
        "# !echo yes | mecab-ipadic-neologd/bin/install-mecab-ipadic-neologd -n -a"
      ],
      "execution_count": 2,
      "outputs": []
    },
    {
      "cell_type": "code",
      "metadata": {
        "id": "pw-lJ-c4UnFy"
      },
      "source": [
        "# !pip list"
      ],
      "execution_count": 3,
      "outputs": []
    },
    {
      "cell_type": "code",
      "metadata": {
        "id": "oLyPQQbDOPB7"
      },
      "source": [
        "# !ln -s /etc/mecabrc /usr/local/etc/mecabrc"
      ],
      "execution_count": 4,
      "outputs": []
    },
    {
      "cell_type": "code",
      "metadata": {
        "id": "foTLI_H6NWGC"
      },
      "source": [
        "text = '<html>Deep Learningにはマシンリソースが必要です。</html>'"
      ],
      "execution_count": 5,
      "outputs": []
    },
    {
      "cell_type": "code",
      "metadata": {
        "id": "cAGbXoHYNpXx"
      },
      "source": [
        "from bs4 import BeautifulSoup\n",
        "soup = BeautifulSoup(text, 'html.parser')\n",
        "text = soup.get_text()"
      ],
      "execution_count": 6,
      "outputs": []
    },
    {
      "cell_type": "code",
      "metadata": {
        "colab": {
          "base_uri": "https://localhost:8080/",
          "height": 35
        },
        "id": "-n0uy-4ON2iQ",
        "outputId": "7b4d65ff-2814-4839-eed0-d9d341a8b8af"
      },
      "source": [
        "text"
      ],
      "execution_count": 7,
      "outputs": [
        {
          "output_type": "execute_result",
          "data": {
            "application/vnd.google.colaboratory.intrinsic+json": {
              "type": "string"
            },
            "text/plain": [
              "'Deep Learningにはマシンリソースが必要です。'"
            ]
          },
          "metadata": {
            "tags": []
          },
          "execution_count": 7
        }
      ]
    },
    {
      "cell_type": "code",
      "metadata": {
        "colab": {
          "base_uri": "https://localhost:8080/",
          "height": 35
        },
        "id": "9jjjZuHaN3OO",
        "outputId": "ac7faee1-f203-4864-ab57-05bf23540460"
      },
      "source": [
        "text = text.lower()\n",
        "text"
      ],
      "execution_count": 8,
      "outputs": [
        {
          "output_type": "execute_result",
          "data": {
            "application/vnd.google.colaboratory.intrinsic+json": {
              "type": "string"
            },
            "text/plain": [
              "'deep learningにはマシンリソースが必要です。'"
            ]
          },
          "metadata": {
            "tags": []
          },
          "execution_count": 8
        }
      ]
    },
    {
      "cell_type": "code",
      "metadata": {
        "colab": {
          "base_uri": "https://localhost:8080/"
        },
        "id": "xvKFPkXSN6lv",
        "outputId": "3b7fb29b-0715-4e20-dee2-d32e4d28fbdc"
      },
      "source": [
        "import MeCab\n",
        "mecab = MeCab.Tagger('-Owakati')\n",
        "text = mecab.parse(text)\n",
        "ret = text.strip().split()\n",
        "ret"
      ],
      "execution_count": 9,
      "outputs": [
        {
          "output_type": "stream",
          "text": [
            "['deep', 'learning', 'に', 'は', 'マシン', 'リソース', 'が', '必要', 'です', '。']\n"
          ],
          "name": "stdout"
        }
      ]
    },
    {
      "cell_type": "code",
      "metadata": {
        "id": "1wPbGbUvWE9K"
      },
      "source": [
        "word_list = []\n",
        "stopword = ['に', 'は', 'が', 'です', '。']\n",
        "\n",
        "for word in ret:\n",
        "  if word not in stopword:\n",
        "    word_list.append(word)"
      ],
      "execution_count": 11,
      "outputs": []
    },
    {
      "cell_type": "code",
      "metadata": {
        "colab": {
          "base_uri": "https://localhost:8080/"
        },
        "id": "Ajsf48xtWLWO",
        "outputId": "aa63cc1c-35fc-48d2-8467-ea5ff1afaa19"
      },
      "source": [
        "word_list"
      ],
      "execution_count": 12,
      "outputs": [
        {
          "output_type": "execute_result",
          "data": {
            "text/plain": [
              "['deep', 'learning', 'マシン', 'リソース', '必要']"
            ]
          },
          "metadata": {
            "tags": []
          },
          "execution_count": 12
        }
      ]
    },
    {
      "cell_type": "code",
      "metadata": {
        "id": "je8vrbyEYk77"
      },
      "source": [
        ""
      ],
      "execution_count": null,
      "outputs": []
    }
  ]
}