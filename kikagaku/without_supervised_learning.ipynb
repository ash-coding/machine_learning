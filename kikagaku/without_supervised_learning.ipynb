{
 "cells": [
  {
   "cell_type": "code",
   "execution_count": 1,
   "id": "7c72af9e-3191-44bc-ba22-bcc43debd4a1",
   "metadata": {},
   "outputs": [],
   "source": [
    "import numpy as np\n",
    "import pandas as pd\n",
    "import seaborn as sns\n",
    "import matplotlib.pyplot as plt"
   ]
  },
  {
   "cell_type": "code",
   "execution_count": 2,
   "id": "f3b2bf9d-fb16-497c-8e74-b7511661ccf0",
   "metadata": {},
   "outputs": [],
   "source": [
    "from sklearn.datasets import load_iris\n",
    "dataset = load_iris()\n",
    "x = dataset.data\n",
    "t = dataset.target\n",
    "feature_names = dataset.feature_names"
   ]
  },
  {
   "cell_type": "code",
   "execution_count": 3,
   "id": "83b1cc52-898b-480f-b577-0d448693ff3f",
   "metadata": {},
   "outputs": [
    {
     "data": {
      "text/html": [
       "<div>\n",
       "<style scoped>\n",
       "    .dataframe tbody tr th:only-of-type {\n",
       "        vertical-align: middle;\n",
       "    }\n",
       "\n",
       "    .dataframe tbody tr th {\n",
       "        vertical-align: top;\n",
       "    }\n",
       "\n",
       "    .dataframe thead th {\n",
       "        text-align: right;\n",
       "    }\n",
       "</style>\n",
       "<table border=\"1\" class=\"dataframe\">\n",
       "  <thead>\n",
       "    <tr style=\"text-align: right;\">\n",
       "      <th></th>\n",
       "      <th>sepal length (cm)</th>\n",
       "      <th>sepal width (cm)</th>\n",
       "      <th>petal length (cm)</th>\n",
       "      <th>petal width (cm)</th>\n",
       "    </tr>\n",
       "  </thead>\n",
       "  <tbody>\n",
       "    <tr>\n",
       "      <th>0</th>\n",
       "      <td>5.1</td>\n",
       "      <td>3.5</td>\n",
       "      <td>1.4</td>\n",
       "      <td>0.2</td>\n",
       "    </tr>\n",
       "    <tr>\n",
       "      <th>1</th>\n",
       "      <td>4.9</td>\n",
       "      <td>3.0</td>\n",
       "      <td>1.4</td>\n",
       "      <td>0.2</td>\n",
       "    </tr>\n",
       "    <tr>\n",
       "      <th>2</th>\n",
       "      <td>4.7</td>\n",
       "      <td>3.2</td>\n",
       "      <td>1.3</td>\n",
       "      <td>0.2</td>\n",
       "    </tr>\n",
       "    <tr>\n",
       "      <th>3</th>\n",
       "      <td>4.6</td>\n",
       "      <td>3.1</td>\n",
       "      <td>1.5</td>\n",
       "      <td>0.2</td>\n",
       "    </tr>\n",
       "    <tr>\n",
       "      <th>4</th>\n",
       "      <td>5.0</td>\n",
       "      <td>3.6</td>\n",
       "      <td>1.4</td>\n",
       "      <td>0.2</td>\n",
       "    </tr>\n",
       "  </tbody>\n",
       "</table>\n",
       "</div>"
      ],
      "text/plain": [
       "   sepal length (cm)  sepal width (cm)  petal length (cm)  petal width (cm)\n",
       "0                5.1               3.5                1.4               0.2\n",
       "1                4.9               3.0                1.4               0.2\n",
       "2                4.7               3.2                1.3               0.2\n",
       "3                4.6               3.1                1.5               0.2\n",
       "4                5.0               3.6                1.4               0.2"
      ]
     },
     "execution_count": 3,
     "metadata": {},
     "output_type": "execute_result"
    }
   ],
   "source": [
    "pd.DataFrame(x, columns = feature_names).head()"
   ]
  },
  {
   "cell_type": "code",
   "execution_count": 4,
   "id": "e69596e1-4a6d-4bb0-b156-27901e7253be",
   "metadata": {},
   "outputs": [],
   "source": [
    "from sklearn.decomposition import PCA\n",
    "pca = PCA(n_components = 2, random_state = 0)"
   ]
  },
  {
   "cell_type": "code",
   "execution_count": 5,
   "id": "7e598b7d-3fa8-4982-8b02-06c42689b8dd",
   "metadata": {},
   "outputs": [
    {
     "data": {
      "text/plain": [
       "PCA(n_components=2, random_state=0)"
      ]
     },
     "execution_count": 5,
     "metadata": {},
     "output_type": "execute_result"
    }
   ],
   "source": [
    "pca.fit(x)"
   ]
  },
  {
   "cell_type": "code",
   "execution_count": 6,
   "id": "4d016a35-d958-4139-86db-5f0fb058938c",
   "metadata": {},
   "outputs": [
    {
     "data": {
      "text/plain": [
       "array([[ 0.67918961, -0.03571514,  1.2714061 ,  0.53137208],\n",
       "       [-0.03571514,  0.18303922, -0.32672469, -0.13706322],\n",
       "       [ 1.2714061 , -0.32672469,  3.12237957,  1.28464626],\n",
       "       [ 0.53137208, -0.13706322,  1.28464626,  0.58834865]])"
      ]
     },
     "execution_count": 6,
     "metadata": {},
     "output_type": "execute_result"
    }
   ],
   "source": [
    "pca.get_covariance()"
   ]
  },
  {
   "cell_type": "code",
   "execution_count": 7,
   "id": "ed3188a4-a452-469a-bbf3-f07c1e87008c",
   "metadata": {},
   "outputs": [],
   "source": [
    "x_transformed = pca.transform(x)"
   ]
  },
  {
   "cell_type": "code",
   "execution_count": 8,
   "id": "c9696ef8-eeac-4922-89c5-779b34be575b",
   "metadata": {},
   "outputs": [
    {
     "data": {
      "text/html": [
       "<div>\n",
       "<style scoped>\n",
       "    .dataframe tbody tr th:only-of-type {\n",
       "        vertical-align: middle;\n",
       "    }\n",
       "\n",
       "    .dataframe tbody tr th {\n",
       "        vertical-align: top;\n",
       "    }\n",
       "\n",
       "    .dataframe thead th {\n",
       "        text-align: right;\n",
       "    }\n",
       "</style>\n",
       "<table border=\"1\" class=\"dataframe\">\n",
       "  <thead>\n",
       "    <tr style=\"text-align: right;\">\n",
       "      <th></th>\n",
       "      <th>第一主成分</th>\n",
       "      <th>第二主成分</th>\n",
       "    </tr>\n",
       "  </thead>\n",
       "  <tbody>\n",
       "    <tr>\n",
       "      <th>0</th>\n",
       "      <td>-2.684126</td>\n",
       "      <td>0.319397</td>\n",
       "    </tr>\n",
       "    <tr>\n",
       "      <th>1</th>\n",
       "      <td>-2.714142</td>\n",
       "      <td>-0.177001</td>\n",
       "    </tr>\n",
       "    <tr>\n",
       "      <th>2</th>\n",
       "      <td>-2.888991</td>\n",
       "      <td>-0.144949</td>\n",
       "    </tr>\n",
       "    <tr>\n",
       "      <th>3</th>\n",
       "      <td>-2.745343</td>\n",
       "      <td>-0.318299</td>\n",
       "    </tr>\n",
       "    <tr>\n",
       "      <th>4</th>\n",
       "      <td>-2.728717</td>\n",
       "      <td>0.326755</td>\n",
       "    </tr>\n",
       "  </tbody>\n",
       "</table>\n",
       "</div>"
      ],
      "text/plain": [
       "      第一主成分     第二主成分\n",
       "0 -2.684126  0.319397\n",
       "1 -2.714142 -0.177001\n",
       "2 -2.888991 -0.144949\n",
       "3 -2.745343 -0.318299\n",
       "4 -2.728717  0.326755"
      ]
     },
     "execution_count": 8,
     "metadata": {},
     "output_type": "execute_result"
    }
   ],
   "source": [
    "pd.DataFrame(x_transformed, columns = ['第一主成分', '第二主成分']).head()"
   ]
  },
  {
   "cell_type": "code",
   "execution_count": 9,
   "id": "9c435818-f6b0-41fe-b344-e081725af929",
   "metadata": {},
   "outputs": [
    {
     "name": "stdout",
     "output_type": "stream",
     "text": [
      "第一主成分の寄与率:0.9246187232017271\n",
      "第二主成分の寄与率:0.05306648311706782\n"
     ]
    }
   ],
   "source": [
    "print('第一主成分の寄与率:{}'.format(pca.explained_variance_ratio_[0]))\n",
    "print('第二主成分の寄与率:{}'.format(pca.explained_variance_ratio_[1]))"
   ]
  },
  {
   "cell_type": "code",
   "execution_count": 10,
   "id": "ea0fbf71-5d97-4dbe-a301-506465543494",
   "metadata": {},
   "outputs": [
    {
     "data": {
      "text/plain": [
       "array([0, 1, 2])"
      ]
     },
     "execution_count": 10,
     "metadata": {},
     "output_type": "execute_result"
    }
   ],
   "source": [
    "np.unique(t)"
   ]
  },
  {
   "cell_type": "code",
   "execution_count": 11,
   "id": "2e726e72-88c9-4d5f-9d94-8f4758967e30",
   "metadata": {},
   "outputs": [
    {
     "name": "stderr",
     "output_type": "stream",
     "text": [
      "/usr/local/lib/python3.9/site-packages/seaborn/_decorators.py:36: FutureWarning: Pass the following variables as keyword args: x, y. From version 0.12, the only valid positional argument will be `data`, and passing other arguments without an explicit keyword will result in an error or misinterpretation.\n",
      "  warnings.warn(\n"
     ]
    },
    {
     "data": {
      "text/plain": [
       "<AxesSubplot:>"
      ]
     },
     "execution_count": 11,
     "metadata": {},
     "output_type": "execute_result"
    },
    {
     "data": {
      "image/png": "[encoded data removed]",
      "text/plain": [
       "<Figure size 432x288 with 1 Axes>"
      ]
     },
     "metadata": {
      "needs_background": "light"
     },
     "output_type": "display_data"
    }
   ],
   "source": [
    "sns.scatterplot(x_transformed[:, 0], x_transformed[:, 1], hue = t, palette = sns.color_palette(n_colors = 3))"
   ]
  },
  {
   "cell_type": "code",
   "execution_count": 12,
   "id": "6091cc1d-8d24-4187-9c0d-cb2ad1f6a84d",
   "metadata": {},
   "outputs": [],
   "source": [
    "from sklearn.preprocessing import StandardScaler\n",
    "scaler = StandardScaler()\n",
    "x_scaled = scaler.fit_transform(x)"
   ]
  },
  {
   "cell_type": "code",
   "execution_count": 13,
   "id": "59032fab-8a10-45d6-80d6-91d2c3749afa",
   "metadata": {},
   "outputs": [],
   "source": [
    "pca = PCA(n_components = 2, random_state = 0)"
   ]
  },
  {
   "cell_type": "code",
   "execution_count": 14,
   "id": "f386eee0-3398-49e3-812e-05a4aa38ce84",
   "metadata": {},
   "outputs": [],
   "source": [
    "x_std_transformed = pca.fit_transform(x_scaled)"
   ]
  },
  {
   "cell_type": "code",
   "execution_count": 15,
   "id": "20074445-b1bb-4ca7-97ca-ba55b7dc9df6",
   "metadata": {},
   "outputs": [
    {
     "data": {
      "text/html": [
       "<div>\n",
       "<style scoped>\n",
       "    .dataframe tbody tr th:only-of-type {\n",
       "        vertical-align: middle;\n",
       "    }\n",
       "\n",
       "    .dataframe tbody tr th {\n",
       "        vertical-align: top;\n",
       "    }\n",
       "\n",
       "    .dataframe thead th {\n",
       "        text-align: right;\n",
       "    }\n",
       "</style>\n",
       "<table border=\"1\" class=\"dataframe\">\n",
       "  <thead>\n",
       "    <tr style=\"text-align: right;\">\n",
       "      <th></th>\n",
       "      <th>第一主成分</th>\n",
       "      <th>第二主成分</th>\n",
       "    </tr>\n",
       "  </thead>\n",
       "  <tbody>\n",
       "    <tr>\n",
       "      <th>0</th>\n",
       "      <td>-2.264703</td>\n",
       "      <td>0.480027</td>\n",
       "    </tr>\n",
       "    <tr>\n",
       "      <th>1</th>\n",
       "      <td>-2.080961</td>\n",
       "      <td>-0.674134</td>\n",
       "    </tr>\n",
       "    <tr>\n",
       "      <th>2</th>\n",
       "      <td>-2.364229</td>\n",
       "      <td>-0.341908</td>\n",
       "    </tr>\n",
       "    <tr>\n",
       "      <th>3</th>\n",
       "      <td>-2.299384</td>\n",
       "      <td>-0.597395</td>\n",
       "    </tr>\n",
       "    <tr>\n",
       "      <th>4</th>\n",
       "      <td>-2.389842</td>\n",
       "      <td>0.646835</td>\n",
       "    </tr>\n",
       "    <tr>\n",
       "      <th>5</th>\n",
       "      <td>-2.075631</td>\n",
       "      <td>1.489178</td>\n",
       "    </tr>\n",
       "    <tr>\n",
       "      <th>6</th>\n",
       "      <td>-2.444029</td>\n",
       "      <td>0.047644</td>\n",
       "    </tr>\n",
       "    <tr>\n",
       "      <th>7</th>\n",
       "      <td>-2.232847</td>\n",
       "      <td>0.223148</td>\n",
       "    </tr>\n",
       "    <tr>\n",
       "      <th>8</th>\n",
       "      <td>-2.334640</td>\n",
       "      <td>-1.115328</td>\n",
       "    </tr>\n",
       "    <tr>\n",
       "      <th>9</th>\n",
       "      <td>-2.184328</td>\n",
       "      <td>-0.469014</td>\n",
       "    </tr>\n",
       "  </tbody>\n",
       "</table>\n",
       "</div>"
      ],
      "text/plain": [
       "      第一主成分     第二主成分\n",
       "0 -2.264703  0.480027\n",
       "1 -2.080961 -0.674134\n",
       "2 -2.364229 -0.341908\n",
       "3 -2.299384 -0.597395\n",
       "4 -2.389842  0.646835\n",
       "5 -2.075631  1.489178\n",
       "6 -2.444029  0.047644\n",
       "7 -2.232847  0.223148\n",
       "8 -2.334640 -1.115328\n",
       "9 -2.184328 -0.469014"
      ]
     },
     "execution_count": 15,
     "metadata": {},
     "output_type": "execute_result"
    }
   ],
   "source": [
    "pd.DataFrame(x_std_transformed, columns = ['第一主成分', '第二主成分']).head(10)"
   ]
  },
  {
   "cell_type": "code",
   "execution_count": 16,
   "id": "609967f2-3f4e-44d2-9122-53cbb7618863",
   "metadata": {},
   "outputs": [
    {
     "name": "stdout",
     "output_type": "stream",
     "text": [
      "第一主成分の寄与率:0.7296244541329987\n",
      "第二主成分の寄与率:0.2285076178670178\n"
     ]
    }
   ],
   "source": [
    "print('第一主成分の寄与率:{}'.format(pca.explained_variance_ratio_[0]))\n",
    "print('第二主成分の寄与率:{}'.format(pca.explained_variance_ratio_[1]))"
   ]
  },
  {
   "cell_type": "code",
   "execution_count": 17,
   "id": "30b0ee87-6698-45db-bd8d-6c11d631504a",
   "metadata": {},
   "outputs": [
    {
     "name": "stderr",
     "output_type": "stream",
     "text": [
      "/usr/local/lib/python3.9/site-packages/seaborn/_decorators.py:36: FutureWarning: Pass the following variables as keyword args: x, y. From version 0.12, the only valid positional argument will be `data`, and passing other arguments without an explicit keyword will result in an error or misinterpretation.\n",
      "  warnings.warn(\n"
     ]
    },
    {
     "data": {
      "text/plain": [
       "<AxesSubplot:>"
      ]
     },
     "execution_count": 17,
     "metadata": {},
     "output_type": "execute_result"
    },
    {
     "data": {
      "image/png": "[encoded data removed]",
      "text/plain": [
       "<Figure size 432x288 with 1 Axes>"
      ]
     },
     "metadata": {
      "needs_background": "light"
     },
     "output_type": "display_data"
    }
   ],
   "source": [
    "sns.scatterplot(x_std_transformed[:, 0], x_std_transformed[:, 1], hue = t, palette = sns.color_palette(n_colors = 3))"
   ]
  },
  {
   "cell_type": "code",
   "execution_count": 18,
   "id": "3a610513-2afa-4cd0-8f48-5ada977d39c0",
   "metadata": {},
   "outputs": [
    {
     "name": "stderr",
     "output_type": "stream",
     "text": [
      "/usr/local/lib/python3.9/site-packages/seaborn/_decorators.py:36: FutureWarning: Pass the following variables as keyword args: x, y. From version 0.12, the only valid positional argument will be `data`, and passing other arguments without an explicit keyword will result in an error or misinterpretation.\n",
      "  warnings.warn(\n",
      "/usr/local/lib/python3.9/site-packages/seaborn/_decorators.py:36: FutureWarning: Pass the following variables as keyword args: x, y. From version 0.12, the only valid positional argument will be `data`, and passing other arguments without an explicit keyword will result in an error or misinterpretation.\n",
      "  warnings.warn(\n"
     ]
    },
    {
     "data": {
      "text/plain": [
       "Text(0.5, 1.0, 'After')"
      ]
     },
     "execution_count": 18,
     "metadata": {},
     "output_type": "execute_result"
    },
    {
     "data": {
      "image/png": "[encoded data removed]",
      "text/plain": [
       "<Figure size 504x720 with 2 Axes>"
      ]
     },
     "metadata": {
      "needs_background": "light"
     },
     "output_type": "display_data"
    }
   ],
   "source": [
    "fig = plt.figure(figsize = (7, 10))\n",
    "\n",
    "ax1 = fig.add_subplot(2, 1, 1)\n",
    "sns.scatterplot(x_transformed[:, 0], x_transformed[:, 1],\n",
    "               hue = t, palette = sns.color_palette(n_colors = 3))\n",
    "ax1.set_title('Before')\n",
    "\n",
    "ax2 = fig.add_subplot(2, 1, 2)\n",
    "sns.scatterplot(x_std_transformed[:, 0], x_std_transformed[:, 1],\n",
    "               hue = t, palette = sns.color_palette(n_colors = 3))\n",
    "ax2.set_title('After')"
   ]
  },
  {
   "cell_type": "code",
   "execution_count": 19,
   "id": "ea31dc51-ffb3-4a62-82c1-964ac6f7ddc0",
   "metadata": {},
   "outputs": [
    {
     "data": {
      "text/html": [
       "<div>\n",
       "<style scoped>\n",
       "    .dataframe tbody tr th:only-of-type {\n",
       "        vertical-align: middle;\n",
       "    }\n",
       "\n",
       "    .dataframe tbody tr th {\n",
       "        vertical-align: top;\n",
       "    }\n",
       "\n",
       "    .dataframe thead th {\n",
       "        text-align: right;\n",
       "    }\n",
       "</style>\n",
       "<table border=\"1\" class=\"dataframe\">\n",
       "  <thead>\n",
       "    <tr style=\"text-align: right;\">\n",
       "      <th></th>\n",
       "      <th>No</th>\n",
       "      <th>弁当・麺類</th>\n",
       "      <th>飲料</th>\n",
       "      <th>おにぎり・サンドイッチ</th>\n",
       "      <th>スイーツ</th>\n",
       "      <th>カップスープ</th>\n",
       "      <th>サラダ</th>\n",
       "    </tr>\n",
       "  </thead>\n",
       "  <tbody>\n",
       "    <tr>\n",
       "      <th>0</th>\n",
       "      <td>1</td>\n",
       "      <td>25350</td>\n",
       "      <td>3650</td>\n",
       "      <td>8945</td>\n",
       "      <td>0</td>\n",
       "      <td>4867</td>\n",
       "      <td>8945</td>\n",
       "    </tr>\n",
       "    <tr>\n",
       "      <th>1</th>\n",
       "      <td>2</td>\n",
       "      <td>24500</td>\n",
       "      <td>0</td>\n",
       "      <td>0</td>\n",
       "      <td>1827</td>\n",
       "      <td>0</td>\n",
       "      <td>0</td>\n",
       "    </tr>\n",
       "    <tr>\n",
       "      <th>2</th>\n",
       "      <td>3</td>\n",
       "      <td>23050</td>\n",
       "      <td>5750</td>\n",
       "      <td>11570</td>\n",
       "      <td>0</td>\n",
       "      <td>7667</td>\n",
       "      <td>11570</td>\n",
       "    </tr>\n",
       "    <tr>\n",
       "      <th>3</th>\n",
       "      <td>4</td>\n",
       "      <td>22850</td>\n",
       "      <td>4100</td>\n",
       "      <td>10145</td>\n",
       "      <td>0</td>\n",
       "      <td>5467</td>\n",
       "      <td>10145</td>\n",
       "    </tr>\n",
       "    <tr>\n",
       "      <th>4</th>\n",
       "      <td>5</td>\n",
       "      <td>22500</td>\n",
       "      <td>0</td>\n",
       "      <td>0</td>\n",
       "      <td>0</td>\n",
       "      <td>0</td>\n",
       "      <td>0</td>\n",
       "    </tr>\n",
       "  </tbody>\n",
       "</table>\n",
       "</div>"
      ],
      "text/plain": [
       "   No  弁当・麺類    飲料  おにぎり・サンドイッチ  スイーツ  カップスープ    サラダ\n",
       "0   1  25350  3650         8945     0    4867   8945\n",
       "1   2  24500     0            0  1827       0      0\n",
       "2   3  23050  5750        11570     0    7667  11570\n",
       "3   4  22850  4100        10145     0    5467  10145\n",
       "4   5  22500     0            0     0       0      0"
      ]
     },
     "execution_count": 19,
     "metadata": {},
     "output_type": "execute_result"
    }
   ],
   "source": [
    "df = pd.read_csv('./convinience_store.csv')\n",
    "df.head()"
   ]
  },
  {
   "cell_type": "code",
   "execution_count": 20,
   "id": "e90cd765-5442-4ab9-b8f6-a86a2fdc413a",
   "metadata": {},
   "outputs": [
    {
     "data": {
      "text/plain": [
       "array([[25350,  3650,  8945,     0,  4867,  8945],\n",
       "       [24500,     0,     0,  1827,     0,     0],\n",
       "       [23050,  5750, 11570,     0,  7667, 11570]])"
      ]
     },
     "execution_count": 20,
     "metadata": {},
     "output_type": "execute_result"
    }
   ],
   "source": [
    "x = df.drop('No', axis = 1).values\n",
    "x[:3]"
   ]
  },
  {
   "cell_type": "code",
   "execution_count": 21,
   "id": "5d0dc3b8-bb0b-46b8-87c0-b442d47220c9",
   "metadata": {},
   "outputs": [],
   "source": [
    "from sklearn.cluster import KMeans"
   ]
  },
  {
   "cell_type": "code",
   "execution_count": 22,
   "id": "19ec325b-528e-4f6c-82cc-7d02f1f74bc4",
   "metadata": {},
   "outputs": [
    {
     "data": {
      "text/plain": [
       "KMeans(n_clusters=3, random_state=0)"
      ]
     },
     "execution_count": 22,
     "metadata": {},
     "output_type": "execute_result"
    }
   ],
   "source": [
    "kmeans = KMeans(n_clusters = 3, random_state = 0)\n",
    "kmeans.fit(x)"
   ]
  },
  {
   "cell_type": "code",
   "execution_count": 25,
   "id": "f5838e97-69d7-4f52-99ca-b8a9b903d981",
   "metadata": {},
   "outputs": [
    {
     "data": {
      "text/plain": [
       "array([[ 5043.5483871 ,  3486.41935484,  7017.74193548,  2206.        ,\n",
       "         2512.90322581,  3509.12903226],\n",
       "       [28681.25      ,  5637.66666667,  1298.75      ,  1271.        ,\n",
       "         1770.875     ,   716.95833333],\n",
       "       [17266.66666667,  2730.93333333, 10721.66666667,   590.86666667,\n",
       "         3447.33333333,  9851.2       ]])"
      ]
     },
     "execution_count": 25,
     "metadata": {},
     "output_type": "execute_result"
    }
   ],
   "source": [
    "kmeans.cluster_centers_"
   ]
  },
  {
   "cell_type": "code",
   "execution_count": 26,
   "id": "e6c97fa9-a6ca-4421-9601-cde14f3dfdef",
   "metadata": {},
   "outputs": [
    {
     "data": {
      "text/plain": [
       "(3, 6)"
      ]
     },
     "execution_count": 26,
     "metadata": {},
     "output_type": "execute_result"
    }
   ],
   "source": [
    "kmeans.cluster_centers_.shape"
   ]
  },
  {
   "cell_type": "code",
   "execution_count": 27,
   "id": "584d78b6-c7ca-4417-a38b-07115792d832",
   "metadata": {},
   "outputs": [
    {
     "data": {
      "text/plain": [
       "array([2, 1, 2, 2, 1, 2, 1, 1, 1, 2, 1, 2, 2, 1, 2, 2, 2, 2, 0, 2, 2, 0,\n",
       "       2, 2, 0, 0, 0, 0, 0, 0, 0, 0, 0, 0, 0, 0, 0, 0, 0, 0, 0, 0, 0, 0,\n",
       "       0, 0, 0, 0, 0, 0, 0, 0, 0, 1, 1, 1, 1, 1, 1, 1, 1, 1, 1, 1, 1, 1,\n",
       "       1, 1, 1, 1], dtype=int32)"
      ]
     },
     "execution_count": 27,
     "metadata": {},
     "output_type": "execute_result"
    }
   ],
   "source": [
    "cluster = kmeans.predict(x)\n",
    "cluster"
   ]
  },
  {
   "cell_type": "code",
   "execution_count": 28,
   "id": "00bd2867-a251-4fdd-9f75-f33a30175315",
   "metadata": {},
   "outputs": [],
   "source": [
    "df_cluster = df.copy()\n",
    "df_cluster['cluster'] = cluster"
   ]
  },
  {
   "cell_type": "code",
   "execution_count": 29,
   "id": "d3e11b76-ce80-41fa-8809-9047c790e5ec",
   "metadata": {},
   "outputs": [
    {
     "data": {
      "text/html": [
       "<div>\n",
       "<style scoped>\n",
       "    .dataframe tbody tr th:only-of-type {\n",
       "        vertical-align: middle;\n",
       "    }\n",
       "\n",
       "    .dataframe tbody tr th {\n",
       "        vertical-align: top;\n",
       "    }\n",
       "\n",
       "    .dataframe thead th {\n",
       "        text-align: right;\n",
       "    }\n",
       "</style>\n",
       "<table border=\"1\" class=\"dataframe\">\n",
       "  <thead>\n",
       "    <tr style=\"text-align: right;\">\n",
       "      <th></th>\n",
       "      <th>No</th>\n",
       "      <th>弁当・麺類</th>\n",
       "      <th>飲料</th>\n",
       "      <th>おにぎり・サンドイッチ</th>\n",
       "      <th>スイーツ</th>\n",
       "      <th>カップスープ</th>\n",
       "      <th>サラダ</th>\n",
       "      <th>cluster</th>\n",
       "    </tr>\n",
       "  </thead>\n",
       "  <tbody>\n",
       "    <tr>\n",
       "      <th>0</th>\n",
       "      <td>1</td>\n",
       "      <td>25350</td>\n",
       "      <td>3650</td>\n",
       "      <td>8945</td>\n",
       "      <td>0</td>\n",
       "      <td>4867</td>\n",
       "      <td>8945</td>\n",
       "      <td>2</td>\n",
       "    </tr>\n",
       "    <tr>\n",
       "      <th>1</th>\n",
       "      <td>2</td>\n",
       "      <td>24500</td>\n",
       "      <td>0</td>\n",
       "      <td>0</td>\n",
       "      <td>1827</td>\n",
       "      <td>0</td>\n",
       "      <td>0</td>\n",
       "      <td>1</td>\n",
       "    </tr>\n",
       "    <tr>\n",
       "      <th>2</th>\n",
       "      <td>3</td>\n",
       "      <td>23050</td>\n",
       "      <td>5750</td>\n",
       "      <td>11570</td>\n",
       "      <td>0</td>\n",
       "      <td>7667</td>\n",
       "      <td>11570</td>\n",
       "      <td>2</td>\n",
       "    </tr>\n",
       "    <tr>\n",
       "      <th>3</th>\n",
       "      <td>4</td>\n",
       "      <td>22850</td>\n",
       "      <td>4100</td>\n",
       "      <td>10145</td>\n",
       "      <td>0</td>\n",
       "      <td>5467</td>\n",
       "      <td>10145</td>\n",
       "      <td>2</td>\n",
       "    </tr>\n",
       "    <tr>\n",
       "      <th>4</th>\n",
       "      <td>5</td>\n",
       "      <td>22500</td>\n",
       "      <td>0</td>\n",
       "      <td>0</td>\n",
       "      <td>0</td>\n",
       "      <td>0</td>\n",
       "      <td>0</td>\n",
       "      <td>1</td>\n",
       "    </tr>\n",
       "  </tbody>\n",
       "</table>\n",
       "</div>"
      ],
      "text/plain": [
       "   No  弁当・麺類    飲料  おにぎり・サンドイッチ  スイーツ  カップスープ    サラダ  cluster\n",
       "0   1  25350  3650         8945     0    4867   8945        2\n",
       "1   2  24500     0            0  1827       0      0        1\n",
       "2   3  23050  5750        11570     0    7667  11570        2\n",
       "3   4  22850  4100        10145     0    5467  10145        2\n",
       "4   5  22500     0            0     0       0      0        1"
      ]
     },
     "execution_count": 29,
     "metadata": {},
     "output_type": "execute_result"
    }
   ],
   "source": [
    "df_cluster.head()"
   ]
  },
  {
   "cell_type": "code",
   "execution_count": 30,
   "id": "545943ae-ee68-4870-8b7a-a28c063a4004",
   "metadata": {},
   "outputs": [
    {
     "data": {
      "text/html": [
       "<div>\n",
       "<style scoped>\n",
       "    .dataframe tbody tr th:only-of-type {\n",
       "        vertical-align: middle;\n",
       "    }\n",
       "\n",
       "    .dataframe tbody tr th {\n",
       "        vertical-align: top;\n",
       "    }\n",
       "\n",
       "    .dataframe thead th {\n",
       "        text-align: right;\n",
       "    }\n",
       "</style>\n",
       "<table border=\"1\" class=\"dataframe\">\n",
       "  <thead>\n",
       "    <tr style=\"text-align: right;\">\n",
       "      <th></th>\n",
       "    </tr>\n",
       "  </thead>\n",
       "  <tbody>\n",
       "  </tbody>\n",
       "</table>\n",
       "</div>"
      ],
      "text/plain": [
       "Empty DataFrame\n",
       "Columns: []\n",
       "Index: []"
      ]
     },
     "execution_count": 30,
     "metadata": {},
     "output_type": "execute_result"
    }
   ],
   "source": [
    "df_results = pd.DataFrame()\n",
    "df_results"
   ]
  },
  {
   "cell_type": "code",
   "execution_count": 31,
   "id": "96c0f633-b56e-4beb-bb73-208dd3da9a5d",
   "metadata": {},
   "outputs": [
    {
     "data": {
      "text/plain": [
       "[37.806451612903224,\n",
       " 5043.548387096775,\n",
       " 3486.4193548387098,\n",
       " 7017.741935483871,\n",
       " 2206.0,\n",
       " 2512.9032258064517,\n",
       " 3509.1290322580644,\n",
       " 0.0]"
      ]
     },
     "execution_count": 31,
     "metadata": {},
     "output_type": "execute_result"
    }
   ],
   "source": [
    "df_cluster[df_cluster['cluster'] == 0].mean().tolist()"
   ]
  },
  {
   "cell_type": "code",
   "execution_count": 33,
   "id": "4ba743d3-cefc-4df0-a42f-612a6e3955f5",
   "metadata": {},
   "outputs": [],
   "source": [
    "df_results['cluster 0'] = df_cluster[df_cluster['cluster'] == 0].mean().tolist()\n",
    "df_results['cluster 1'] = df_cluster[df_cluster['cluster'] == 1].mean().tolist()\n",
    "df_results['cluster 2'] = df_cluster[df_cluster['cluster'] == 2].mean().tolist()"
   ]
  },
  {
   "cell_type": "code",
   "execution_count": 34,
   "id": "fa47223d-4c98-4f68-a275-fe1c931604f3",
   "metadata": {},
   "outputs": [
    {
     "data": {
      "text/html": [
       "<div>\n",
       "<style scoped>\n",
       "    .dataframe tbody tr th:only-of-type {\n",
       "        vertical-align: middle;\n",
       "    }\n",
       "\n",
       "    .dataframe tbody tr th {\n",
       "        vertical-align: top;\n",
       "    }\n",
       "\n",
       "    .dataframe thead th {\n",
       "        text-align: right;\n",
       "    }\n",
       "</style>\n",
       "<table border=\"1\" class=\"dataframe\">\n",
       "  <thead>\n",
       "    <tr style=\"text-align: right;\">\n",
       "      <th></th>\n",
       "      <th>cluster 0</th>\n",
       "      <th>cluster 1</th>\n",
       "      <th>cluster 2</th>\n",
       "    </tr>\n",
       "  </thead>\n",
       "  <tbody>\n",
       "    <tr>\n",
       "      <th>0</th>\n",
       "      <td>37.806452</td>\n",
       "      <td>46.250000</td>\n",
       "      <td>13.533333</td>\n",
       "    </tr>\n",
       "    <tr>\n",
       "      <th>1</th>\n",
       "      <td>5043.548387</td>\n",
       "      <td>28681.250000</td>\n",
       "      <td>17266.666667</td>\n",
       "    </tr>\n",
       "    <tr>\n",
       "      <th>2</th>\n",
       "      <td>3486.419355</td>\n",
       "      <td>5637.666667</td>\n",
       "      <td>2730.933333</td>\n",
       "    </tr>\n",
       "    <tr>\n",
       "      <th>3</th>\n",
       "      <td>7017.741935</td>\n",
       "      <td>1298.750000</td>\n",
       "      <td>10721.666667</td>\n",
       "    </tr>\n",
       "    <tr>\n",
       "      <th>4</th>\n",
       "      <td>2206.000000</td>\n",
       "      <td>1271.000000</td>\n",
       "      <td>590.866667</td>\n",
       "    </tr>\n",
       "    <tr>\n",
       "      <th>5</th>\n",
       "      <td>2512.903226</td>\n",
       "      <td>1770.875000</td>\n",
       "      <td>3447.333333</td>\n",
       "    </tr>\n",
       "    <tr>\n",
       "      <th>6</th>\n",
       "      <td>3509.129032</td>\n",
       "      <td>716.958333</td>\n",
       "      <td>9851.200000</td>\n",
       "    </tr>\n",
       "    <tr>\n",
       "      <th>7</th>\n",
       "      <td>0.000000</td>\n",
       "      <td>1.000000</td>\n",
       "      <td>2.000000</td>\n",
       "    </tr>\n",
       "  </tbody>\n",
       "</table>\n",
       "</div>"
      ],
      "text/plain": [
       "     cluster 0     cluster 1     cluster 2\n",
       "0    37.806452     46.250000     13.533333\n",
       "1  5043.548387  28681.250000  17266.666667\n",
       "2  3486.419355   5637.666667   2730.933333\n",
       "3  7017.741935   1298.750000  10721.666667\n",
       "4  2206.000000   1271.000000    590.866667\n",
       "5  2512.903226   1770.875000   3447.333333\n",
       "6  3509.129032    716.958333   9851.200000\n",
       "7     0.000000      1.000000      2.000000"
      ]
     },
     "execution_count": 34,
     "metadata": {},
     "output_type": "execute_result"
    }
   ],
   "source": [
    "df_results"
   ]
  },
  {
   "cell_type": "code",
   "execution_count": 37,
   "id": "1aaaae9e-056e-476d-b5e8-159ff110ef0a",
   "metadata": {},
   "outputs": [],
   "source": [
    "df_results = df_results.set_index(df_cluster.columns)\n",
    "df_results = df_results.drop(['No', 'cluster']).T"
   ]
  },
  {
   "cell_type": "code",
   "execution_count": 38,
   "id": "838bd66c-9e1a-4e64-a8aa-8e24b09ae64b",
   "metadata": {},
   "outputs": [
    {
     "data": {
      "text/html": [
       "<div>\n",
       "<style scoped>\n",
       "    .dataframe tbody tr th:only-of-type {\n",
       "        vertical-align: middle;\n",
       "    }\n",
       "\n",
       "    .dataframe tbody tr th {\n",
       "        vertical-align: top;\n",
       "    }\n",
       "\n",
       "    .dataframe thead th {\n",
       "        text-align: right;\n",
       "    }\n",
       "</style>\n",
       "<table border=\"1\" class=\"dataframe\">\n",
       "  <thead>\n",
       "    <tr style=\"text-align: right;\">\n",
       "      <th></th>\n",
       "      <th>弁当・麺類</th>\n",
       "      <th>飲料</th>\n",
       "      <th>おにぎり・サンドイッチ</th>\n",
       "      <th>スイーツ</th>\n",
       "      <th>カップスープ</th>\n",
       "      <th>サラダ</th>\n",
       "    </tr>\n",
       "  </thead>\n",
       "  <tbody>\n",
       "    <tr>\n",
       "      <th>cluster 0</th>\n",
       "      <td>5043.548387</td>\n",
       "      <td>3486.419355</td>\n",
       "      <td>7017.741935</td>\n",
       "      <td>2206.000000</td>\n",
       "      <td>2512.903226</td>\n",
       "      <td>3509.129032</td>\n",
       "    </tr>\n",
       "    <tr>\n",
       "      <th>cluster 1</th>\n",
       "      <td>28681.250000</td>\n",
       "      <td>5637.666667</td>\n",
       "      <td>1298.750000</td>\n",
       "      <td>1271.000000</td>\n",
       "      <td>1770.875000</td>\n",
       "      <td>716.958333</td>\n",
       "    </tr>\n",
       "    <tr>\n",
       "      <th>cluster 2</th>\n",
       "      <td>17266.666667</td>\n",
       "      <td>2730.933333</td>\n",
       "      <td>10721.666667</td>\n",
       "      <td>590.866667</td>\n",
       "      <td>3447.333333</td>\n",
       "      <td>9851.200000</td>\n",
       "    </tr>\n",
       "  </tbody>\n",
       "</table>\n",
       "</div>"
      ],
      "text/plain": [
       "                  弁当・麺類           飲料   おにぎり・サンドイッチ         スイーツ       カップスープ  \\\n",
       "cluster 0   5043.548387  3486.419355   7017.741935  2206.000000  2512.903226   \n",
       "cluster 1  28681.250000  5637.666667   1298.750000  1271.000000  1770.875000   \n",
       "cluster 2  17266.666667  2730.933333  10721.666667   590.866667  3447.333333   \n",
       "\n",
       "                   サラダ  \n",
       "cluster 0  3509.129032  \n",
       "cluster 1   716.958333  \n",
       "cluster 2  9851.200000  "
      ]
     },
     "execution_count": 38,
     "metadata": {},
     "output_type": "execute_result"
    }
   ],
   "source": [
    "df_results"
   ]
  },
  {
   "cell_type": "code",
   "execution_count": null,
   "id": "02060db5-4832-41f5-af35-db03f6a97f35",
   "metadata": {},
   "outputs": [],
   "source": []
  }
 ],
 "metadata": {
  "kernelspec": {
   "display_name": "Python 3",
   "language": "python",
   "name": "python3"
  },
  "language_info": {
   "codemirror_mode": {
    "name": "ipython",
    "version": 3
   },
   "file_extension": ".py",
   "mimetype": "text/x-python",
   "name": "python",
   "nbconvert_exporter": "python",
   "pygments_lexer": "ipython3",
   "version": "3.9.1"
  }
 },
 "nbformat": 4,
 "nbformat_minor": 5
}
