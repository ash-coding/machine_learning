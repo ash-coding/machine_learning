{
  "nbformat": 4,
  "nbformat_minor": 0,
  "metadata": {
    "colab": {
      "name": "NLP.ipynb",
      "provenance": [],
      "collapsed_sections": [],
      "authorship_tag": "ABX9TyPE8p/GvE+SXHdTfe7KSYLf"
    },
    "kernelspec": {
      "name": "python3",
      "display_name": "Python 3"
    },
    "language_info": {
      "name": "python"
    },
    "accelerator": "GPU"
  },
  "cells": [
    {
      "cell_type": "code",
      "metadata": {
        "colab": {
          "base_uri": "https://localhost:8080/"
        },
        "id": "K5rvkQ7wrccL",
        "outputId": "3e40de5a-cf57-422c-b0a6-cb73e6758cfd"
      },
      "source": [
        "# !apt install aptitude\n",
        "# !aptitude install mecab libmecab-dev mecab-ipadic-utf8 git make curl xz-utils file -y\n",
        "# !pip install mecab-python3==0.7"
      ],
      "execution_count": 3,
      "outputs": [
        {
          "output_type": "stream",
          "text": [
            "Reading package lists... Done\n",
            "Building dependency tree       \n",
            "Reading state information... Done\n",
            "The following package was automatically installed and is no longer required:\n",
            "  libnvidia-common-460\n",
            "Use 'apt autoremove' to remove it.\n",
            "The following additional packages will be installed:\n",
            "  aptitude-common libcgi-fast-perl libcgi-pm-perl libclass-accessor-perl\n",
            "  libcwidget3v5 libencode-locale-perl libfcgi-perl libhtml-parser-perl\n",
            "  libhtml-tagset-perl libhttp-date-perl libhttp-message-perl libio-html-perl\n",
            "  libio-string-perl liblwp-mediatypes-perl libparse-debianchangelog-perl\n",
            "  libsigc++-2.0-0v5 libsub-name-perl libtimedate-perl liburi-perl libxapian30\n",
            "Suggested packages:\n",
            "  aptitude-doc-en | aptitude-doc apt-xapian-index debtags tasksel\n",
            "  libcwidget-dev libdata-dump-perl libhtml-template-perl libxml-simple-perl\n",
            "  libwww-perl xapian-tools\n",
            "The following NEW packages will be installed:\n",
            "  aptitude aptitude-common libcgi-fast-perl libcgi-pm-perl\n",
            "  libclass-accessor-perl libcwidget3v5 libencode-locale-perl libfcgi-perl\n",
            "  libhtml-parser-perl libhtml-tagset-perl libhttp-date-perl\n",
            "  libhttp-message-perl libio-html-perl libio-string-perl\n",
            "  liblwp-mediatypes-perl libparse-debianchangelog-perl libsigc++-2.0-0v5\n",
            "  libsub-name-perl libtimedate-perl liburi-perl libxapian30\n",
            "0 upgraded, 21 newly installed, 0 to remove and 34 not upgraded.\n",
            "Need to get 3,877 kB of archives.\n",
            "After this operation, 15.6 MB of additional disk space will be used.\n",
            "Get:1 http://archive.ubuntu.com/ubuntu bionic/main amd64 aptitude-common all 0.8.10-6ubuntu1 [1,014 kB]\n",
            "Get:2 http://archive.ubuntu.com/ubuntu bionic/main amd64 libsigc++-2.0-0v5 amd64 2.10.0-2 [10.9 kB]\n",
            "Get:3 http://archive.ubuntu.com/ubuntu bionic/main amd64 libcwidget3v5 amd64 0.5.17-7 [286 kB]\n",
            "Get:4 http://archive.ubuntu.com/ubuntu bionic-updates/main amd64 libxapian30 amd64 1.4.5-1ubuntu0.1 [631 kB]\n",
            "Get:5 http://archive.ubuntu.com/ubuntu bionic/main amd64 aptitude amd64 0.8.10-6ubuntu1 [1,269 kB]\n",
            "Get:6 http://archive.ubuntu.com/ubuntu bionic/main amd64 libhtml-tagset-perl all 3.20-3 [12.1 kB]\n",
            "Get:7 http://archive.ubuntu.com/ubuntu bionic/main amd64 liburi-perl all 1.73-1 [77.2 kB]\n",
            "Get:8 http://archive.ubuntu.com/ubuntu bionic/main amd64 libhtml-parser-perl amd64 3.72-3build1 [85.9 kB]\n",
            "Get:9 http://archive.ubuntu.com/ubuntu bionic/main amd64 libcgi-pm-perl all 4.38-1 [185 kB]\n",
            "Get:10 http://archive.ubuntu.com/ubuntu bionic/main amd64 libfcgi-perl amd64 0.78-2build1 [32.8 kB]\n",
            "Get:11 http://archive.ubuntu.com/ubuntu bionic/main amd64 libcgi-fast-perl all 1:2.13-1 [9,940 B]\n",
            "Get:12 http://archive.ubuntu.com/ubuntu bionic/main amd64 libsub-name-perl amd64 0.21-1build1 [11.6 kB]\n",
            "Get:13 http://archive.ubuntu.com/ubuntu bionic/main amd64 libclass-accessor-perl all 0.51-1 [21.2 kB]\n",
            "Get:14 http://archive.ubuntu.com/ubuntu bionic/main amd64 libencode-locale-perl all 1.05-1 [12.3 kB]\n",
            "Get:15 http://archive.ubuntu.com/ubuntu bionic/main amd64 libtimedate-perl all 2.3000-2 [37.5 kB]\n",
            "Get:16 http://archive.ubuntu.com/ubuntu bionic/main amd64 libhttp-date-perl all 6.02-1 [10.4 kB]\n",
            "Get:17 http://archive.ubuntu.com/ubuntu bionic/main amd64 libio-html-perl all 1.001-1 [14.9 kB]\n",
            "Get:18 http://archive.ubuntu.com/ubuntu bionic/main amd64 liblwp-mediatypes-perl all 6.02-1 [21.7 kB]\n",
            "Get:19 http://archive.ubuntu.com/ubuntu bionic/main amd64 libhttp-message-perl all 6.14-1 [72.1 kB]\n",
            "Get:20 http://archive.ubuntu.com/ubuntu bionic/main amd64 libio-string-perl all 1.08-3 [11.1 kB]\n",
            "Get:21 http://archive.ubuntu.com/ubuntu bionic/main amd64 libparse-debianchangelog-perl all 1.2.0-12 [49.5 kB]\n",
            "Fetched 3,877 kB in 2s (2,055 kB/s)\n",
            "Selecting previously unselected package aptitude-common.\n",
            "(Reading database ... 160690 files and directories currently installed.)\n",
            "Preparing to unpack .../00-aptitude-common_0.8.10-6ubuntu1_all.deb ...\n",
            "Unpacking aptitude-common (0.8.10-6ubuntu1) ...\n",
            "Selecting previously unselected package libsigc++-2.0-0v5:amd64.\n",
            "Preparing to unpack .../01-libsigc++-2.0-0v5_2.10.0-2_amd64.deb ...\n",
            "Unpacking libsigc++-2.0-0v5:amd64 (2.10.0-2) ...\n",
            "Selecting previously unselected package libcwidget3v5:amd64.\n",
            "Preparing to unpack .../02-libcwidget3v5_0.5.17-7_amd64.deb ...\n",
            "Unpacking libcwidget3v5:amd64 (0.5.17-7) ...\n",
            "Selecting previously unselected package libxapian30:amd64.\n",
            "Preparing to unpack .../03-libxapian30_1.4.5-1ubuntu0.1_amd64.deb ...\n",
            "Unpacking libxapian30:amd64 (1.4.5-1ubuntu0.1) ...\n",
            "Selecting previously unselected package aptitude.\n",
            "Preparing to unpack .../04-aptitude_0.8.10-6ubuntu1_amd64.deb ...\n",
            "Unpacking aptitude (0.8.10-6ubuntu1) ...\n",
            "Selecting previously unselected package libhtml-tagset-perl.\n",
            "Preparing to unpack .../05-libhtml-tagset-perl_3.20-3_all.deb ...\n",
            "Unpacking libhtml-tagset-perl (3.20-3) ...\n",
            "Selecting previously unselected package liburi-perl.\n",
            "Preparing to unpack .../06-liburi-perl_1.73-1_all.deb ...\n",
            "Unpacking liburi-perl (1.73-1) ...\n",
            "Selecting previously unselected package libhtml-parser-perl.\n",
            "Preparing to unpack .../07-libhtml-parser-perl_3.72-3build1_amd64.deb ...\n",
            "Unpacking libhtml-parser-perl (3.72-3build1) ...\n",
            "Selecting previously unselected package libcgi-pm-perl.\n",
            "Preparing to unpack .../08-libcgi-pm-perl_4.38-1_all.deb ...\n",
            "Unpacking libcgi-pm-perl (4.38-1) ...\n",
            "Selecting previously unselected package libfcgi-perl.\n",
            "Preparing to unpack .../09-libfcgi-perl_0.78-2build1_amd64.deb ...\n",
            "Unpacking libfcgi-perl (0.78-2build1) ...\n",
            "Selecting previously unselected package libcgi-fast-perl.\n",
            "Preparing to unpack .../10-libcgi-fast-perl_1%3a2.13-1_all.deb ...\n",
            "Unpacking libcgi-fast-perl (1:2.13-1) ...\n",
            "Selecting previously unselected package libsub-name-perl.\n",
            "Preparing to unpack .../11-libsub-name-perl_0.21-1build1_amd64.deb ...\n",
            "Unpacking libsub-name-perl (0.21-1build1) ...\n",
            "Selecting previously unselected package libclass-accessor-perl.\n",
            "Preparing to unpack .../12-libclass-accessor-perl_0.51-1_all.deb ...\n",
            "Unpacking libclass-accessor-perl (0.51-1) ...\n",
            "Selecting previously unselected package libencode-locale-perl.\n",
            "Preparing to unpack .../13-libencode-locale-perl_1.05-1_all.deb ...\n",
            "Unpacking libencode-locale-perl (1.05-1) ...\n",
            "Selecting previously unselected package libtimedate-perl.\n",
            "Preparing to unpack .../14-libtimedate-perl_2.3000-2_all.deb ...\n",
            "Unpacking libtimedate-perl (2.3000-2) ...\n",
            "Selecting previously unselected package libhttp-date-perl.\n",
            "Preparing to unpack .../15-libhttp-date-perl_6.02-1_all.deb ...\n",
            "Unpacking libhttp-date-perl (6.02-1) ...\n",
            "Selecting previously unselected package libio-html-perl.\n",
            "Preparing to unpack .../16-libio-html-perl_1.001-1_all.deb ...\n",
            "Unpacking libio-html-perl (1.001-1) ...\n",
            "Selecting previously unselected package liblwp-mediatypes-perl.\n",
            "Preparing to unpack .../17-liblwp-mediatypes-perl_6.02-1_all.deb ...\n",
            "Unpacking liblwp-mediatypes-perl (6.02-1) ...\n",
            "Selecting previously unselected package libhttp-message-perl.\n",
            "Preparing to unpack .../18-libhttp-message-perl_6.14-1_all.deb ...\n",
            "Unpacking libhttp-message-perl (6.14-1) ...\n",
            "Selecting previously unselected package libio-string-perl.\n",
            "Preparing to unpack .../19-libio-string-perl_1.08-3_all.deb ...\n",
            "Unpacking libio-string-perl (1.08-3) ...\n",
            "Selecting previously unselected package libparse-debianchangelog-perl.\n",
            "Preparing to unpack .../20-libparse-debianchangelog-perl_1.2.0-12_all.deb ...\n",
            "Unpacking libparse-debianchangelog-perl (1.2.0-12) ...\n",
            "Setting up libhtml-tagset-perl (3.20-3) ...\n",
            "Setting up libxapian30:amd64 (1.4.5-1ubuntu0.1) ...\n",
            "Setting up libencode-locale-perl (1.05-1) ...\n",
            "Setting up libtimedate-perl (2.3000-2) ...\n",
            "Setting up libio-html-perl (1.001-1) ...\n",
            "Setting up aptitude-common (0.8.10-6ubuntu1) ...\n",
            "Setting up liblwp-mediatypes-perl (6.02-1) ...\n",
            "Setting up liburi-perl (1.73-1) ...\n",
            "Setting up libhtml-parser-perl (3.72-3build1) ...\n",
            "Setting up libcgi-pm-perl (4.38-1) ...\n",
            "Setting up libio-string-perl (1.08-3) ...\n",
            "Setting up libsub-name-perl (0.21-1build1) ...\n",
            "Setting up libfcgi-perl (0.78-2build1) ...\n",
            "Setting up libsigc++-2.0-0v5:amd64 (2.10.0-2) ...\n",
            "Setting up libclass-accessor-perl (0.51-1) ...\n",
            "Setting up libhttp-date-perl (6.02-1) ...\n",
            "Setting up libcgi-fast-perl (1:2.13-1) ...\n",
            "Setting up libparse-debianchangelog-perl (1.2.0-12) ...\n",
            "Setting up libhttp-message-perl (6.14-1) ...\n",
            "Setting up libcwidget3v5:amd64 (0.5.17-7) ...\n",
            "Setting up aptitude (0.8.10-6ubuntu1) ...\n",
            "update-alternatives: using /usr/bin/aptitude-curses to provide /usr/bin/aptitude (aptitude) in auto mode\n",
            "Processing triggers for man-db (2.8.3-2ubuntu0.1) ...\n",
            "Processing triggers for libc-bin (2.27-3ubuntu1.2) ...\n",
            "/sbin/ldconfig.real: /usr/local/lib/python3.7/dist-packages/ideep4py/lib/libmkldnn.so.0 is not a symbolic link\n",
            "\n",
            "git is already installed at the requested version (1:2.17.1-1ubuntu0.8)\n",
            "make is already installed at the requested version (4.1-9.1ubuntu1)\n",
            "curl is already installed at the requested version (7.58.0-2ubuntu3.13)\n",
            "xz-utils is already installed at the requested version (5.2.2-1.3)\n",
            "git is already installed at the requested version (1:2.17.1-1ubuntu0.8)\n",
            "make is already installed at the requested version (4.1-9.1ubuntu1)\n",
            "curl is already installed at the requested version (7.58.0-2ubuntu3.13)\n",
            "xz-utils is already installed at the requested version (5.2.2-1.3)\n",
            "The following NEW packages will be installed:\n",
            "  file libmagic-mgc{a} libmagic1{a} libmecab-dev libmecab2{a} mecab mecab-ipadic{a} mecab-ipadic-utf8 mecab-jumandic{a} mecab-jumandic-utf8{a} mecab-utils{a} \n",
            "The following packages will be REMOVED:\n",
            "  libnvidia-common-460{u} \n",
            "0 packages upgraded, 11 newly installed, 1 to remove and 34 not upgraded.\n",
            "Need to get 29.3 MB of archives. After unpacking 282 MB will be used.\n",
            "Get: 1 http://archive.ubuntu.com/ubuntu bionic-updates/main amd64 libmagic-mgc amd64 1:5.32-2ubuntu0.4 [184 kB]\n",
            "Get: 2 http://archive.ubuntu.com/ubuntu bionic-updates/main amd64 libmagic1 amd64 1:5.32-2ubuntu0.4 [68.6 kB]\n",
            "Get: 3 http://archive.ubuntu.com/ubuntu bionic-updates/main amd64 file amd64 1:5.32-2ubuntu0.4 [22.1 kB]\n",
            "Get: 4 http://archive.ubuntu.com/ubuntu bionic/universe amd64 libmecab2 amd64 0.996-5 [257 kB]\n",
            "Get: 5 http://archive.ubuntu.com/ubuntu bionic/universe amd64 libmecab-dev amd64 0.996-5 [308 kB]\n",
            "Get: 6 http://archive.ubuntu.com/ubuntu bionic/universe amd64 mecab-utils amd64 0.996-5 [4,856 B]\n",
            "Get: 7 http://archive.ubuntu.com/ubuntu bionic/universe amd64 mecab-jumandic-utf8 all 7.0-20130310-4 [16.2 MB]\n",
            "Get: 8 http://archive.ubuntu.com/ubuntu bionic/universe amd64 mecab-jumandic all 7.0-20130310-4 [2,212 B]\n",
            "Get: 9 http://archive.ubuntu.com/ubuntu bionic/universe amd64 mecab-ipadic all 2.7.0-20070801+main-1 [12.1 MB]\n",
            "Get: 10 http://archive.ubuntu.com/ubuntu bionic/universe amd64 mecab amd64 0.996-5 [132 kB]\n",
            "Get: 11 http://archive.ubuntu.com/ubuntu bionic/universe amd64 mecab-ipadic-utf8 all 2.7.0-20070801+main-1 [3,522 B]\n",
            "Fetched 29.3 MB in 3s (10.4 MB/s)\n",
            "(Reading database ... 161149 files and directories currently installed.)\n",
            "Removing libnvidia-common-460 (460.73.01-0ubuntu1) ...\n",
            "Selecting previously unselected package libmagic-mgc.\n",
            "(Reading database ... 161144 files and directories currently installed.)\n",
            "Preparing to unpack .../00-libmagic-mgc_1%3a5.32-2ubuntu0.4_amd64.deb ...\n",
            "Unpacking libmagic-mgc (1:5.32-2ubuntu0.4) ...\n",
            "Selecting previously unselected package libmagic1:amd64.\n",
            "Preparing to unpack .../01-libmagic1_1%3a5.32-2ubuntu0.4_amd64.deb ...\n",
            "Unpacking libmagic1:amd64 (1:5.32-2ubuntu0.4) ...\n",
            "Selecting previously unselected package file.\n",
            "Preparing to unpack .../02-file_1%3a5.32-2ubuntu0.4_amd64.deb ...\n",
            "Unpacking file (1:5.32-2ubuntu0.4) ...\n",
            "Selecting previously unselected package libmecab2:amd64.\n",
            "Preparing to unpack .../03-libmecab2_0.996-5_amd64.deb ...\n",
            "Unpacking libmecab2:amd64 (0.996-5) ...\n",
            "Selecting previously unselected package libmecab-dev.\n",
            "Preparing to unpack .../04-libmecab-dev_0.996-5_amd64.deb ...\n",
            "Unpacking libmecab-dev (0.996-5) ...\n",
            "Selecting previously unselected package mecab-utils.\n",
            "Preparing to unpack .../05-mecab-utils_0.996-5_amd64.deb ...\n",
            "Unpacking mecab-utils (0.996-5) ...\n",
            "Selecting previously unselected package mecab-jumandic-utf8.\n",
            "Preparing to unpack .../06-mecab-jumandic-utf8_7.0-20130310-4_all.deb ...\n",
            "Unpacking mecab-jumandic-utf8 (7.0-20130310-4) ...\n",
            "Selecting previously unselected package mecab-jumandic.\n",
            "Preparing to unpack .../07-mecab-jumandic_7.0-20130310-4_all.deb ...\n",
            "Unpacking mecab-jumandic (7.0-20130310-4) ...\n",
            "Selecting previously unselected package mecab-ipadic.\n",
            "Preparing to unpack .../08-mecab-ipadic_2.7.0-20070801+main-1_all.deb ...\n",
            "Unpacking mecab-ipadic (2.7.0-20070801+main-1) ...\n",
            "Selecting previously unselected package mecab.\n",
            "Preparing to unpack .../09-mecab_0.996-5_amd64.deb ...\n",
            "Unpacking mecab (0.996-5) ...\n",
            "Selecting previously unselected package mecab-ipadic-utf8.\n",
            "Preparing to unpack .../10-mecab-ipadic-utf8_2.7.0-20070801+main-1_all.deb ...\n",
            "Unpacking mecab-ipadic-utf8 (2.7.0-20070801+main-1) ...\n",
            "Setting up libmecab2:amd64 (0.996-5) ...\n",
            "Setting up libmagic-mgc (1:5.32-2ubuntu0.4) ...\n",
            "Setting up libmagic1:amd64 (1:5.32-2ubuntu0.4) ...\n",
            "Setting up mecab-utils (0.996-5) ...\n",
            "Setting up mecab-ipadic (2.7.0-20070801+main-1) ...\n",
            "Compiling IPA dictionary for Mecab.  This takes long time...\n",
            "reading /usr/share/mecab/dic/ipadic/unk.def ... 40\n",
            "emitting double-array: 100% |###########################################| \n",
            "/usr/share/mecab/dic/ipadic/model.def is not found. skipped.\n",
            "reading /usr/share/mecab/dic/ipadic/Adverb.csv ... 3032\n",
            "reading /usr/share/mecab/dic/ipadic/Noun.number.csv ... 42\n",
            "reading /usr/share/mecab/dic/ipadic/Adnominal.csv ... 135\n",
            "reading /usr/share/mecab/dic/ipadic/Prefix.csv ... 221\n",
            "reading /usr/share/mecab/dic/ipadic/Adj.csv ... 27210\n",
            "reading /usr/share/mecab/dic/ipadic/Noun.proper.csv ... 27327\n",
            "reading /usr/share/mecab/dic/ipadic/Noun.adverbal.csv ... 795\n",
            "reading /usr/share/mecab/dic/ipadic/Noun.demonst.csv ... 120\n",
            "reading /usr/share/mecab/dic/ipadic/Noun.adjv.csv ... 3328\n",
            "reading /usr/share/mecab/dic/ipadic/Postp.csv ... 146\n",
            "reading /usr/share/mecab/dic/ipadic/Interjection.csv ... 252\n",
            "reading /usr/share/mecab/dic/ipadic/Noun.others.csv ... 151\n",
            "reading /usr/share/mecab/dic/ipadic/Noun.place.csv ... 72999\n",
            "reading /usr/share/mecab/dic/ipadic/Postp-col.csv ... 91\n",
            "reading /usr/share/mecab/dic/ipadic/Noun.name.csv ... 34202\n",
            "reading /usr/share/mecab/dic/ipadic/Auxil.csv ... 199\n",
            "reading /usr/share/mecab/dic/ipadic/Suffix.csv ... 1393\n",
            "reading /usr/share/mecab/dic/ipadic/Others.csv ... 2\n",
            "reading /usr/share/mecab/dic/ipadic/Verb.csv ... 130750\n",
            "reading /usr/share/mecab/dic/ipadic/Conjunction.csv ... 171\n",
            "reading /usr/share/mecab/dic/ipadic/Noun.verbal.csv ... 12146\n",
            "reading /usr/share/mecab/dic/ipadic/Symbol.csv ... 208\n",
            "reading /usr/share/mecab/dic/ipadic/Noun.csv ... 60477\n",
            "reading /usr/share/mecab/dic/ipadic/Filler.csv ... 19\n",
            "reading /usr/share/mecab/dic/ipadic/Noun.nai.csv ... 42\n",
            "reading /usr/share/mecab/dic/ipadic/Noun.org.csv ... 16668\n",
            "emitting double-array: 100% |###########################################| \n",
            "reading /usr/share/mecab/dic/ipadic/matrix.def ... 1316x1316\n",
            "emitting matrix      : 100% |###########################################| \n",
            "\n",
            "done!\n",
            "update-alternatives: using /var/lib/mecab/dic/ipadic to provide /var/lib/mecab/dic/debian (mecab-dictionary) in auto mode\n",
            "Setting up libmecab-dev (0.996-5) ...\n",
            "Setting up file (1:5.32-2ubuntu0.4) ...\n",
            "Setting up mecab-jumandic-utf8 (7.0-20130310-4) ...\n",
            "Compiling Juman dictionary for Mecab.\n",
            "reading /usr/share/mecab/dic/juman/unk.def ... 37\n",
            "emitting double-array: 100% |###########################################| \n",
            "reading /usr/share/mecab/dic/juman/Noun.suusi.csv ... 49\n",
            "reading /usr/share/mecab/dic/juman/Rengo.csv ... 1118\n",
            "reading /usr/share/mecab/dic/juman/Prefix.csv ... 90\n",
            "reading /usr/share/mecab/dic/juman/Demonstrative.csv ... 97\n",
            "reading /usr/share/mecab/dic/juman/Emoticon.csv ... 972\n",
            "reading /usr/share/mecab/dic/juman/Postp.csv ... 108\n",
            "reading /usr/share/mecab/dic/juman/Noun.keishiki.csv ... 8\n",
            "reading /usr/share/mecab/dic/juman/Auto.csv ... 18931\n",
            "reading /usr/share/mecab/dic/juman/Wikipedia.csv ... 167709\n",
            "reading /usr/share/mecab/dic/juman/Assert.csv ... 34\n",
            "reading /usr/share/mecab/dic/juman/Suffix.csv ... 2128\n",
            "reading /usr/share/mecab/dic/juman/Noun.koyuu.csv ... 7964\n",
            "reading /usr/share/mecab/dic/juman/AuxV.csv ... 593\n",
            "reading /usr/share/mecab/dic/juman/ContentW.csv ... 551145\n",
            "reading /usr/share/mecab/dic/juman/Noun.hukusi.csv ... 81\n",
            "reading /usr/share/mecab/dic/juman/Special.csv ... 158\n",
            "emitting double-array: 100% |###########################################| \n",
            "reading /usr/share/mecab/dic/juman/matrix.def ... 1876x1876\n",
            "emitting matrix      : 100% |###########################################| \n",
            "\n",
            "done!\n",
            "Setting up mecab-ipadic-utf8 (2.7.0-20070801+main-1) ...\n",
            "Compiling IPA dictionary for Mecab.  This takes long time...\n",
            "reading /usr/share/mecab/dic/ipadic/unk.def ... 40\n",
            "emitting double-array: 100% |###########################################| \n",
            "/usr/share/mecab/dic/ipadic/model.def is not found. skipped.\n",
            "reading /usr/share/mecab/dic/ipadic/Adverb.csv ... 3032\n",
            "reading /usr/share/mecab/dic/ipadic/Noun.number.csv ... 42\n",
            "reading /usr/share/mecab/dic/ipadic/Adnominal.csv ... 135\n",
            "reading /usr/share/mecab/dic/ipadic/Prefix.csv ... 221\n",
            "reading /usr/share/mecab/dic/ipadic/Adj.csv ... 27210\n",
            "reading /usr/share/mecab/dic/ipadic/Noun.proper.csv ... 27327\n",
            "reading /usr/share/mecab/dic/ipadic/Noun.adverbal.csv ... 795\n",
            "reading /usr/share/mecab/dic/ipadic/Noun.demonst.csv ... 120\n",
            "reading /usr/share/mecab/dic/ipadic/Noun.adjv.csv ... 3328\n",
            "reading /usr/share/mecab/dic/ipadic/Postp.csv ... 146\n",
            "reading /usr/share/mecab/dic/ipadic/Interjection.csv ... 252\n",
            "reading /usr/share/mecab/dic/ipadic/Noun.others.csv ... 151\n",
            "reading /usr/share/mecab/dic/ipadic/Noun.place.csv ... 72999\n",
            "reading /usr/share/mecab/dic/ipadic/Postp-col.csv ... 91\n",
            "reading /usr/share/mecab/dic/ipadic/Noun.name.csv ... 34202\n",
            "reading /usr/share/mecab/dic/ipadic/Auxil.csv ... 199\n",
            "reading /usr/share/mecab/dic/ipadic/Suffix.csv ... 1393\n",
            "reading /usr/share/mecab/dic/ipadic/Others.csv ... 2\n",
            "reading /usr/share/mecab/dic/ipadic/Verb.csv ... 130750\n",
            "reading /usr/share/mecab/dic/ipadic/Conjunction.csv ... 171\n",
            "reading /usr/share/mecab/dic/ipadic/Noun.verbal.csv ... 12146\n",
            "reading /usr/share/mecab/dic/ipadic/Symbol.csv ... 208\n",
            "reading /usr/share/mecab/dic/ipadic/Noun.csv ... 60477\n",
            "reading /usr/share/mecab/dic/ipadic/Filler.csv ... 19\n",
            "reading /usr/share/mecab/dic/ipadic/Noun.nai.csv ... 42\n",
            "reading /usr/share/mecab/dic/ipadic/Noun.org.csv ... 16668\n",
            "emitting double-array: 100% |###########################################| \n",
            "reading /usr/share/mecab/dic/ipadic/matrix.def ... 1316x1316\n",
            "emitting matrix      : 100% |###########################################| \n",
            "\n",
            "done!\n",
            "update-alternatives: using /var/lib/mecab/dic/ipadic-utf8 to provide /var/lib/mecab/dic/debian (mecab-dictionary) in auto mode\n",
            "Setting up mecab (0.996-5) ...\n",
            "Compiling IPA dictionary for Mecab.  This takes long time...\n",
            "reading /usr/share/mecab/dic/ipadic/unk.def ... 40\n",
            "emitting double-array: 100% |###########################################| \n",
            "/usr/share/mecab/dic/ipadic/model.def is not found. skipped.\n",
            "reading /usr/share/mecab/dic/ipadic/Adverb.csv ... 3032\n",
            "reading /usr/share/mecab/dic/ipadic/Noun.number.csv ... 42\n",
            "reading /usr/share/mecab/dic/ipadic/Adnominal.csv ... 135\n",
            "reading /usr/share/mecab/dic/ipadic/Prefix.csv ... 221\n",
            "reading /usr/share/mecab/dic/ipadic/Adj.csv ... 27210\n",
            "reading /usr/share/mecab/dic/ipadic/Noun.proper.csv ... 27327\n",
            "reading /usr/share/mecab/dic/ipadic/Noun.adverbal.csv ... 795\n",
            "reading /usr/share/mecab/dic/ipadic/Noun.demonst.csv ... 120\n",
            "reading /usr/share/mecab/dic/ipadic/Noun.adjv.csv ... 3328\n",
            "reading /usr/share/mecab/dic/ipadic/Postp.csv ... 146\n",
            "reading /usr/share/mecab/dic/ipadic/Interjection.csv ... 252\n",
            "reading /usr/share/mecab/dic/ipadic/Noun.others.csv ... 151\n",
            "reading /usr/share/mecab/dic/ipadic/Noun.place.csv ... 72999\n",
            "reading /usr/share/mecab/dic/ipadic/Postp-col.csv ... 91\n",
            "reading /usr/share/mecab/dic/ipadic/Noun.name.csv ... 34202\n",
            "reading /usr/share/mecab/dic/ipadic/Auxil.csv ... 199\n",
            "reading /usr/share/mecab/dic/ipadic/Suffix.csv ... 1393\n",
            "reading /usr/share/mecab/dic/ipadic/Others.csv ... 2\n",
            "reading /usr/share/mecab/dic/ipadic/Verb.csv ... 130750\n",
            "reading /usr/share/mecab/dic/ipadic/Conjunction.csv ... 171\n",
            "reading /usr/share/mecab/dic/ipadic/Noun.verbal.csv ... 12146\n",
            "reading /usr/share/mecab/dic/ipadic/Symbol.csv ... 208\n",
            "reading /usr/share/mecab/dic/ipadic/Noun.csv ... 60477\n",
            "reading /usr/share/mecab/dic/ipadic/Filler.csv ... 19\n",
            "reading /usr/share/mecab/dic/ipadic/Noun.nai.csv ... 42\n",
            "reading /usr/share/mecab/dic/ipadic/Noun.org.csv ... 16668\n",
            "emitting double-array: 100% |###########################################| \n",
            "reading /usr/share/mecab/dic/ipadic/matrix.def ... 1316x1316\n",
            "emitting matrix      : 100% |###########################################| \n",
            "\n",
            "done!\n",
            "Setting up mecab-jumandic (7.0-20130310-4) ...\n",
            "Processing triggers for man-db (2.8.3-2ubuntu0.1) ...\n",
            "Processing triggers for libc-bin (2.27-3ubuntu1.2) ...\n",
            "/sbin/ldconfig.real: /usr/local/lib/python3.7/dist-packages/ideep4py/lib/libmkldnn.so.0 is not a symbolic link\n",
            "\n",
            "                            \n",
            "Collecting mecab-python3==0.7\n",
            "\u001b[?25l  Downloading https://files.pythonhosted.org/packages/25/e9/bbf5fc790a2bedd96fbaf47a84afa060bfb0b3e0217e5f64b32bd4bbad69/mecab-python3-0.7.tar.gz (41kB)\n",
            "\u001b[K     |████████████████████████████████| 51kB 5.9MB/s \n",
            "\u001b[?25hBuilding wheels for collected packages: mecab-python3\n",
            "  Building wheel for mecab-python3 (setup.py) ... \u001b[?25l\u001b[?25hdone\n",
            "  Created wheel for mecab-python3: filename=mecab_python3-0.7-cp37-cp37m-linux_x86_64.whl size=156573 sha256=483add295f42ad549c6b688937e0a10c548d23400de44366e285d78ad107a7a6\n",
            "  Stored in directory: /root/.cache/pip/wheels/4c/07/3a/5f22ccc9f381f3bc01fa023202061cd1e0e9af855292f005dd\n",
            "Successfully built mecab-python3\n",
            "Installing collected packages: mecab-python3\n",
            "Successfully installed mecab-python3-0.7\n"
          ],
          "name": "stdout"
        }
      ]
    },
    {
      "cell_type": "code",
      "metadata": {
        "id": "yxH_Xn0cr3Dm"
      },
      "source": [
        "import MeCab\n",
        "mecab = MeCab.Tagger('-Ochasen')"
      ],
      "execution_count": 4,
      "outputs": []
    },
    {
      "cell_type": "code",
      "metadata": {
        "id": "qPVb4261sZA6"
      },
      "source": [
        "res = mecab.parse('こんにちは、私はキカガクです。')"
      ],
      "execution_count": 5,
      "outputs": []
    },
    {
      "cell_type": "code",
      "metadata": {
        "colab": {
          "base_uri": "https://localhost:8080/"
        },
        "id": "swDZNrF_sk9y",
        "outputId": "c35935f0-8cf5-48a5-db98-f3309c2a48f9"
      },
      "source": [
        "print(res)"
      ],
      "execution_count": 6,
      "outputs": [
        {
          "output_type": "stream",
          "text": [
            "こんにちは\tコンニチハ\tこんにちは\t感動詞\t\t\n",
            "、\t、\t、\t記号-読点\t\t\n",
            "私\tワタシ\t私\t名詞-代名詞-一般\t\t\n",
            "は\tハ\tは\t助詞-係助詞\t\t\n",
            "キカガク\tキカガク\tキカガク\t名詞-一般\t\t\n",
            "です\tデス\tです\t助動詞\t特殊・デス\t基本形\n",
            "。\t。\t。\t記号-句点\t\t\n",
            "EOS\n",
            "\n"
          ],
          "name": "stdout"
        }
      ]
    },
    {
      "cell_type": "code",
      "metadata": {
        "colab": {
          "base_uri": "https://localhost:8080/",
          "height": 52
        },
        "id": "ldehWG5Wsux1",
        "outputId": "d9867550-835b-4939-ff09-9cb46bce4a8b"
      },
      "source": [
        "res"
      ],
      "execution_count": 7,
      "outputs": [
        {
          "output_type": "execute_result",
          "data": {
            "application/vnd.google.colaboratory.intrinsic+json": {
              "type": "string"
            },
            "text/plain": [
              "'こんにちは\\tコンニチハ\\tこんにちは\\t感動詞\\t\\t\\n、\\t、\\t、\\t記号-読点\\t\\t\\n私\\tワタシ\\t私\\t名詞-代名詞-一般\\t\\t\\nは\\tハ\\tは\\t助詞-係助詞\\t\\t\\nキカガク\\tキカガク\\tキカガク\\t名詞-一般\\t\\t\\nです\\tデス\\tです\\t助動詞\\t特殊・デス\\t基本形\\n。\\t。\\t。\\t記号-句点\\t\\t\\nEOS\\n'"
            ]
          },
          "metadata": {
            "tags": []
          },
          "execution_count": 7
        }
      ]
    },
    {
      "cell_type": "code",
      "metadata": {
        "id": "jhUToZcdsy0Q"
      },
      "source": [
        "text1 = 'キカガクでは、ディープラーニングを含んだ機械学習や人工知能の教育を行っています。'\n",
        "text2 = '代表の吉崎は大学院では機械学習・ロボットのシステム制御、画像処理の研究に携わっていました。'\n",
        "text3 = '機械学習、システム制御、画像処理ではすべて線形代数とプログラミングが不可欠になります。'"
      ],
      "execution_count": 8,
      "outputs": []
    },
    {
      "cell_type": "code",
      "metadata": {
        "colab": {
          "base_uri": "https://localhost:8080/"
        },
        "id": "psl6H6Sxs-yW",
        "outputId": "3586ea6e-90ae-456f-90cd-10df891e6c78"
      },
      "source": [
        "res = mecab.parse(text1)\n",
        "print(res)"
      ],
      "execution_count": 9,
      "outputs": [
        {
          "output_type": "stream",
          "text": [
            "キカガク\tキカガク\tキカガク\t名詞-一般\t\t\n",
            "で\tデ\tで\t助詞-格助詞-一般\t\t\n",
            "は\tハ\tは\t助詞-係助詞\t\t\n",
            "、\t、\t、\t記号-読点\t\t\n",
            "ディープラーニング\tディープラーニング\tディープラーニング\t名詞-一般\t\t\n",
            "を\tヲ\tを\t助詞-格助詞-一般\t\t\n",
            "含ん\tフクン\t含む\t動詞-自立\t五段・マ行\t連用タ接続\n",
            "だ\tダ\tだ\t助動詞\t特殊・タ\t基本形\n",
            "機械\tキカイ\t機械\t名詞-一般\t\t\n",
            "学習\tガクシュウ\t学習\t名詞-サ変接続\t\t\n",
            "や\tヤ\tや\t助詞-並立助詞\t\t\n",
            "人工\tジンコウ\t人工\t名詞-一般\t\t\n",
            "知能\tチノウ\t知能\t名詞-一般\t\t\n",
            "の\tノ\tの\t助詞-連体化\t\t\n",
            "教育\tキョウイク\t教育\t名詞-サ変接続\t\t\n",
            "を\tヲ\tを\t助詞-格助詞-一般\t\t\n",
            "行っ\tオコナッ\t行う\t動詞-自立\t五段・ワ行促音便\t連用タ接続\n",
            "て\tテ\tて\t助詞-接続助詞\t\t\n",
            "い\tイ\tいる\t動詞-非自立\t一段\t連用形\n",
            "ます\tマス\tます\t助動詞\t特殊・マス\t基本形\n",
            "。\t。\t。\t記号-句点\t\t\n",
            "EOS\n",
            "\n"
          ],
          "name": "stdout"
        }
      ]
    },
    {
      "cell_type": "code",
      "metadata": {
        "colab": {
          "base_uri": "https://localhost:8080/",
          "height": 103
        },
        "id": "NHiJsWEFtDZe",
        "outputId": "9e1104e2-f77e-4cdc-e120-eed1d423894a"
      },
      "source": [
        "res"
      ],
      "execution_count": 10,
      "outputs": [
        {
          "output_type": "execute_result",
          "data": {
            "application/vnd.google.colaboratory.intrinsic+json": {
              "type": "string"
            },
            "text/plain": [
              "'キカガク\\tキカガク\\tキカガク\\t名詞-一般\\t\\t\\nで\\tデ\\tで\\t助詞-格助詞-一般\\t\\t\\nは\\tハ\\tは\\t助詞-係助詞\\t\\t\\n、\\t、\\t、\\t記号-読点\\t\\t\\nディープラーニング\\tディープラーニング\\tディープラーニング\\t名詞-一般\\t\\t\\nを\\tヲ\\tを\\t助詞-格助詞-一般\\t\\t\\n含ん\\tフクン\\t含む\\t動詞-自立\\t五段・マ行\\t連用タ接続\\nだ\\tダ\\tだ\\t助動詞\\t特殊・タ\\t基本形\\n機械\\tキカイ\\t機械\\t名詞-一般\\t\\t\\n学習\\tガクシュウ\\t学習\\t名詞-サ変接続\\t\\t\\nや\\tヤ\\tや\\t助詞-並立助詞\\t\\t\\n人工\\tジンコウ\\t人工\\t名詞-一般\\t\\t\\n知能\\tチノウ\\t知能\\t名詞-一般\\t\\t\\nの\\tノ\\tの\\t助詞-連体化\\t\\t\\n教育\\tキョウイク\\t教育\\t名詞-サ変接続\\t\\t\\nを\\tヲ\\tを\\t助詞-格助詞-一般\\t\\t\\n行っ\\tオコナッ\\t行う\\t動詞-自立\\t五段・ワ行促音便\\t連用タ接続\\nて\\tテ\\tて\\t助詞-接続助詞\\t\\t\\nい\\tイ\\tいる\\t動詞-非自立\\t一段\\t連用形\\nます\\tマス\\tます\\t助動詞\\t特殊・マス\\t基本形\\n。\\t。\\t。\\t記号-句点\\t\\t\\nEOS\\n'"
            ]
          },
          "metadata": {
            "tags": []
          },
          "execution_count": 10
        }
      ]
    },
    {
      "cell_type": "code",
      "metadata": {
        "colab": {
          "base_uri": "https://localhost:8080/"
        },
        "id": "XZOqW5JptHd_",
        "outputId": "ee7f258f-e887-4a81-8bf7-f8f949eff380"
      },
      "source": [
        "res.split('\\n')"
      ],
      "execution_count": 11,
      "outputs": [
        {
          "output_type": "execute_result",
          "data": {
            "text/plain": [
              "['キカガク\\tキカガク\\tキカガク\\t名詞-一般\\t\\t',\n",
              " 'で\\tデ\\tで\\t助詞-格助詞-一般\\t\\t',\n",
              " 'は\\tハ\\tは\\t助詞-係助詞\\t\\t',\n",
              " '、\\t、\\t、\\t記号-読点\\t\\t',\n",
              " 'ディープラーニング\\tディープラーニング\\tディープラーニング\\t名詞-一般\\t\\t',\n",
              " 'を\\tヲ\\tを\\t助詞-格助詞-一般\\t\\t',\n",
              " '含ん\\tフクン\\t含む\\t動詞-自立\\t五段・マ行\\t連用タ接続',\n",
              " 'だ\\tダ\\tだ\\t助動詞\\t特殊・タ\\t基本形',\n",
              " '機械\\tキカイ\\t機械\\t名詞-一般\\t\\t',\n",
              " '学習\\tガクシュウ\\t学習\\t名詞-サ変接続\\t\\t',\n",
              " 'や\\tヤ\\tや\\t助詞-並立助詞\\t\\t',\n",
              " '人工\\tジンコウ\\t人工\\t名詞-一般\\t\\t',\n",
              " '知能\\tチノウ\\t知能\\t名詞-一般\\t\\t',\n",
              " 'の\\tノ\\tの\\t助詞-連体化\\t\\t',\n",
              " '教育\\tキョウイク\\t教育\\t名詞-サ変接続\\t\\t',\n",
              " 'を\\tヲ\\tを\\t助詞-格助詞-一般\\t\\t',\n",
              " '行っ\\tオコナッ\\t行う\\t動詞-自立\\t五段・ワ行促音便\\t連用タ接続',\n",
              " 'て\\tテ\\tて\\t助詞-接続助詞\\t\\t',\n",
              " 'い\\tイ\\tいる\\t動詞-非自立\\t一段\\t連用形',\n",
              " 'ます\\tマス\\tます\\t助動詞\\t特殊・マス\\t基本形',\n",
              " '。\\t。\\t。\\t記号-句点\\t\\t',\n",
              " 'EOS',\n",
              " '']"
            ]
          },
          "metadata": {
            "tags": []
          },
          "execution_count": 11
        }
      ]
    },
    {
      "cell_type": "code",
      "metadata": {
        "colab": {
          "base_uri": "https://localhost:8080/"
        },
        "id": "Qf_UxITotMen",
        "outputId": "4f66a2d9-ffa5-4747-d15c-8c105aeec195"
      },
      "source": [
        "res.split('\\n')[:-2]"
      ],
      "execution_count": 12,
      "outputs": [
        {
          "output_type": "execute_result",
          "data": {
            "text/plain": [
              "['キカガク\\tキカガク\\tキカガク\\t名詞-一般\\t\\t',\n",
              " 'で\\tデ\\tで\\t助詞-格助詞-一般\\t\\t',\n",
              " 'は\\tハ\\tは\\t助詞-係助詞\\t\\t',\n",
              " '、\\t、\\t、\\t記号-読点\\t\\t',\n",
              " 'ディープラーニング\\tディープラーニング\\tディープラーニング\\t名詞-一般\\t\\t',\n",
              " 'を\\tヲ\\tを\\t助詞-格助詞-一般\\t\\t',\n",
              " '含ん\\tフクン\\t含む\\t動詞-自立\\t五段・マ行\\t連用タ接続',\n",
              " 'だ\\tダ\\tだ\\t助動詞\\t特殊・タ\\t基本形',\n",
              " '機械\\tキカイ\\t機械\\t名詞-一般\\t\\t',\n",
              " '学習\\tガクシュウ\\t学習\\t名詞-サ変接続\\t\\t',\n",
              " 'や\\tヤ\\tや\\t助詞-並立助詞\\t\\t',\n",
              " '人工\\tジンコウ\\t人工\\t名詞-一般\\t\\t',\n",
              " '知能\\tチノウ\\t知能\\t名詞-一般\\t\\t',\n",
              " 'の\\tノ\\tの\\t助詞-連体化\\t\\t',\n",
              " '教育\\tキョウイク\\t教育\\t名詞-サ変接続\\t\\t',\n",
              " 'を\\tヲ\\tを\\t助詞-格助詞-一般\\t\\t',\n",
              " '行っ\\tオコナッ\\t行う\\t動詞-自立\\t五段・ワ行促音便\\t連用タ接続',\n",
              " 'て\\tテ\\tて\\t助詞-接続助詞\\t\\t',\n",
              " 'い\\tイ\\tいる\\t動詞-非自立\\t一段\\t連用形',\n",
              " 'ます\\tマス\\tます\\t助動詞\\t特殊・マス\\t基本形',\n",
              " '。\\t。\\t。\\t記号-句点\\t\\t']"
            ]
          },
          "metadata": {
            "tags": []
          },
          "execution_count": 12
        }
      ]
    },
    {
      "cell_type": "code",
      "metadata": {
        "colab": {
          "base_uri": "https://localhost:8080/",
          "height": 35
        },
        "id": "wTpiI_fItSpz",
        "outputId": "c2f0c80f-c4a9-4467-fef8-cdb613845c37"
      },
      "source": [
        "res.split('\\n')[0]"
      ],
      "execution_count": 13,
      "outputs": [
        {
          "output_type": "execute_result",
          "data": {
            "application/vnd.google.colaboratory.intrinsic+json": {
              "type": "string"
            },
            "text/plain": [
              "'キカガク\\tキカガク\\tキカガク\\t名詞-一般\\t\\t'"
            ]
          },
          "metadata": {
            "tags": []
          },
          "execution_count": 13
        }
      ]
    },
    {
      "cell_type": "code",
      "metadata": {
        "colab": {
          "base_uri": "https://localhost:8080/",
          "height": 35
        },
        "id": "PQX4yvs-tYdi",
        "outputId": "615d2ef6-54c8-44b2-d3e1-660e7a015108"
      },
      "source": [
        "res.split('\\n')[0].split('\\t')[3]"
      ],
      "execution_count": 14,
      "outputs": [
        {
          "output_type": "execute_result",
          "data": {
            "application/vnd.google.colaboratory.intrinsic+json": {
              "type": "string"
            },
            "text/plain": [
              "'名詞-一般'"
            ]
          },
          "metadata": {
            "tags": []
          },
          "execution_count": 14
        }
      ]
    },
    {
      "cell_type": "code",
      "metadata": {
        "id": "B1x-TNfrtdgG"
      },
      "source": [
        "nouns = []\n",
        "res = mecab.parse(text1)\n",
        "words = res.split('\\n')[:-2]\n",
        "for word in words:\n",
        "  part = word.split('\\t')\n",
        "  if '名詞' in part[3]:\n",
        "    nouns.append(part[0])"
      ],
      "execution_count": 15,
      "outputs": []
    },
    {
      "cell_type": "code",
      "metadata": {
        "colab": {
          "base_uri": "https://localhost:8080/"
        },
        "id": "arKKaznOt_3K",
        "outputId": "b39c0120-f474-4e21-e4c9-6ed3a882fa38"
      },
      "source": [
        "nouns"
      ],
      "execution_count": 16,
      "outputs": [
        {
          "output_type": "execute_result",
          "data": {
            "text/plain": [
              "['キカガク', 'ディープラーニング', '機械', '学習', '人工', '知能', '教育']"
            ]
          },
          "metadata": {
            "tags": []
          },
          "execution_count": 16
        }
      ]
    },
    {
      "cell_type": "code",
      "metadata": {
        "id": "uHdFxupOuAug"
      },
      "source": [
        "def get_nouns(text):\n",
        "  nouns = []\n",
        "  res = mecab.parse(text)\n",
        "  words = res.split('\\n')[:-2]\n",
        "  for word in words:\n",
        "    part = word.split('\\t')\n",
        "    if '名詞' in part[3]:\n",
        "      nouns.append(part[0])\n",
        "  return nouns"
      ],
      "execution_count": 17,
      "outputs": []
    },
    {
      "cell_type": "code",
      "metadata": {
        "colab": {
          "base_uri": "https://localhost:8080/"
        },
        "id": "ZrbJm5-quNNH",
        "outputId": "2cce8ee3-fbe6-4c50-ec71-ffb3f9fc3e22"
      },
      "source": [
        "nouns1 = get_nouns(text1)\n",
        "nouns1"
      ],
      "execution_count": 18,
      "outputs": [
        {
          "output_type": "execute_result",
          "data": {
            "text/plain": [
              "['キカガク', 'ディープラーニング', '機械', '学習', '人工', '知能', '教育']"
            ]
          },
          "metadata": {
            "tags": []
          },
          "execution_count": 18
        }
      ]
    },
    {
      "cell_type": "code",
      "metadata": {
        "colab": {
          "base_uri": "https://localhost:8080/"
        },
        "id": "skZCAu3puRRc",
        "outputId": "569d6046-e3d9-4dc7-ac16-9c0d17015809"
      },
      "source": [
        "nouns2 = get_nouns(text2)\n",
        "nouns2"
      ],
      "execution_count": 19,
      "outputs": [
        {
          "output_type": "execute_result",
          "data": {
            "text/plain": [
              "['代表', '吉崎', '大学院', '機械', '学習', 'ロボット', 'システム', '制御', '画像', '処理', '研究']"
            ]
          },
          "metadata": {
            "tags": []
          },
          "execution_count": 19
        }
      ]
    },
    {
      "cell_type": "code",
      "metadata": {
        "colab": {
          "base_uri": "https://localhost:8080/"
        },
        "id": "_VIwp1NZuUYQ",
        "outputId": "693a6a4c-a150-4c33-f5d8-7cf5a5c0d698"
      },
      "source": [
        "nouns3 = get_nouns(text3)\n",
        "nouns3"
      ],
      "execution_count": 20,
      "outputs": [
        {
          "output_type": "execute_result",
          "data": {
            "text/plain": [
              "['機械', '学習', 'システム', '制御', '画像', '処理', 'すべて', '線形', '代数', 'プログラミング', '不可欠']"
            ]
          },
          "metadata": {
            "tags": []
          },
          "execution_count": 20
        }
      ]
    },
    {
      "cell_type": "code",
      "metadata": {
        "colab": {
          "base_uri": "https://localhost:8080/",
          "height": 35
        },
        "id": "LOKJC6mVuW9f",
        "outputId": "d5751485-4fb0-4095-a5d7-8a130c94d07e"
      },
      "source": [
        "' '.join(nouns1)"
      ],
      "execution_count": 21,
      "outputs": [
        {
          "output_type": "execute_result",
          "data": {
            "application/vnd.google.colaboratory.intrinsic+json": {
              "type": "string"
            },
            "text/plain": [
              "'キカガク ディープラーニング 機械 学習 人工 知能 教育'"
            ]
          },
          "metadata": {
            "tags": []
          },
          "execution_count": 21
        }
      ]
    },
    {
      "cell_type": "code",
      "metadata": {
        "id": "KwM5Ev6zyEcQ"
      },
      "source": [
        "nouns_list = [nouns1, nouns2, nouns3]\n",
        "corpus = []\n",
        "for nouns in nouns_list:\n",
        "  corpus.append(' '.join(nouns))"
      ],
      "execution_count": 22,
      "outputs": []
    },
    {
      "cell_type": "code",
      "metadata": {
        "colab": {
          "base_uri": "https://localhost:8080/"
        },
        "id": "KXlOWcD-yS02",
        "outputId": "1cda9ea4-2ba9-46b0-9d6a-e4029b3decc0"
      },
      "source": [
        "corpus"
      ],
      "execution_count": 23,
      "outputs": [
        {
          "output_type": "execute_result",
          "data": {
            "text/plain": [
              "['キカガク ディープラーニング 機械 学習 人工 知能 教育',\n",
              " '代表 吉崎 大学院 機械 学習 ロボット システム 制御 画像 処理 研究',\n",
              " '機械 学習 システム 制御 画像 処理 すべて 線形 代数 プログラミング 不可欠']"
            ]
          },
          "metadata": {
            "tags": []
          },
          "execution_count": 23
        }
      ]
    },
    {
      "cell_type": "code",
      "metadata": {
        "id": "j7A5eUtPyUUS"
      },
      "source": [
        "from sklearn.feature_extraction.text import CountVectorizer\n",
        "vectorizer = CountVectorizer()\n",
        "x = vectorizer.fit_transform(corpus)"
      ],
      "execution_count": 24,
      "outputs": []
    },
    {
      "cell_type": "code",
      "metadata": {
        "colab": {
          "base_uri": "https://localhost:8080/"
        },
        "id": "RstwrrWuypU3",
        "outputId": "6e649a57-d05e-4035-8173-4a1decd0db12"
      },
      "source": [
        "vectorizer.vocabulary_"
      ],
      "execution_count": 25,
      "outputs": [
        {
          "output_type": "execute_result",
          "data": {
            "text/plain": [
              "{'すべて': 0,\n",
              " 'キカガク': 1,\n",
              " 'システム': 2,\n",
              " 'ディープラーニング': 3,\n",
              " 'プログラミング': 4,\n",
              " 'ロボット': 5,\n",
              " '不可欠': 6,\n",
              " '人工': 7,\n",
              " '代数': 8,\n",
              " '代表': 9,\n",
              " '処理': 10,\n",
              " '制御': 11,\n",
              " '吉崎': 12,\n",
              " '大学院': 13,\n",
              " '学習': 14,\n",
              " '教育': 15,\n",
              " '機械': 16,\n",
              " '画像': 17,\n",
              " '知能': 18,\n",
              " '研究': 19,\n",
              " '線形': 20}"
            ]
          },
          "metadata": {
            "tags": []
          },
          "execution_count": 25
        }
      ]
    },
    {
      "cell_type": "code",
      "metadata": {
        "colab": {
          "base_uri": "https://localhost:8080/"
        },
        "id": "nSUrdz9kys6n",
        "outputId": "a1f7ab26-3dbe-456a-e02d-62f2d631251a"
      },
      "source": [
        "x = x.toarray()\n",
        "print(x)"
      ],
      "execution_count": 26,
      "outputs": [
        {
          "output_type": "stream",
          "text": [
            "[[0 1 0 1 0 0 0 1 0 0 0 0 0 0 1 1 1 0 1 0 0]\n",
            " [0 0 1 0 0 1 0 0 0 1 1 1 1 1 1 0 1 1 0 1 0]\n",
            " [1 0 1 0 1 0 1 0 1 0 1 1 0 0 1 0 1 1 0 0 1]]\n"
          ],
          "name": "stdout"
        }
      ]
    },
    {
      "cell_type": "code",
      "metadata": {
        "colab": {
          "resources": {
            "http://localhost:8080/nbextensions/google.colab/files.js": {
              "data": "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",
              "ok": true,
              "headers": [
                [
                  "content-type",
                  "application/javascript"
                ]
              ],
              "status": 200,
              "status_text": ""
            }
          },
          "base_uri": "https://localhost:8080/",
          "height": 78
        },
        "id": "AzpfoY6yy286",
        "outputId": "2452399f-13ce-47b0-d2ba-b2f482b77098"
      },
      "source": [
        "# from google.colab import files\n",
        "# uploaded = files.upload()"
      ],
      "execution_count": 27,
      "outputs": [
        {
          "output_type": "display_data",
          "data": {
            "text/html": [
              "\n",
              "     <input type=\"file\" id=\"files-00a3982e-5874-4972-a486-c573ad3b8944\" name=\"files[]\" multiple disabled\n",
              "        style=\"border:none\" />\n",
              "     <output id=\"result-00a3982e-5874-4972-a486-c573ad3b8944\">\n",
              "      Upload widget is only available when the cell has been executed in the\n",
              "      current browser session. Please rerun this cell to enable.\n",
              "      </output>\n",
              "      <script src=\"/nbextensions/google.colab/files.js\"></script> "
            ],
            "text/plain": [
              "<IPython.core.display.HTML object>"
            ]
          },
          "metadata": {
            "tags": []
          }
        },
        {
          "output_type": "stream",
          "text": [
            "Saving texts.zip to texts.zip\n"
          ],
          "name": "stdout"
        }
      ]
    },
    {
      "cell_type": "code",
      "metadata": {
        "id": "PNrUzpspzeOU"
      },
      "source": [
        "# !unzip -d text texts.zip"
      ],
      "execution_count": null,
      "outputs": []
    },
    {
      "cell_type": "code",
      "metadata": {
        "colab": {
          "base_uri": "https://localhost:8080/"
        },
        "id": "DDj5GoEA1qJq",
        "outputId": "d03c3835-ced7-454f-9d58-58ac7bde9b7f"
      },
      "source": [
        "!ls text/texts"
      ],
      "execution_count": 34,
      "outputs": [
        {
          "output_type": "stream",
          "text": [
            "dokujo-tsushin\tkaden-channel\tmovie-enter  smax\t   topic-news\n",
            "it-life-hack\tlivedoor-homme\tpeachy\t     sports-watch\n"
          ],
          "name": "stdout"
        }
      ]
    },
    {
      "cell_type": "code",
      "metadata": {
        "id": "IT-4AZiJ2GMA"
      },
      "source": [
        "import numpy as np\n",
        "import pandas as pd\n",
        "import matplotlib.pyplot as plt\n",
        "import seaborn as sns"
      ],
      "execution_count": 38,
      "outputs": []
    },
    {
      "cell_type": "code",
      "metadata": {
        "id": "c4PKOgQ92W1z"
      },
      "source": [
        "from glob import glob"
      ],
      "execution_count": 39,
      "outputs": []
    },
    {
      "cell_type": "code",
      "metadata": {
        "id": "9SelxkWf2tAu"
      },
      "source": [
        "directories = glob('text/texts/*')"
      ],
      "execution_count": 40,
      "outputs": []
    },
    {
      "cell_type": "code",
      "metadata": {
        "colab": {
          "base_uri": "https://localhost:8080/"
        },
        "id": "siuJCbSZ2xMF",
        "outputId": "aeb762a3-4f66-4b8f-c8c6-809cf53e65da"
      },
      "source": [
        "directories"
      ],
      "execution_count": 41,
      "outputs": [
        {
          "output_type": "execute_result",
          "data": {
            "text/plain": [
              "['text/texts/livedoor-homme',\n",
              " 'text/texts/smax',\n",
              " 'text/texts/topic-news',\n",
              " 'text/texts/peachy',\n",
              " 'text/texts/sports-watch',\n",
              " 'text/texts/kaden-channel',\n",
              " 'text/texts/it-life-hack',\n",
              " 'text/texts/movie-enter',\n",
              " 'text/texts/dokujo-tsushin']"
            ]
          },
          "metadata": {
            "tags": []
          },
          "execution_count": 41
        }
      ]
    },
    {
      "cell_type": "code",
      "metadata": {
        "colab": {
          "base_uri": "https://localhost:8080/"
        },
        "id": "MVdPC4822yWS",
        "outputId": "3d0cac50-e221-49c3-8113-83f06ce57a98"
      },
      "source": [
        "filepaths = glob('{}/*.txt'.format(directories[0]))\n",
        "filepaths[:3]"
      ],
      "execution_count": 42,
      "outputs": [
        {
          "output_type": "execute_result",
          "data": {
            "text/plain": [
              "['text/texts/livedoor-homme/livedoor-homme-5822926.txt',\n",
              " 'text/texts/livedoor-homme/livedoor-homme-6307462.txt',\n",
              " 'text/texts/livedoor-homme/livedoor-homme-5825794.txt']"
            ]
          },
          "metadata": {
            "tags": []
          },
          "execution_count": 42
        }
      ]
    },
    {
      "cell_type": "code",
      "metadata": {
        "id": "7ksOBZhR3Fmr"
      },
      "source": [
        "with open(filepaths[0], encoding = 'utf-8') as f:\n",
        "  text = ''.join(f.readlines()[2:])\n",
        "print(text)"
      ],
      "execution_count": null,
      "outputs": []
    },
    {
      "cell_type": "code",
      "metadata": {
        "colab": {
          "base_uri": "https://localhost:8080/"
        },
        "id": "k5v1Wop-3X1A",
        "outputId": "d1f9b9c6-95cf-477b-8f57-23abbdac201f"
      },
      "source": [
        "for i, directory in enumerate(directories):\n",
        "  print(i, directory)\n",
        "  print('- - -')"
      ],
      "execution_count": 45,
      "outputs": [
        {
          "output_type": "stream",
          "text": [
            "0 text/texts/livedoor-homme\n",
            "- - -\n",
            "1 text/texts/smax\n",
            "- - -\n",
            "2 text/texts/topic-news\n",
            "- - -\n",
            "3 text/texts/peachy\n",
            "- - -\n",
            "4 text/texts/sports-watch\n",
            "- - -\n",
            "5 text/texts/kaden-channel\n",
            "- - -\n",
            "6 text/texts/it-life-hack\n",
            "- - -\n",
            "7 text/texts/movie-enter\n",
            "- - -\n",
            "8 text/texts/dokujo-tsushin\n",
            "- - -\n"
          ],
          "name": "stdout"
        }
      ]
    },
    {
      "cell_type": "code",
      "metadata": {
        "id": "w7WjQL-w33ED"
      },
      "source": [
        "texts, labels = [], []\n",
        "for i, directory in enumerate(directories):\n",
        "  filepaths = glob('{}/*.txt'.format(directory))\n",
        "  for filepath in filepaths:\n",
        "    with open(filepath, encoding = 'utf-8') as f:\n",
        "      text = ''.join(f.readlines()[2:])\n",
        "      texts.append(text)\n",
        "      labels.append(i)"
      ],
      "execution_count": 46,
      "outputs": []
    },
    {
      "cell_type": "code",
      "metadata": {
        "colab": {
          "base_uri": "https://localhost:8080/"
        },
        "id": "n0QI9zd64k7d",
        "outputId": "080eeef8-17e4-4223-a6d2-ca9b9fdd01be"
      },
      "source": [
        "len(texts), len(labels)"
      ],
      "execution_count": 52,
      "outputs": [
        {
          "output_type": "execute_result",
          "data": {
            "text/plain": [
              "(7278, 7278)"
            ]
          },
          "metadata": {
            "tags": []
          },
          "execution_count": 52
        }
      ]
    },
    {
      "cell_type": "code",
      "metadata": {
        "colab": {
          "base_uri": "https://localhost:8080/",
          "height": 171
        },
        "id": "4TWbbAyb4pDo",
        "outputId": "fe4f96d8-f5ce-4969-b07a-8ed0eb9d3168"
      },
      "source": [
        "texts[0]"
      ],
      "execution_count": 53,
      "outputs": [
        {
          "output_type": "execute_result",
          "data": {
            "application/vnd.google.colaboratory.intrinsic+json": {
              "type": "string"
            },
            "text/plain": [
              "'【Office Scope vol.08】オシャレでポップな空間が、オフィスを「楽しく仕事をする」場所に（株式会社Stardust Communications）\\n\\u3000ワークスペースのデザイニングに優れた企業のオフィスを訪問し、そこで働く人々の声から、その“働き心地”をリポートする連載企画『Office Scope』。第8回の今回は、日本最大級のケータイフリーマーケットサイト『ショッピーズ』の運営を手がける、株式会社Stardust Communicationsをご紹介。トレンドの最先端を行く女子中高生たちから絶大な支持を集めるITベンチャーが目指す理想型のオフィスとは!?\\n\\n\\n\\nエントランスの両サイドにもさながらジブリ映画のような光景が。奥のトビラの向こうは会議室。\\n\\n\\n\\n正面には役員室。左手のドアの向こうには多目的に使えるリフレッシュスペースが広がっている。\\n\\n\\n\\n木目調のドアを開けると、白を基調にしたシンプルでこじんまりとした会議室が現れる。\\n\\n\\n\\n社員のモチベーションを第一に考えたオフィスデザイン\\n\\u3000「僕個人は特にこだわりがあるほうでもないので、オフィスを移転する際も、当初は『広ささえあれば』ぐらいにしか考えていなかったんです。だから、デザインを『ヴィス』さんにお願いしたのも、『こうしたい』っていう主体的なイメージがあったというよりは、社員のモチベーションにつながるのなら、オフィスにリソースを割いてみるのもいいかなってぐらいのトライアル感覚。ウチのメインユーザーは女子中高生ですし、社内には若い女性社員も多くいるので、スタイリッシュではありつつ、ポップさも感じてもらえればってことで現在のようなカタチになったんです」\\n\\u3000そう語る代表取締役社長の井上氏ら、3人の設立メンバーと1〜2名のアルバイトのみでスタートした株式会社Stardust Communicationsは、この9月で設立5周年。ケータイひとつで女子中高生を中心とする60万人以上のユーザーが、190万点もの商品を自由にやりとりできる、日本最大級のフリーマーケットサイト『ショッピーズ』をはじめとしたモバイルメディアの運営を数々手がける同社は、多様なIT業界のなかでもいま最も勢いのあるベンチャー企業のひとつだ。\\n\\n\\n調光によってバーラウンジのような雰囲気になるリフレッシュスペース。夜8時以降はなんとお酒も飲み放題。\\n\\n\\n\\nリフレッシュスペースではユーザーを招いた座談会も開催\\n\\u3000「オフィスを作るにあたって、僕が目指したのは『広さ』と『快適さ』、それに『ユーザーが気軽に足を運べる空間であること』の3つ。トップダウンでやってみて使ってもらえなかったら悲しいな、なんて危惧したりもしてはいたんですが、そこは自然と社内文化として浸透してくれたと思います。十分な広さを確保したリフレッシュスペースは、会社説明会や勉強会はもちろん、社員たちの誕生会や歓迎会にも活用されていますし、ワークスタイルという面でも期待通りのシナジーは起こせてるんじゃないかな、と」\\n\\u3000来客用の応接スペースであると同時に、社員同士が気軽に親睦を深められる場所としても公私の別なく有効活用されているリフレッシュスペースでは、サイトを利用する実際のユーザーを招いての『ショッピーズ女子会』なる座談会まで開催。文化・トレンドの発信地でもある渋谷という街の利便性を活かして、ユーザーのニーズをダイレクトに反映する“顧客一体型”のサービスの提供に、これまで以上に注力しているという。\\n\\n\\n日中は照明もやや明るめ。ついついくつろぎたくなるソファは社長が自らチョイスしたものだ。\\n\\n\\n\\n臨機応変な柔軟性が育む自由闊達な社内風土\\n\\n直々に取材に応じてくれた\\n代表取締役社長・井上大輔氏\\u3000「新しく入った社員の歓迎会や、プロジェクトの達成会なんかをその場ですぐに開けるというのは、思いのほかいいものです。他に仕事があっても臨機応変に対応できますし、その柔軟性がモチベーションの向上にもつながる。以前と比べてもミーティングの機会も格段に増えましたし、そういう意味でも、こうしてオフィスをリデザインしたのは正解だったかなと思いますね。まぁ、個人的には殺風景でちょっと汚いくらいのほうが逆に落ちついたりもするんですけどね（笑）」\\n\\u3000ただ仕事をするのではなく、「楽しく仕事をする」————。そうした社内風土を醸成するためにも、その後押しはどんどんして行きたいと語る井上氏のもと、同社は現在のオフィスになって以降も2度のリフォームを実施。意欲的に社内環境の整備にも努める一方、福利厚生の面でも、配偶者や子どもの誕生日を祝うための「誕生日休暇」なる風変わりな有休制度を設けるなど、30人近い社員一人ひとりが士気高く仕事に打ちこめる環境づくりをも推進する。\\n\\n\\n\\n執務フロア内のミーティングスペースは、想像力を刺激するべく、まぶしいほどの白をあえて強調。\\n\\n\\n\\n人やオフィスの成長が促進する、企業としての成長\\n\\u3000「僕らは成長過程のベンチャーなので、人の成長にあわせて、オフィスも会社も成長させていかなきゃなって想いはつねにあります。どんな年代にも幅広く浸透しているインターネットには、まだまだ限りない可能性がありますし、会社の成長こそが、僕のモチベーションでもありますからね」\\n\\u3000インターネットのもつ「無限の可能性」を「星空（＝宇宙）」に見たてて、それを社名の由来とした株式会社Stardust Communications。そんな星々をつなぐ存在でありたいと願う彼らの働く場所だからこそ、その快適なワークスペースには、「星」を眺めるために必要不可欠な「自然」のモチーフがふんだんにあしらわれているのだ————。\\n\\n\\n■関連リンク\\n\\u3000・株式会社Stardust Communications 公式サイト\\n\\u3000・フリマサイト『ショッピーズ』トップページ\\n\\u3000・オフィスデザイン ヴィス 公式サイト\\n\\u3000・Office Scope過去記事一覧\\n\\nlivedoor求人・転職\\nlivedoor求人・転職は、あなたがどんな求人情報を探しているのかを瞬時に判断しておすすめするコンテンツ。「東京都内で年収700万以上の営業職で未経験OK」などあなたのこだわりにマッチする転職活動を完全サポート。\\nhttp://type.jp/s/livedoor/\\n'"
            ]
          },
          "metadata": {
            "tags": []
          },
          "execution_count": 53
        }
      ]
    },
    {
      "cell_type": "code",
      "metadata": {
        "colab": {
          "base_uri": "https://localhost:8080/"
        },
        "id": "V74u_wSh49n5",
        "outputId": "e537396d-c84e-4c7b-c683-3db2ddfb2d7c"
      },
      "source": [
        "labels[0]"
      ],
      "execution_count": 54,
      "outputs": [
        {
          "output_type": "execute_result",
          "data": {
            "text/plain": [
              "0"
            ]
          },
          "metadata": {
            "tags": []
          },
          "execution_count": 54
        }
      ]
    },
    {
      "cell_type": "code",
      "metadata": {
        "id": "INZTArEp5CMw"
      },
      "source": [
        "mecab = MeCab.Tagger('-Ochasen')"
      ],
      "execution_count": 55,
      "outputs": []
    },
    {
      "cell_type": "code",
      "metadata": {
        "id": "8uggVoNX5Js1"
      },
      "source": [
        "word_collect = []\n",
        "for text in texts:\n",
        "  nouns = get_nouns(text)\n",
        "  word_collect.append(' '.join(nouns))"
      ],
      "execution_count": 56,
      "outputs": []
    },
    {
      "cell_type": "code",
      "metadata": {
        "colab": {
          "base_uri": "https://localhost:8080/",
          "height": 154
        },
        "id": "O_zjHk-L5ikZ",
        "outputId": "7c43b25d-11ba-4ce6-e578-a86125f12452"
      },
      "source": [
        "word_collect[0]"
      ],
      "execution_count": 57,
      "outputs": [
        {
          "output_type": "execute_result",
          "data": {
            "application/vnd.google.colaboratory.intrinsic+json": {
              "type": "string"
            },
            "text/plain": [
              "'Office Scope vol . 08 オシャレ ポップ 空間 オフィス 仕事 場所 株式会社 Stardust Communications ワークス ペース デザイニング 企業 オフィス 訪問 人々 声 働き 心地 リポート 連載 企画 Office Scope 8 回 今回 日本 最大 級 ケータイフリーマーケットサイト ショッピーズ 運営 株式会社 Stardust Communications ご 紹介 トレンド 最先端 女子 中高生 たち 絶大 支持 IT ベンチャー 理想 型 オフィス !? エン トランス 両 サイド ジブリ 映画 よう 光景 奥 トビラ 向こう 会議 室 正面 役員 室 左手 ドア 向こう 多 目的 リフレッシュ スペース 木目 調 ドア 白 基調 シンプル 会議 室 社員 モチベーション 一 オフィス デザイン 僕 個人 こだわり ほう オフィス 移転 際 当初 さ ん デザイン ヴィス さん お願い の 主体 的 イメージ 社員 モチベーション の オフィス リソース の トライアル 感覚 ウチ メイン ユーザー 女子 中高生 社内 女性 社員 多く スタイリッシュ ポップ さ こと 現在 よう カタチ ん 代表 取締役 社長 井上 氏 ら 3 人 設立 メンバー 1 2 名 アルバイト スタート 株式会社 Stardust Communications 9 月 設立 5 周年 ケータイ ひとつ 女子 中高生 中心 60 万 人 以上 ユーザー 190 万 点 商品 自由 やりとり 日本 最大 級 フリーマーケットサイト ショッピーズ はじめ モバイル メディア 運営 数々 同社 多様 IT 業界 なか いま 勢い ベンチャー 企業 ひとつ 調 光 バー ラウンジ よう 雰囲気 リフレッシュ スペース 夜 8 時 以降 お 酒 放題 リフレッシュ スペース ユーザー 座談 会 開催 オフィス 僕 の さ 快適 さ ユーザー 気軽 足 空間 こと 3 トップダウン そこ 自然 社内 文化 浸透 十分 さ 確保 リフレッシュ スペース 会社 説明 会 勉強 会 社員 たち 誕生 会 歓迎 会 活用 ワーク スタイル 面 期待 通り シナジー ん 来客 用 応接 スペース 社員 同士 気軽 親睦 場所 公私 別 有効 活用 リフレッシュ スペース サイト 利用 ユーザー ショッピーズ 女子 会 座談 会 開催 文化 トレンド 発信 地 渋谷 街 利便 性 ユーザー ニーズ ダイレクト 反映 顧客 一 体型 サービス 提供 これ 以上 注力 日 中 照明 ソファ 社長 自ら チョイス もの 臨機応変 柔軟 性 自由 闊達 社内 風土 直々 取材 代表 取締役 社長 井上 大輔 氏 社員 歓迎 会 プロジェクト 達成 会 場 の 思い ほか もの 他 仕事 臨機応変 対応 柔軟 性 モチベーション 向上 以前 ミーティング 機会 格段 意味 オフィス リ デザイン の 正解 個人 的 殺風景 ほう 逆 ん 笑 仕事 の 仕事 ————。 社内 風土 醸成 ため 後押し 井上 氏 もと 同社 現在 オフィス 以降 2 度 リフォーム 実施 意欲 的 社内 環境 整備 一方 福利 厚生 面 配偶 者 子ども 誕生 日 ため 誕生 日 休暇 風変わり 有休 制度 30 人 社員 一人ひとり 士気 仕事 環境 づくり 推進 執務 フロア 内 ミーティング スペース 想像 力 刺激 白 強調 人 オフィス 成長 促進 企業 成長 僕ら 成長 過程 ベンチャー 人 成長 オフィス 会社 成長 想い 年代 浸透 インターネット 限り 可能 性 会社 成長 僕 モチベーション インターネット 無限 可能 性 星空 宇宙 それ 社名 由来 株式会社 Stardust Communications 星 存在 彼ら 場所 快適 ワークス ペース 星 ため 必要 不可欠 自然 モチーフ の ————。 関連 リンク 株式会社 Stardust Communications 公式 サイト フリマサイト ショッピーズ トップページ オフィス デザイン ヴィス 公式 サイト Office Scope 過去 記事 一覧 livedoor 求人 転職 livedoor 求人 転職 あなた 求人 情報 の 瞬時 判断 おすすめ コンテンツ 東京 都内 年収 700 万 以上 営業 職 未 経験 OK あなた こだわり マッチ 転職 活動 完全 サポート http :// type . jp / s / livedoor /'"
            ]
          },
          "metadata": {
            "tags": []
          },
          "execution_count": 57
        }
      ]
    },
    {
      "cell_type": "code",
      "metadata": {
        "id": "HlT7Gl4_5m2m"
      },
      "source": [
        "vectorizer = CountVectorizer(min_df = 20)\n",
        "x = vectorizer.fit_transform(word_collect)\n",
        "x = x.toarray()"
      ],
      "execution_count": 58,
      "outputs": []
    },
    {
      "cell_type": "code",
      "metadata": {
        "colab": {
          "base_uri": "https://localhost:8080/"
        },
        "id": "PLb4fzx16BAm",
        "outputId": "e245fdf5-5e9e-4fc5-db3e-e7da273457d1"
      },
      "source": [
        "len(vectorizer.vocabulary_)"
      ],
      "execution_count": 59,
      "outputs": [
        {
          "output_type": "execute_result",
          "data": {
            "text/plain": [
              "6378"
            ]
          },
          "metadata": {
            "tags": []
          },
          "execution_count": 59
        }
      ]
    },
    {
      "cell_type": "code",
      "metadata": {
        "colab": {
          "base_uri": "https://localhost:8080/"
        },
        "id": "0-TElGXa6EGf",
        "outputId": "595e01c1-8743-4b8a-b3e3-4c5ad8c0a275"
      },
      "source": [
        "len(x)"
      ],
      "execution_count": 60,
      "outputs": [
        {
          "output_type": "execute_result",
          "data": {
            "text/plain": [
              "7278"
            ]
          },
          "metadata": {
            "tags": []
          },
          "execution_count": 60
        }
      ]
    },
    {
      "cell_type": "code",
      "metadata": {
        "id": "i226ok246FxL"
      },
      "source": [
        "x = x.astype('float32')\n",
        "t = np.array(labels, 'int32')"
      ],
      "execution_count": 61,
      "outputs": []
    },
    {
      "cell_type": "code",
      "metadata": {
        "id": "RJwMr2MG6VdG"
      },
      "source": [
        "from sklearn.model_selection import train_test_split\n",
        "x_train, x_test, t_train, t_test = train_test_split(x, t, train_size = 0.7, random_state = 0)"
      ],
      "execution_count": 62,
      "outputs": []
    },
    {
      "cell_type": "code",
      "metadata": {
        "id": "ChDmWBEY6ofK"
      },
      "source": [
        "import tensorflow as tf"
      ],
      "execution_count": 63,
      "outputs": []
    },
    {
      "cell_type": "code",
      "metadata": {
        "id": "COKPmLlj6rYD"
      },
      "source": [
        "import os, random\n",
        "\n",
        "def reset_seed(seed = 0):\n",
        "  os.environ['PYTHONHASHSEED'] = '0'\n",
        "  random.seed(seed)\n",
        "  np.random.seed(seed)\n",
        "  tf.random.set_seed(seed)"
      ],
      "execution_count": 64,
      "outputs": []
    },
    {
      "cell_type": "code",
      "metadata": {
        "colab": {
          "base_uri": "https://localhost:8080/"
        },
        "id": "Avv4zaC67CgY",
        "outputId": "6ec547c8-28e3-42d9-e09c-e46c4b9ee529"
      },
      "source": [
        "x_train.shape"
      ],
      "execution_count": 65,
      "outputs": [
        {
          "output_type": "execute_result",
          "data": {
            "text/plain": [
              "(5094, 6378)"
            ]
          },
          "metadata": {
            "tags": []
          },
          "execution_count": 65
        }
      ]
    },
    {
      "cell_type": "code",
      "metadata": {
        "id": "f9WcTvn568xy"
      },
      "source": [
        "_, n_input = x_train.shape\n",
        "n_output = len(np.unique(t_test))"
      ],
      "execution_count": 70,
      "outputs": []
    },
    {
      "cell_type": "code",
      "metadata": {
        "id": "j3VKtbQt7y_w"
      },
      "source": [
        "from tensorflow.keras import models, layers"
      ],
      "execution_count": 71,
      "outputs": []
    },
    {
      "cell_type": "code",
      "metadata": {
        "id": "3L1IKoOD74cN"
      },
      "source": [
        "reset_seed(0)\n",
        "\n",
        "model = models.Sequential([\n",
        "                           layers.Dense(200, input_shape = (n_input, ), activation = 'relu'),\n",
        "                           layers.Dense(n_output, activation = 'softmax')\n",
        "])\n",
        "\n",
        "optimizer = tf.keras.optimizers.SGD(lr = 0.01)\n",
        "model.compile(loss = 'sparse_categorical_crossentropy',\n",
        "              optimizer = optimizer,\n",
        "              metrics = ['accuracy'])"
      ],
      "execution_count": 72,
      "outputs": []
    },
    {
      "cell_type": "code",
      "metadata": {
        "colab": {
          "base_uri": "https://localhost:8080/"
        },
        "id": "89GKbMHd8Zkn",
        "outputId": "65522724-5905-4e7e-bee4-b2b3b93d09f8"
      },
      "source": [
        "model.summary()"
      ],
      "execution_count": 73,
      "outputs": [
        {
          "output_type": "stream",
          "text": [
            "Model: \"sequential\"\n",
            "_________________________________________________________________\n",
            "Layer (type)                 Output Shape              Param #   \n",
            "=================================================================\n",
            "dense (Dense)                (None, 200)               1275800   \n",
            "_________________________________________________________________\n",
            "dense_1 (Dense)              (None, 9)                 1809      \n",
            "=================================================================\n",
            "Total params: 1,277,609\n",
            "Trainable params: 1,277,609\n",
            "Non-trainable params: 0\n",
            "_________________________________________________________________\n"
          ],
          "name": "stdout"
        }
      ]
    },
    {
      "cell_type": "code",
      "metadata": {
        "colab": {
          "base_uri": "https://localhost:8080/"
        },
        "id": "t93-HmUe8b_X",
        "outputId": "8a6f03e3-a9bb-4aed-f52f-e379555a5d1a"
      },
      "source": [
        "history = model.fit(x_train, t_train,\n",
        "                    batch_size = 100,\n",
        "                    epochs = 20,\n",
        "                    verbose = 1,\n",
        "                    validation_data = (x_test, t_test))"
      ],
      "execution_count": 74,
      "outputs": [
        {
          "output_type": "stream",
          "text": [
            "Epoch 1/20\n",
            "51/51 [==============================] - 4s 10ms/step - loss: 2.0430 - accuracy: 0.2923 - val_loss: 1.5193 - val_accuracy: 0.6387\n",
            "Epoch 2/20\n",
            "51/51 [==============================] - 0s 4ms/step - loss: 1.3652 - accuracy: 0.7170 - val_loss: 1.1539 - val_accuracy: 0.7912\n",
            "Epoch 3/20\n",
            "51/51 [==============================] - 0s 4ms/step - loss: 1.0395 - accuracy: 0.8179 - val_loss: 0.9297 - val_accuracy: 0.8292\n",
            "Epoch 4/20\n",
            "51/51 [==============================] - 0s 4ms/step - loss: 0.8278 - accuracy: 0.8625 - val_loss: 0.7870 - val_accuracy: 0.8443\n",
            "Epoch 5/20\n",
            "51/51 [==============================] - 0s 5ms/step - loss: 0.7028 - accuracy: 0.8727 - val_loss: 0.6923 - val_accuracy: 0.8594\n",
            "Epoch 6/20\n",
            "51/51 [==============================] - 0s 5ms/step - loss: 0.6072 - accuracy: 0.8904 - val_loss: 0.6255 - val_accuracy: 0.8681\n",
            "Epoch 7/20\n",
            "51/51 [==============================] - 0s 4ms/step - loss: 0.5268 - accuracy: 0.9044 - val_loss: 0.5740 - val_accuracy: 0.8777\n",
            "Epoch 8/20\n",
            "51/51 [==============================] - 0s 4ms/step - loss: 0.4765 - accuracy: 0.9111 - val_loss: 0.5353 - val_accuracy: 0.8823\n",
            "Epoch 9/20\n",
            "51/51 [==============================] - 0s 4ms/step - loss: 0.4285 - accuracy: 0.9200 - val_loss: 0.5033 - val_accuracy: 0.8887\n",
            "Epoch 10/20\n",
            "51/51 [==============================] - 0s 4ms/step - loss: 0.3906 - accuracy: 0.9304 - val_loss: 0.4774 - val_accuracy: 0.8897\n",
            "Epoch 11/20\n",
            "51/51 [==============================] - 0s 4ms/step - loss: 0.3661 - accuracy: 0.9344 - val_loss: 0.4564 - val_accuracy: 0.8910\n",
            "Epoch 12/20\n",
            "51/51 [==============================] - 0s 5ms/step - loss: 0.3382 - accuracy: 0.9374 - val_loss: 0.4373 - val_accuracy: 0.8938\n",
            "Epoch 13/20\n",
            "51/51 [==============================] - 0s 5ms/step - loss: 0.3143 - accuracy: 0.9395 - val_loss: 0.4219 - val_accuracy: 0.8938\n",
            "Epoch 14/20\n",
            "51/51 [==============================] - 0s 5ms/step - loss: 0.2938 - accuracy: 0.9443 - val_loss: 0.4080 - val_accuracy: 0.8974\n",
            "Epoch 15/20\n",
            "51/51 [==============================] - 0s 4ms/step - loss: 0.2783 - accuracy: 0.9454 - val_loss: 0.3962 - val_accuracy: 0.8979\n",
            "Epoch 16/20\n",
            "51/51 [==============================] - 0s 5ms/step - loss: 0.2490 - accuracy: 0.9570 - val_loss: 0.3846 - val_accuracy: 0.8974\n",
            "Epoch 17/20\n",
            "51/51 [==============================] - 0s 5ms/step - loss: 0.2503 - accuracy: 0.9554 - val_loss: 0.3754 - val_accuracy: 0.9011\n",
            "Epoch 18/20\n",
            "51/51 [==============================] - 0s 5ms/step - loss: 0.2355 - accuracy: 0.9604 - val_loss: 0.3668 - val_accuracy: 0.9020\n",
            "Epoch 19/20\n",
            "51/51 [==============================] - 0s 5ms/step - loss: 0.2079 - accuracy: 0.9716 - val_loss: 0.3587 - val_accuracy: 0.9029\n",
            "Epoch 20/20\n",
            "51/51 [==============================] - 0s 5ms/step - loss: 0.2198 - accuracy: 0.9626 - val_loss: 0.3515 - val_accuracy: 0.9034\n"
          ],
          "name": "stdout"
        }
      ]
    },
    {
      "cell_type": "code",
      "metadata": {
        "colab": {
          "base_uri": "https://localhost:8080/",
          "height": 142
        },
        "id": "_tSUE5H-8lvk",
        "outputId": "be02bb0e-8fda-4c57-9cd3-5fb02b424635"
      },
      "source": [
        "results = pd.DataFrame(history.history)\n",
        "results.tail(3)"
      ],
      "execution_count": 75,
      "outputs": [
        {
          "output_type": "execute_result",
          "data": {
            "text/html": [
              "<div>\n",
              "<style scoped>\n",
              "    .dataframe tbody tr th:only-of-type {\n",
              "        vertical-align: middle;\n",
              "    }\n",
              "\n",
              "    .dataframe tbody tr th {\n",
              "        vertical-align: top;\n",
              "    }\n",
              "\n",
              "    .dataframe thead th {\n",
              "        text-align: right;\n",
              "    }\n",
              "</style>\n",
              "<table border=\"1\" class=\"dataframe\">\n",
              "  <thead>\n",
              "    <tr style=\"text-align: right;\">\n",
              "      <th></th>\n",
              "      <th>loss</th>\n",
              "      <th>accuracy</th>\n",
              "      <th>val_loss</th>\n",
              "      <th>val_accuracy</th>\n",
              "    </tr>\n",
              "  </thead>\n",
              "  <tbody>\n",
              "    <tr>\n",
              "      <th>17</th>\n",
              "      <td>0.234694</td>\n",
              "      <td>0.959953</td>\n",
              "      <td>0.366782</td>\n",
              "      <td>0.902015</td>\n",
              "    </tr>\n",
              "    <tr>\n",
              "      <th>18</th>\n",
              "      <td>0.222826</td>\n",
              "      <td>0.962701</td>\n",
              "      <td>0.358705</td>\n",
              "      <td>0.902930</td>\n",
              "    </tr>\n",
              "    <tr>\n",
              "      <th>19</th>\n",
              "      <td>0.212139</td>\n",
              "      <td>0.965253</td>\n",
              "      <td>0.351455</td>\n",
              "      <td>0.903388</td>\n",
              "    </tr>\n",
              "  </tbody>\n",
              "</table>\n",
              "</div>"
            ],
            "text/plain": [
              "        loss  accuracy  val_loss  val_accuracy\n",
              "17  0.234694  0.959953  0.366782      0.902015\n",
              "18  0.222826  0.962701  0.358705      0.902930\n",
              "19  0.212139  0.965253  0.351455      0.903388"
            ]
          },
          "metadata": {
            "tags": []
          },
          "execution_count": 75
        }
      ]
    },
    {
      "cell_type": "code",
      "metadata": {
        "colab": {
          "base_uri": "https://localhost:8080/",
          "height": 312
        },
        "id": "h01Nzd4l8tjt",
        "outputId": "4aabbb7b-3c14-4644-cefd-4568841cacc3"
      },
      "source": [
        "results[['loss', 'val_loss']].plot(title = 'loss')\n",
        "plt.xlabel('epochs')"
      ],
      "execution_count": 76,
      "outputs": [
        {
          "output_type": "execute_result",
          "data": {
            "text/plain": [
              "Text(0.5, 0, 'epochs')"
            ]
          },
          "metadata": {
            "tags": []
          },
          "execution_count": 76
        },
        {
          "output_type": "display_data",
          "data": {
            "image/png": "[encoded data removed]",
            "text/plain": [
              "<Figure size 432x288 with 1 Axes>"
            ]
          },
          "metadata": {
            "tags": [],
            "needs_background": "light"
          }
        }
      ]
    },
    {
      "cell_type": "code",
      "metadata": {
        "colab": {
          "base_uri": "https://localhost:8080/",
          "height": 312
        },
        "id": "aPNV1If282cV",
        "outputId": "6011488b-81e9-4ef3-a1ef-d56ac6d8eab3"
      },
      "source": [
        "results[['accuracy', 'val_accuracy']].plot(title = 'accuracy')\n",
        "plt.xlabel('epochs')"
      ],
      "execution_count": 77,
      "outputs": [
        {
          "output_type": "execute_result",
          "data": {
            "text/plain": [
              "Text(0.5, 0, 'epochs')"
            ]
          },
          "metadata": {
            "tags": []
          },
          "execution_count": 77
        },
        {
          "output_type": "display_data",
          "data": {
            "image/png": "[encoded data removed]",
            "text/plain": [
              "<Figure size 432x288 with 1 Axes>"
            ]
          },
          "metadata": {
            "tags": [],
            "needs_background": "light"
          }
        }
      ]
    },
    {
      "cell_type": "code",
      "metadata": {
        "id": "qHrM-GWB873g"
      },
      "source": [
        ""
      ],
      "execution_count": null,
      "outputs": []
    }
  ]
}