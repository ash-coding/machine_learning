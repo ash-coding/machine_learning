{
 "cells": [
  {
   "cell_type": "code",
   "execution_count": 1,
   "id": "c1570fce-b854-409b-b8cc-fb3dc3b2c7a5",
   "metadata": {},
   "outputs": [
    {
     "name": "stdout",
     "output_type": "stream",
     "text": [
      "INFO:tensorflow:Enabling eager execution\n",
      "INFO:tensorflow:Enabling v2 tensorshape\n",
      "INFO:tensorflow:Enabling resource variables\n",
      "INFO:tensorflow:Enabling tensor equality\n",
      "INFO:tensorflow:Enabling control flow v2\n"
     ]
    }
   ],
   "source": [
    "import numpy as np\n",
    "import pandas as pd\n",
    "import matplotlib.pyplot as plt\n",
    "import tensorflow as tf"
   ]
  },
  {
   "cell_type": "code",
   "execution_count": 2,
   "id": "01f62bb9-6770-44f4-a315-a1a9042025d6",
   "metadata": {},
   "outputs": [
    {
     "name": "stdout",
     "output_type": "stream",
     "text": [
      "[name: \"/device:CPU:0\"\n",
      "device_type: \"CPU\"\n",
      "memory_limit: 268435456\n",
      "locality {\n",
      "}\n",
      "incarnation: 1267019560946451413\n",
      "]\n"
     ]
    }
   ],
   "source": [
    "from tensorflow.python.client import device_lib\n",
    "print(device_lib.list_local_devices())"
   ]
  },
  {
   "cell_type": "code",
   "execution_count": 3,
   "id": "e9052be4-5ec6-485d-8837-e0f6bb66f2f3",
   "metadata": {},
   "outputs": [],
   "source": [
    "from tensorflow.keras.datasets import mnist"
   ]
  },
  {
   "cell_type": "code",
   "execution_count": 4,
   "id": "3cbb8fbf-44fb-4670-889c-7e0601da8285",
   "metadata": {},
   "outputs": [],
   "source": [
    "train, test = mnist.load_data()"
   ]
  },
  {
   "cell_type": "code",
   "execution_count": 5,
   "id": "436a6b8b-b0fd-4172-b34d-f7c72c10dd1a",
   "metadata": {},
   "outputs": [
    {
     "data": {
      "text/plain": [
       "2"
      ]
     },
     "execution_count": 5,
     "metadata": {},
     "output_type": "execute_result"
    }
   ],
   "source": [
    "len(train)"
   ]
  },
  {
   "cell_type": "code",
   "execution_count": 6,
   "id": "994873d3-0d1e-4ddb-b8a8-5d226d30471b",
   "metadata": {},
   "outputs": [
    {
     "data": {
      "text/plain": [
       "numpy.ndarray"
      ]
     },
     "execution_count": 6,
     "metadata": {},
     "output_type": "execute_result"
    }
   ],
   "source": [
    "type(train[0])"
   ]
  },
  {
   "cell_type": "code",
   "execution_count": 7,
   "id": "0d5c4743-c425-4d8d-a62b-7e74e8f53bda",
   "metadata": {},
   "outputs": [
    {
     "data": {
      "text/plain": [
       "array([[[0, 0, 0, ..., 0, 0, 0],\n",
       "        [0, 0, 0, ..., 0, 0, 0],\n",
       "        [0, 0, 0, ..., 0, 0, 0],\n",
       "        ...,\n",
       "        [0, 0, 0, ..., 0, 0, 0],\n",
       "        [0, 0, 0, ..., 0, 0, 0],\n",
       "        [0, 0, 0, ..., 0, 0, 0]],\n",
       "\n",
       "       [[0, 0, 0, ..., 0, 0, 0],\n",
       "        [0, 0, 0, ..., 0, 0, 0],\n",
       "        [0, 0, 0, ..., 0, 0, 0],\n",
       "        ...,\n",
       "        [0, 0, 0, ..., 0, 0, 0],\n",
       "        [0, 0, 0, ..., 0, 0, 0],\n",
       "        [0, 0, 0, ..., 0, 0, 0]],\n",
       "\n",
       "       [[0, 0, 0, ..., 0, 0, 0],\n",
       "        [0, 0, 0, ..., 0, 0, 0],\n",
       "        [0, 0, 0, ..., 0, 0, 0],\n",
       "        ...,\n",
       "        [0, 0, 0, ..., 0, 0, 0],\n",
       "        [0, 0, 0, ..., 0, 0, 0],\n",
       "        [0, 0, 0, ..., 0, 0, 0]],\n",
       "\n",
       "       ...,\n",
       "\n",
       "       [[0, 0, 0, ..., 0, 0, 0],\n",
       "        [0, 0, 0, ..., 0, 0, 0],\n",
       "        [0, 0, 0, ..., 0, 0, 0],\n",
       "        ...,\n",
       "        [0, 0, 0, ..., 0, 0, 0],\n",
       "        [0, 0, 0, ..., 0, 0, 0],\n",
       "        [0, 0, 0, ..., 0, 0, 0]],\n",
       "\n",
       "       [[0, 0, 0, ..., 0, 0, 0],\n",
       "        [0, 0, 0, ..., 0, 0, 0],\n",
       "        [0, 0, 0, ..., 0, 0, 0],\n",
       "        ...,\n",
       "        [0, 0, 0, ..., 0, 0, 0],\n",
       "        [0, 0, 0, ..., 0, 0, 0],\n",
       "        [0, 0, 0, ..., 0, 0, 0]],\n",
       "\n",
       "       [[0, 0, 0, ..., 0, 0, 0],\n",
       "        [0, 0, 0, ..., 0, 0, 0],\n",
       "        [0, 0, 0, ..., 0, 0, 0],\n",
       "        ...,\n",
       "        [0, 0, 0, ..., 0, 0, 0],\n",
       "        [0, 0, 0, ..., 0, 0, 0],\n",
       "        [0, 0, 0, ..., 0, 0, 0]]], dtype=uint8)"
      ]
     },
     "execution_count": 7,
     "metadata": {},
     "output_type": "execute_result"
    }
   ],
   "source": [
    "train[0]"
   ]
  },
  {
   "cell_type": "code",
   "execution_count": 8,
   "id": "01015c22-5fce-4baa-9364-d55610286fe5",
   "metadata": {},
   "outputs": [
    {
     "data": {
      "text/plain": [
       "(60000, 28, 28)"
      ]
     },
     "execution_count": 8,
     "metadata": {},
     "output_type": "execute_result"
    }
   ],
   "source": [
    "train[0].shape"
   ]
  },
  {
   "cell_type": "code",
   "execution_count": 9,
   "id": "c1112385-75a3-4378-aa30-6daaed96b2c1",
   "metadata": {},
   "outputs": [
    {
     "data": {
      "text/plain": [
       "<matplotlib.image.AxesImage at 0x17794c940>"
      ]
     },
     "execution_count": 9,
     "metadata": {},
     "output_type": "execute_result"
    },
    {
     "data": {
      "image/png": "[encoded data removed]",
      "text/plain": [
       "<Figure size 432x288 with 1 Axes>"
      ]
     },
     "metadata": {
      "needs_background": "light"
     },
     "output_type": "display_data"
    }
   ],
   "source": [
    "img = train[0][0]\n",
    "plt.imshow(img, cmap = 'gray')"
   ]
  },
  {
   "cell_type": "code",
   "execution_count": 10,
   "id": "20cc1e1a-7ad4-435c-8a10-e38a3e810e71",
   "metadata": {},
   "outputs": [
    {
     "data": {
      "text/plain": [
       "numpy.ndarray"
      ]
     },
     "execution_count": 10,
     "metadata": {},
     "output_type": "execute_result"
    }
   ],
   "source": [
    "type(train[1])"
   ]
  },
  {
   "cell_type": "code",
   "execution_count": 11,
   "id": "9fd5e02b-0deb-42f6-932f-ad8040e0ca8f",
   "metadata": {},
   "outputs": [
    {
     "data": {
      "text/plain": [
       "array([5, 0, 4, ..., 5, 6, 8], dtype=uint8)"
      ]
     },
     "execution_count": 11,
     "metadata": {},
     "output_type": "execute_result"
    }
   ],
   "source": [
    "train[1]"
   ]
  },
  {
   "cell_type": "code",
   "execution_count": 12,
   "id": "6b62c3ee-280b-4496-ba85-5042d463575f",
   "metadata": {},
   "outputs": [
    {
     "data": {
      "text/plain": [
       "(60000,)"
      ]
     },
     "execution_count": 12,
     "metadata": {},
     "output_type": "execute_result"
    }
   ],
   "source": [
    "train[1].shape"
   ]
  },
  {
   "cell_type": "code",
   "execution_count": 13,
   "id": "c0c71b34-8c7c-452a-9bb6-19497a59e7ff",
   "metadata": {},
   "outputs": [],
   "source": [
    "x_train = train[0].reshape(60000, 28, 28, 1) / 255\n",
    "x_test = test[0].reshape(10000, 28, 28, 1) / 255"
   ]
  },
  {
   "cell_type": "code",
   "execution_count": 14,
   "id": "6a8e14b4-c003-4c6d-9534-817a1eee3582",
   "metadata": {},
   "outputs": [
    {
     "data": {
      "text/plain": [
       "(28, 28, 1)"
      ]
     },
     "execution_count": 14,
     "metadata": {},
     "output_type": "execute_result"
    }
   ],
   "source": [
    "x_train[0].shape"
   ]
  },
  {
   "cell_type": "code",
   "execution_count": 15,
   "id": "f4957607-4058-49fe-8e0c-46c8436084a4",
   "metadata": {},
   "outputs": [
    {
     "data": {
      "text/plain": [
       "(0.0, 1.0)"
      ]
     },
     "execution_count": 15,
     "metadata": {},
     "output_type": "execute_result"
    }
   ],
   "source": [
    "x_train[0].min(), x_train[0].max()"
   ]
  },
  {
   "cell_type": "code",
   "execution_count": 16,
   "id": "eee2c116-c64c-4574-80c1-3e2801395c3c",
   "metadata": {},
   "outputs": [],
   "source": [
    "t_train = train[1]\n",
    "t_test = test[1]"
   ]
  },
  {
   "cell_type": "code",
   "execution_count": 17,
   "id": "0977e79e-7cca-4aa7-8b8f-0bbd597f389a",
   "metadata": {},
   "outputs": [],
   "source": [
    "x_train, x_test = x_train.astype('float32'), x_test.astype('float32')\n",
    "t_train, t_test = t_train.astype('int32'), t_test.astype('int32')"
   ]
  },
  {
   "cell_type": "code",
   "execution_count": 18,
   "id": "55241aac-f631-4dd0-b1e3-ca3fb15ffac4",
   "metadata": {},
   "outputs": [],
   "source": [
    "import os, random\n",
    "\n",
    "def reset_seed(seed = 0):\n",
    "    os.environ['PYTHONHASHSEED'] = '0'\n",
    "    random.seed(seed)\n",
    "    np.random.seed(seed)\n",
    "    tf.random.set_seed(seed)"
   ]
  },
  {
   "cell_type": "code",
   "execution_count": 19,
   "id": "8e611679-d265-477c-adc1-df1615f783e0",
   "metadata": {},
   "outputs": [],
   "source": [
    "from tensorflow.keras import models, layers\n",
    "\n",
    "reset_seed(0)\n",
    "\n",
    "model = models.Sequential([\n",
    "    layers.Conv2D(filters = 3, kernel_size = (3, 3), activation = 'relu', input_shape = (28, 28, 1)),\n",
    "    layers.MaxPool2D(pool_size = (2, 2)),\n",
    "    layers.Flatten(),\n",
    "    layers.Dense(100, activation = 'relu'),\n",
    "    layers.Dense(10, activation = 'softmax')\n",
    "])"
   ]
  },
  {
   "cell_type": "code",
   "execution_count": 20,
   "id": "ada2c49a-24dc-4e79-abc9-4a3b5a6bca77",
   "metadata": {},
   "outputs": [
    {
     "name": "stdout",
     "output_type": "stream",
     "text": [
      "Model: \"sequential\"\n",
      "_________________________________________________________________\n",
      "Layer (type)                 Output Shape              Param #   \n",
      "=================================================================\n",
      "conv2d (Conv2D)              (None, 26, 26, 3)         30        \n",
      "_________________________________________________________________\n",
      "max_pooling2d (MaxPooling2D) (None, 13, 13, 3)         0         \n",
      "_________________________________________________________________\n",
      "flatten (Flatten)            (None, 507)               0         \n",
      "_________________________________________________________________\n",
      "dense (Dense)                (None, 100)               50800     \n",
      "_________________________________________________________________\n",
      "dense_1 (Dense)              (None, 10)                1010      \n",
      "=================================================================\n",
      "Total params: 51,840\n",
      "Trainable params: 51,840\n",
      "Non-trainable params: 0\n",
      "_________________________________________________________________\n"
     ]
    }
   ],
   "source": [
    "model.summary()"
   ]
  },
  {
   "cell_type": "code",
   "execution_count": 21,
   "id": "b9742269-466d-445c-85fd-98adb7bd1d1e",
   "metadata": {},
   "outputs": [
    {
     "data": {
      "image/png": "[encoded data removed]",
      "text/plain": [
       "<IPython.core.display.Image object>"
      ]
     },
     "execution_count": 21,
     "metadata": {},
     "output_type": "execute_result"
    }
   ],
   "source": [
    "from tensorflow.keras.utils import plot_model\n",
    "plot_model(model)"
   ]
  },
  {
   "cell_type": "code",
   "execution_count": 22,
   "id": "64c9ac08-8bf5-4990-a2ec-096f6f9b6e8d",
   "metadata": {},
   "outputs": [
    {
     "name": "stderr",
     "output_type": "stream",
     "text": [
      "/usr/local/lib/python3.9/site-packages/tensorflow/python/keras/optimizer_v2/optimizer_v2.py:374: UserWarning: The `lr` argument is deprecated, use `learning_rate` instead.\n",
      "  warnings.warn(\n"
     ]
    }
   ],
   "source": [
    "optimizer = tf.keras.optimizers.Adam(lr = 0.01)\n",
    "model.compile(optimizer = optimizer,\n",
    "             loss = 'sparse_categorical_crossentropy',\n",
    "             metrics = ['accuracy'])"
   ]
  },
  {
   "cell_type": "code",
   "execution_count": 23,
   "id": "65a85cc9-7c64-4ebe-a82b-fe6eec642446",
   "metadata": {},
   "outputs": [
    {
     "name": "stdout",
     "output_type": "stream",
     "text": [
      "Epoch 1/30\n",
      "15/15 [==============================] - 2s 133ms/step - loss: 1.3839 - accuracy: 0.5829 - val_loss: 0.3955 - val_accuracy: 0.8911\n",
      "Epoch 2/30\n",
      "15/15 [==============================] - 2s 125ms/step - loss: 0.3555 - accuracy: 0.8972 - val_loss: 0.2814 - val_accuracy: 0.9165\n",
      "Epoch 3/30\n",
      "15/15 [==============================] - 2s 127ms/step - loss: 0.2666 - accuracy: 0.9209 - val_loss: 0.2084 - val_accuracy: 0.9360\n",
      "Epoch 4/30\n",
      "15/15 [==============================] - 2s 130ms/step - loss: 0.2060 - accuracy: 0.9396 - val_loss: 0.1792 - val_accuracy: 0.9435\n",
      "Epoch 5/30\n",
      "15/15 [==============================] - 2s 125ms/step - loss: 0.1660 - accuracy: 0.9501 - val_loss: 0.1536 - val_accuracy: 0.9530\n",
      "Epoch 6/30\n",
      "15/15 [==============================] - 2s 122ms/step - loss: 0.1419 - accuracy: 0.9574 - val_loss: 0.1282 - val_accuracy: 0.9609\n",
      "Epoch 7/30\n",
      "15/15 [==============================] - 2s 124ms/step - loss: 0.1227 - accuracy: 0.9634 - val_loss: 0.1176 - val_accuracy: 0.9648\n",
      "Epoch 8/30\n",
      "15/15 [==============================] - 2s 125ms/step - loss: 0.1094 - accuracy: 0.9677 - val_loss: 0.1078 - val_accuracy: 0.9663\n",
      "Epoch 9/30\n",
      "15/15 [==============================] - 2s 124ms/step - loss: 0.0990 - accuracy: 0.9693 - val_loss: 0.1016 - val_accuracy: 0.9688\n",
      "Epoch 10/30\n",
      "15/15 [==============================] - 2s 125ms/step - loss: 0.0880 - accuracy: 0.9737 - val_loss: 0.0999 - val_accuracy: 0.9698\n",
      "Epoch 11/30\n",
      "15/15 [==============================] - 2s 124ms/step - loss: 0.0804 - accuracy: 0.9754 - val_loss: 0.0894 - val_accuracy: 0.9724\n",
      "Epoch 12/30\n",
      "15/15 [==============================] - 2s 125ms/step - loss: 0.0747 - accuracy: 0.9776 - val_loss: 0.0864 - val_accuracy: 0.9729\n",
      "Epoch 13/30\n",
      "15/15 [==============================] - 2s 126ms/step - loss: 0.0661 - accuracy: 0.9802 - val_loss: 0.0832 - val_accuracy: 0.9745\n",
      "Epoch 14/30\n",
      "15/15 [==============================] - 2s 123ms/step - loss: 0.0623 - accuracy: 0.9810 - val_loss: 0.0799 - val_accuracy: 0.9753\n",
      "Epoch 15/30\n",
      "15/15 [==============================] - 2s 125ms/step - loss: 0.0574 - accuracy: 0.9831 - val_loss: 0.0754 - val_accuracy: 0.9768\n",
      "Epoch 16/30\n",
      "15/15 [==============================] - 2s 127ms/step - loss: 0.0510 - accuracy: 0.9847 - val_loss: 0.0778 - val_accuracy: 0.9751\n",
      "Epoch 17/30\n",
      "15/15 [==============================] - 2s 132ms/step - loss: 0.0486 - accuracy: 0.9855 - val_loss: 0.0717 - val_accuracy: 0.9774\n",
      "Epoch 18/30\n",
      "15/15 [==============================] - 2s 129ms/step - loss: 0.0432 - accuracy: 0.9867 - val_loss: 0.0749 - val_accuracy: 0.9772\n",
      "Epoch 19/30\n",
      "15/15 [==============================] - 2s 131ms/step - loss: 0.0485 - accuracy: 0.9842 - val_loss: 0.0795 - val_accuracy: 0.9762\n",
      "Epoch 20/30\n",
      "15/15 [==============================] - 2s 131ms/step - loss: 0.0415 - accuracy: 0.9868 - val_loss: 0.0705 - val_accuracy: 0.9781\n",
      "Epoch 21/30\n",
      "15/15 [==============================] - 2s 130ms/step - loss: 0.0390 - accuracy: 0.9883 - val_loss: 0.0706 - val_accuracy: 0.9786\n",
      "Epoch 22/30\n",
      "15/15 [==============================] - 2s 130ms/step - loss: 0.0360 - accuracy: 0.9885 - val_loss: 0.0689 - val_accuracy: 0.9791\n",
      "Epoch 23/30\n",
      "15/15 [==============================] - 2s 128ms/step - loss: 0.0295 - accuracy: 0.9913 - val_loss: 0.0688 - val_accuracy: 0.9784\n",
      "Epoch 24/30\n",
      "15/15 [==============================] - 2s 128ms/step - loss: 0.0315 - accuracy: 0.9902 - val_loss: 0.0708 - val_accuracy: 0.9792\n",
      "Epoch 25/30\n",
      "15/15 [==============================] - 2s 129ms/step - loss: 0.0283 - accuracy: 0.9915 - val_loss: 0.0662 - val_accuracy: 0.9804\n",
      "Epoch 26/30\n",
      "15/15 [==============================] - 2s 128ms/step - loss: 0.0256 - accuracy: 0.9922 - val_loss: 0.0734 - val_accuracy: 0.9782\n",
      "Epoch 27/30\n",
      "15/15 [==============================] - 2s 127ms/step - loss: 0.0271 - accuracy: 0.9914 - val_loss: 0.0693 - val_accuracy: 0.9807\n",
      "Epoch 28/30\n",
      "15/15 [==============================] - 2s 129ms/step - loss: 0.0227 - accuracy: 0.9931 - val_loss: 0.0691 - val_accuracy: 0.9803\n",
      "Epoch 29/30\n",
      "15/15 [==============================] - 2s 130ms/step - loss: 0.0216 - accuracy: 0.9932 - val_loss: 0.0761 - val_accuracy: 0.9780\n",
      "Epoch 30/30\n",
      "15/15 [==============================] - 2s 129ms/step - loss: 0.0245 - accuracy: 0.9921 - val_loss: 0.0697 - val_accuracy: 0.9807\n"
     ]
    }
   ],
   "source": [
    "batch_size = 4096\n",
    "epochs = 30\n",
    "\n",
    "history = model.fit(x_train, t_train,\n",
    "                   batch_size = batch_size,\n",
    "                   epochs = epochs,\n",
    "                   verbose = 1,\n",
    "                   validation_data = (x_test, t_test))"
   ]
  },
  {
   "cell_type": "code",
   "execution_count": 25,
   "id": "11258a4f-f8b7-4e8d-8140-1234a79df42e",
   "metadata": {},
   "outputs": [
    {
     "data": {
      "text/html": [
       "<div>\n",
       "<style scoped>\n",
       "    .dataframe tbody tr th:only-of-type {\n",
       "        vertical-align: middle;\n",
       "    }\n",
       "\n",
       "    .dataframe tbody tr th {\n",
       "        vertical-align: top;\n",
       "    }\n",
       "\n",
       "    .dataframe thead th {\n",
       "        text-align: right;\n",
       "    }\n",
       "</style>\n",
       "<table border=\"1\" class=\"dataframe\">\n",
       "  <thead>\n",
       "    <tr style=\"text-align: right;\">\n",
       "      <th></th>\n",
       "      <th>loss</th>\n",
       "      <th>accuracy</th>\n",
       "      <th>val_loss</th>\n",
       "      <th>val_accuracy</th>\n",
       "    </tr>\n",
       "  </thead>\n",
       "  <tbody>\n",
       "    <tr>\n",
       "      <th>25</th>\n",
       "      <td>0.026912</td>\n",
       "      <td>0.991833</td>\n",
       "      <td>0.073404</td>\n",
       "      <td>0.9782</td>\n",
       "    </tr>\n",
       "    <tr>\n",
       "      <th>26</th>\n",
       "      <td>0.026911</td>\n",
       "      <td>0.991667</td>\n",
       "      <td>0.069251</td>\n",
       "      <td>0.9807</td>\n",
       "    </tr>\n",
       "    <tr>\n",
       "      <th>27</th>\n",
       "      <td>0.023256</td>\n",
       "      <td>0.992700</td>\n",
       "      <td>0.069132</td>\n",
       "      <td>0.9803</td>\n",
       "    </tr>\n",
       "    <tr>\n",
       "      <th>28</th>\n",
       "      <td>0.023751</td>\n",
       "      <td>0.992500</td>\n",
       "      <td>0.076116</td>\n",
       "      <td>0.9780</td>\n",
       "    </tr>\n",
       "    <tr>\n",
       "      <th>29</th>\n",
       "      <td>0.025710</td>\n",
       "      <td>0.991833</td>\n",
       "      <td>0.069727</td>\n",
       "      <td>0.9807</td>\n",
       "    </tr>\n",
       "  </tbody>\n",
       "</table>\n",
       "</div>"
      ],
      "text/plain": [
       "        loss  accuracy  val_loss  val_accuracy\n",
       "25  0.026912  0.991833  0.073404        0.9782\n",
       "26  0.026911  0.991667  0.069251        0.9807\n",
       "27  0.023256  0.992700  0.069132        0.9803\n",
       "28  0.023751  0.992500  0.076116        0.9780\n",
       "29  0.025710  0.991833  0.069727        0.9807"
      ]
     },
     "execution_count": 25,
     "metadata": {},
     "output_type": "execute_result"
    }
   ],
   "source": [
    "results = pd.DataFrame(history.history)\n",
    "results.tail()"
   ]
  },
  {
   "cell_type": "code",
   "execution_count": 26,
   "id": "395995cd-bd11-4a14-b12d-2c9109d01d5f",
   "metadata": {},
   "outputs": [
    {
     "data": {
      "text/plain": [
       "Text(0.5, 0, 'epochs')"
      ]
     },
     "execution_count": 26,
     "metadata": {},
     "output_type": "execute_result"
    },
    {
     "data": {
      "image/png": "[encoded data removed]",
      "text/plain": [
       "<Figure size 432x288 with 1 Axes>"
      ]
     },
     "metadata": {
      "needs_background": "light"
     },
     "output_type": "display_data"
    }
   ],
   "source": [
    "results[['loss', 'val_loss']].plot(title = 'loss')\n",
    "plt.xlabel('epochs')"
   ]
  },
  {
   "cell_type": "code",
   "execution_count": 27,
   "id": "a5b0438d-43ad-49bc-8fe1-2f72f9d1a221",
   "metadata": {},
   "outputs": [
    {
     "data": {
      "text/plain": [
       "Text(0.5, 0, 'epochs')"
      ]
     },
     "execution_count": 27,
     "metadata": {},
     "output_type": "execute_result"
    },
    {
     "data": {
      "image/png": "[encoded data removed]",
      "text/plain": [
       "<Figure size 432x288 with 1 Axes>"
      ]
     },
     "metadata": {
      "needs_background": "light"
     },
     "output_type": "display_data"
    }
   ],
   "source": [
    "results[['accuracy', 'val_accuracy']].plot(title = 'accuracy')\n",
    "plt.xlabel('epochs')"
   ]
  },
  {
   "cell_type": "code",
   "execution_count": 28,
   "id": "bcd0e6c4-a6fa-49c9-bd52-d11fa39e02af",
   "metadata": {},
   "outputs": [
    {
     "data": {
      "text/plain": [
       "(1, 28, 28, 1)"
      ]
     },
     "execution_count": 28,
     "metadata": {},
     "output_type": "execute_result"
    }
   ],
   "source": [
    "x_sample = np.array([x_train[0]])\n",
    "x_sample.shape"
   ]
  },
  {
   "cell_type": "code",
   "execution_count": 29,
   "id": "3a79c0bb-e3c1-4269-9f27-ddbae6ae07ff",
   "metadata": {},
   "outputs": [
    {
     "data": {
      "text/plain": [
       "[<tensorflow.python.keras.layers.convolutional.Conv2D at 0x17797e520>,\n",
       " <tensorflow.python.keras.layers.pooling.MaxPooling2D at 0x1034b0a90>,\n",
       " <tensorflow.python.keras.layers.core.Flatten at 0x177a28b50>,\n",
       " <tensorflow.python.keras.layers.core.Dense at 0x177a414c0>,\n",
       " <tensorflow.python.keras.layers.core.Dense at 0x177a41760>]"
      ]
     },
     "execution_count": 29,
     "metadata": {},
     "output_type": "execute_result"
    }
   ],
   "source": [
    "model.layers"
   ]
  },
  {
   "cell_type": "code",
   "execution_count": 30,
   "id": "3f46ebc6-963a-434f-b12f-df349aaf620b",
   "metadata": {},
   "outputs": [
    {
     "data": {
      "text/plain": [
       "[array([[[[-0.83995336, -0.7852355 ,  0.34423134]],\n",
       " \n",
       "         [[ 0.31213436, -0.31003937,  0.55768806]],\n",
       " \n",
       "         [[ 0.5103967 ,  0.58898723,  0.25617254]]],\n",
       " \n",
       " \n",
       "        [[[-0.88773453, -0.33423597,  0.36585355]],\n",
       " \n",
       "         [[-0.13609526,  0.08106028,  0.2621857 ]],\n",
       " \n",
       "         [[ 0.6569136 ,  0.62182975,  0.28951514]]],\n",
       " \n",
       " \n",
       "        [[[-0.14588936, -0.25060984, -0.3279086 ]],\n",
       " \n",
       "         [[-0.82551956,  0.54177654,  0.29298815]],\n",
       " \n",
       "         [[ 0.3777653 ,  0.0728058 ,  0.39697555]]]], dtype=float32),\n",
       " array([ 0.08566517,  0.00383966, -0.01436156], dtype=float32)]"
      ]
     },
     "execution_count": 30,
     "metadata": {},
     "output_type": "execute_result"
    }
   ],
   "source": [
    "model.layers[0].get_weights()"
   ]
  },
  {
   "cell_type": "code",
   "execution_count": 31,
   "id": "eb1d4f4d-c4a2-4145-b713-47f7d6c29d73",
   "metadata": {},
   "outputs": [],
   "source": [
    "output = model.layers[0](x_sample)\n",
    "output = output[0].numpy()"
   ]
  },
  {
   "cell_type": "code",
   "execution_count": 32,
   "id": "70869de9-b574-4115-b7f4-3dc40f4233a9",
   "metadata": {},
   "outputs": [
    {
     "data": {
      "text/plain": [
       "(26, 26, 3)"
      ]
     },
     "execution_count": 32,
     "metadata": {},
     "output_type": "execute_result"
    }
   ],
   "source": [
    "output.shape"
   ]
  },
  {
   "cell_type": "code",
   "execution_count": 33,
   "id": "b641d75a-f2b7-4bf3-a2d6-8757a3c73668",
   "metadata": {},
   "outputs": [
    {
     "data": {
      "text/plain": [
       "<matplotlib.image.AxesImage at 0x1798b6af0>"
      ]
     },
     "execution_count": 33,
     "metadata": {},
     "output_type": "execute_result"
    },
    {
     "data": {
      "image/png": "[encoded data removed]",
      "text/plain": [
       "<Figure size 432x288 with 1 Axes>"
      ]
     },
     "metadata": {
      "needs_background": "light"
     },
     "output_type": "display_data"
    }
   ],
   "source": [
    "plt.imshow(output[:, :, 0], cmap = 'gray')"
   ]
  },
  {
   "cell_type": "code",
   "execution_count": 34,
   "id": "06c76e7b-7e84-4d4a-9a19-f24b46857021",
   "metadata": {},
   "outputs": [
    {
     "data": {
      "text/plain": [
       "<matplotlib.image.AxesImage at 0x17a19c1c0>"
      ]
     },
     "execution_count": 34,
     "metadata": {},
     "output_type": "execute_result"
    },
    {
     "data": {
      "image/png": "[encoded data removed]",
      "text/plain": [
       "<Figure size 432x288 with 1 Axes>"
      ]
     },
     "metadata": {
      "needs_background": "light"
     },
     "output_type": "display_data"
    }
   ],
   "source": [
    "plt.imshow(output[:, :, 1], cmap = 'gray')"
   ]
  },
  {
   "cell_type": "code",
   "execution_count": 35,
   "id": "3487b92f-f278-4bc4-a6b1-f80813117f62",
   "metadata": {},
   "outputs": [
    {
     "data": {
      "text/plain": [
       "<matplotlib.image.AxesImage at 0x17a2dd1f0>"
      ]
     },
     "execution_count": 35,
     "metadata": {},
     "output_type": "execute_result"
    },
    {
     "data": {
      "image/png": "[encoded data removed]",
      "text/plain": [
       "<Figure size 432x288 with 1 Axes>"
      ]
     },
     "metadata": {
      "needs_background": "light"
     },
     "output_type": "display_data"
    }
   ],
   "source": [
    "plt.imshow(output[:, :, 2], cmap = 'gray')"
   ]
  },
  {
   "cell_type": "code",
   "execution_count": 46,
   "id": "166f16b2-15d6-41c3-a86a-00b335b7132c",
   "metadata": {},
   "outputs": [],
   "source": [
    "output = model.layers[0](x_sample)\n",
    "output = model.layers[1](output)\n",
    "output = output[0].numpy()"
   ]
  },
  {
   "cell_type": "code",
   "execution_count": 47,
   "id": "b0c1da94-2489-46cf-99c0-32200b82431a",
   "metadata": {},
   "outputs": [
    {
     "data": {
      "text/plain": [
       "(13, 13, 3)"
      ]
     },
     "execution_count": 47,
     "metadata": {},
     "output_type": "execute_result"
    }
   ],
   "source": [
    "output.shape"
   ]
  },
  {
   "cell_type": "code",
   "execution_count": 48,
   "id": "79ba27e5-900e-4ccc-b1b3-f790d12d2123",
   "metadata": {},
   "outputs": [
    {
     "data": {
      "text/plain": [
       "<matplotlib.image.AxesImage at 0x17a738880>"
      ]
     },
     "execution_count": 48,
     "metadata": {},
     "output_type": "execute_result"
    },
    {
     "data": {
      "image/png": "[encoded data removed]",
      "text/plain": [
       "<Figure size 432x288 with 1 Axes>"
      ]
     },
     "metadata": {
      "needs_background": "light"
     },
     "output_type": "display_data"
    }
   ],
   "source": [
    "plt.imshow(output[:, :, 0], cmap = 'gray')"
   ]
  },
  {
   "cell_type": "code",
   "execution_count": 49,
   "id": "8a00486d-4372-47bb-ae7a-adab157ec58a",
   "metadata": {},
   "outputs": [
    {
     "data": {
      "text/plain": [
       "<matplotlib.image.AxesImage at 0x17a77ceb0>"
      ]
     },
     "execution_count": 49,
     "metadata": {},
     "output_type": "execute_result"
    },
    {
     "data": {
      "image/png": "[encoded data removed]",
      "text/plain": [
       "<Figure size 432x288 with 1 Axes>"
      ]
     },
     "metadata": {
      "needs_background": "light"
     },
     "output_type": "display_data"
    }
   ],
   "source": [
    "plt.imshow(output[:, :, 1], cmap = 'gray')"
   ]
  },
  {
   "cell_type": "code",
   "execution_count": 50,
   "id": "a52ac762-74c4-4fba-b0ab-200465100b64",
   "metadata": {},
   "outputs": [
    {
     "data": {
      "text/plain": [
       "<matplotlib.image.AxesImage at 0x17a85f700>"
      ]
     },
     "execution_count": 50,
     "metadata": {},
     "output_type": "execute_result"
    },
    {
     "data": {
      "image/png": "[encoded data removed]",
      "text/plain": [
       "<Figure size 432x288 with 1 Axes>"
      ]
     },
     "metadata": {
      "needs_background": "light"
     },
     "output_type": "display_data"
    }
   ],
   "source": [
    "plt.imshow(output[:, :, 2], cmap = 'gray')"
   ]
  },
  {
   "cell_type": "code",
   "execution_count": 51,
   "id": "83b8e343-f227-44a7-acab-cb0e1d1d290c",
   "metadata": {},
   "outputs": [],
   "source": [
    "output = model.layers[0](x_sample)\n",
    "output = model.layers[1](output)\n",
    "output = model.layers[2](output)\n",
    "output = output[0].numpy()"
   ]
  },
  {
   "cell_type": "code",
   "execution_count": 52,
   "id": "d33b6b60-6cc9-4829-a073-8144726f5eb0",
   "metadata": {},
   "outputs": [
    {
     "data": {
      "text/plain": [
       "(507,)"
      ]
     },
     "execution_count": 52,
     "metadata": {},
     "output_type": "execute_result"
    }
   ],
   "source": [
    "output.shape"
   ]
  },
  {
   "cell_type": "code",
   "execution_count": null,
   "id": "80a97e58-efc6-4bdb-9692-895ab35f6f75",
   "metadata": {},
   "outputs": [],
   "source": []
  }
 ],
 "metadata": {
  "kernelspec": {
   "display_name": "Python 3",
   "language": "python",
   "name": "python3"
  },
  "language_info": {
   "codemirror_mode": {
    "name": "ipython",
    "version": 3
   },
   "file_extension": ".py",
   "mimetype": "text/x-python",
   "name": "python",
   "nbconvert_exporter": "python",
   "pygments_lexer": "ipython3",
   "version": "3.9.4"
  }
 },
 "nbformat": 4,
 "nbformat_minor": 5
}
