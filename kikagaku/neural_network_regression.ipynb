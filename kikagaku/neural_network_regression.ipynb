{
 "cells": [
  {
   "cell_type": "code",
   "execution_count": 1,
   "id": "1910a019-708a-4f75-a7cc-ab64c47ffbe3",
   "metadata": {},
   "outputs": [
    {
     "name": "stdout",
     "output_type": "stream",
     "text": [
      "INFO:tensorflow:Enabling eager execution\n",
      "INFO:tensorflow:Enabling v2 tensorshape\n",
      "INFO:tensorflow:Enabling resource variables\n",
      "INFO:tensorflow:Enabling tensor equality\n",
      "INFO:tensorflow:Enabling control flow v2\n"
     ]
    }
   ],
   "source": [
    "import numpy as np\n",
    "import pandas as pd\n",
    "import matplotlib.pyplot as plt\n",
    "import tensorflow as tf"
   ]
  },
  {
   "cell_type": "code",
   "execution_count": 2,
   "id": "c1a5dd50-f2b4-4324-8671-7256173f41ac",
   "metadata": {},
   "outputs": [],
   "source": [
    "dataset = tf.keras.datasets.boston_housing\n",
    "train, test = dataset.load_data()"
   ]
  },
  {
   "cell_type": "code",
   "execution_count": 3,
   "id": "21cd7d02-d68d-4294-9887-dbe356543340",
   "metadata": {},
   "outputs": [
    {
     "data": {
      "text/plain": [
       "(array([[1.23247e+00, 0.00000e+00, 8.14000e+00, ..., 2.10000e+01,\n",
       "         3.96900e+02, 1.87200e+01],\n",
       "        [2.17700e-02, 8.25000e+01, 2.03000e+00, ..., 1.47000e+01,\n",
       "         3.95380e+02, 3.11000e+00],\n",
       "        [4.89822e+00, 0.00000e+00, 1.81000e+01, ..., 2.02000e+01,\n",
       "         3.75520e+02, 3.26000e+00],\n",
       "        ...,\n",
       "        [3.46600e-02, 3.50000e+01, 6.06000e+00, ..., 1.69000e+01,\n",
       "         3.62250e+02, 7.83000e+00],\n",
       "        [2.14918e+00, 0.00000e+00, 1.95800e+01, ..., 1.47000e+01,\n",
       "         2.61950e+02, 1.57900e+01],\n",
       "        [1.43900e-02, 6.00000e+01, 2.93000e+00, ..., 1.56000e+01,\n",
       "         3.76700e+02, 4.38000e+00]]),\n",
       " array([15.2, 42.3, 50. , 21.1, 17.7, 18.5, 11.3, 15.6, 15.6, 14.4, 12.1,\n",
       "        17.9, 23.1, 19.9, 15.7,  8.8, 50. , 22.5, 24.1, 27.5, 10.9, 30.8,\n",
       "        32.9, 24. , 18.5, 13.3, 22.9, 34.7, 16.6, 17.5, 22.3, 16.1, 14.9,\n",
       "        23.1, 34.9, 25. , 13.9, 13.1, 20.4, 20. , 15.2, 24.7, 22.2, 16.7,\n",
       "        12.7, 15.6, 18.4, 21. , 30.1, 15.1, 18.7,  9.6, 31.5, 24.8, 19.1,\n",
       "        22. , 14.5, 11. , 32. , 29.4, 20.3, 24.4, 14.6, 19.5, 14.1, 14.3,\n",
       "        15.6, 10.5,  6.3, 19.3, 19.3, 13.4, 36.4, 17.8, 13.5, 16.5,  8.3,\n",
       "        14.3, 16. , 13.4, 28.6, 43.5, 20.2, 22. , 23. , 20.7, 12.5, 48.5,\n",
       "        14.6, 13.4, 23.7, 50. , 21.7, 39.8, 38.7, 22.2, 34.9, 22.5, 31.1,\n",
       "        28.7, 46. , 41.7, 21. , 26.6, 15. , 24.4, 13.3, 21.2, 11.7, 21.7,\n",
       "        19.4, 50. , 22.8, 19.7, 24.7, 36.2, 14.2, 18.9, 18.3, 20.6, 24.6,\n",
       "        18.2,  8.7, 44. , 10.4, 13.2, 21.2, 37. , 30.7, 22.9, 20. , 19.3,\n",
       "        31.7, 32. , 23.1, 18.8, 10.9, 50. , 19.6,  5. , 14.4, 19.8, 13.8,\n",
       "        19.6, 23.9, 24.5, 25. , 19.9, 17.2, 24.6, 13.5, 26.6, 21.4, 11.9,\n",
       "        22.6, 19.6,  8.5, 23.7, 23.1, 22.4, 20.5, 23.6, 18.4, 35.2, 23.1,\n",
       "        27.9, 20.6, 23.7, 28. , 13.6, 27.1, 23.6, 20.6, 18.2, 21.7, 17.1,\n",
       "         8.4, 25.3, 13.8, 22.2, 18.4, 20.7, 31.6, 30.5, 20.3,  8.8, 19.2,\n",
       "        19.4, 23.1, 23. , 14.8, 48.8, 22.6, 33.4, 21.1, 13.6, 32.2, 13.1,\n",
       "        23.4, 18.9, 23.9, 11.8, 23.3, 22.8, 19.6, 16.7, 13.4, 22.2, 20.4,\n",
       "        21.8, 26.4, 14.9, 24.1, 23.8, 12.3, 29.1, 21. , 19.5, 23.3, 23.8,\n",
       "        17.8, 11.5, 21.7, 19.9, 25. , 33.4, 28.5, 21.4, 24.3, 27.5, 33.1,\n",
       "        16.2, 23.3, 48.3, 22.9, 22.8, 13.1, 12.7, 22.6, 15. , 15.3, 10.5,\n",
       "        24. , 18.5, 21.7, 19.5, 33.2, 23.2,  5. , 19.1, 12.7, 22.3, 10.2,\n",
       "        13.9, 16.3, 17. , 20.1, 29.9, 17.2, 37.3, 45.4, 17.8, 23.2, 29. ,\n",
       "        22. , 18. , 17.4, 34.6, 20.1, 25. , 15.6, 24.8, 28.2, 21.2, 21.4,\n",
       "        23.8, 31. , 26.2, 17.4, 37.9, 17.5, 20. ,  8.3, 23.9,  8.4, 13.8,\n",
       "         7.2, 11.7, 17.1, 21.6, 50. , 16.1, 20.4, 20.6, 21.4, 20.6, 36.5,\n",
       "         8.5, 24.8, 10.8, 21.9, 17.3, 18.9, 36.2, 14.9, 18.2, 33.3, 21.8,\n",
       "        19.7, 31.6, 24.8, 19.4, 22.8,  7.5, 44.8, 16.8, 18.7, 50. , 50. ,\n",
       "        19.5, 20.1, 50. , 17.2, 20.8, 19.3, 41.3, 20.4, 20.5, 13.8, 16.5,\n",
       "        23.9, 20.6, 31.5, 23.3, 16.8, 14. , 33.8, 36.1, 12.8, 18.3, 18.7,\n",
       "        19.1, 29. , 30.1, 50. , 50. , 22. , 11.9, 37.6, 50. , 22.7, 20.8,\n",
       "        23.5, 27.9, 50. , 19.3, 23.9, 22.6, 15.2, 21.7, 19.2, 43.8, 20.3,\n",
       "        33.2, 19.9, 22.5, 32.7, 22. , 17.1, 19. , 15. , 16.1, 25.1, 23.7,\n",
       "        28.7, 37.2, 22.6, 16.4, 25. , 29.8, 22.1, 17.4, 18.1, 30.3, 17.5,\n",
       "        24.7, 12.6, 26.5, 28.7, 13.3, 10.4, 24.4, 23. , 20. , 17.8,  7. ,\n",
       "        11.8, 24.4, 13.8, 19.4, 25.2, 19.4, 19.4, 29.1]))"
      ]
     },
     "execution_count": 3,
     "metadata": {},
     "output_type": "execute_result"
    }
   ],
   "source": [
    "train"
   ]
  },
  {
   "cell_type": "code",
   "execution_count": 4,
   "id": "7dc25b42-13a4-41f5-9bf9-a3390ddebbf8",
   "metadata": {},
   "outputs": [
    {
     "data": {
      "text/plain": [
       "(array([[1.80846e+01, 0.00000e+00, 1.81000e+01, ..., 2.02000e+01,\n",
       "         2.72500e+01, 2.90500e+01],\n",
       "        [1.23290e-01, 0.00000e+00, 1.00100e+01, ..., 1.78000e+01,\n",
       "         3.94950e+02, 1.62100e+01],\n",
       "        [5.49700e-02, 0.00000e+00, 5.19000e+00, ..., 2.02000e+01,\n",
       "         3.96900e+02, 9.74000e+00],\n",
       "        ...,\n",
       "        [1.83377e+00, 0.00000e+00, 1.95800e+01, ..., 1.47000e+01,\n",
       "         3.89610e+02, 1.92000e+00],\n",
       "        [3.58090e-01, 0.00000e+00, 6.20000e+00, ..., 1.74000e+01,\n",
       "         3.91700e+02, 9.71000e+00],\n",
       "        [2.92400e+00, 0.00000e+00, 1.95800e+01, ..., 1.47000e+01,\n",
       "         2.40160e+02, 9.81000e+00]]),\n",
       " array([ 7.2, 18.8, 19. , 27. , 22.2, 24.5, 31.2, 22.9, 20.5, 23.2, 18.6,\n",
       "        14.5, 17.8, 50. , 20.8, 24.3, 24.2, 19.8, 19.1, 22.7, 12. , 10.2,\n",
       "        20. , 18.5, 20.9, 23. , 27.5, 30.1,  9.5, 22. , 21.2, 14.1, 33.1,\n",
       "        23.4, 20.1,  7.4, 15.4, 23.8, 20.1, 24.5, 33. , 28.4, 14.1, 46.7,\n",
       "        32.5, 29.6, 28.4, 19.8, 20.2, 25. , 35.4, 20.3,  9.7, 14.5, 34.9,\n",
       "        26.6,  7.2, 50. , 32.4, 21.6, 29.8, 13.1, 27.5, 21.2, 23.1, 21.9,\n",
       "        13. , 23.2,  8.1,  5.6, 21.7, 29.6, 19.6,  7. , 26.4, 18.9, 20.9,\n",
       "        28.1, 35.4, 10.2, 24.3, 43.1, 17.6, 15.4, 16.2, 27.1, 21.4, 21.5,\n",
       "        22.4, 25. , 16.6, 18.6, 22. , 42.8, 35.1, 21.5, 36. , 21.9, 24.1,\n",
       "        50. , 26.7, 25. ]))"
      ]
     },
     "execution_count": 4,
     "metadata": {},
     "output_type": "execute_result"
    }
   ],
   "source": [
    "test"
   ]
  },
  {
   "cell_type": "code",
   "execution_count": 5,
   "id": "fb51efb4-22b4-41fc-9d3b-09b123eb4174",
   "metadata": {},
   "outputs": [
    {
     "data": {
      "text/plain": [
       "((404, 13), (102, 13))"
      ]
     },
     "execution_count": 5,
     "metadata": {},
     "output_type": "execute_result"
    }
   ],
   "source": [
    "train[0].shape, test[0].shape"
   ]
  },
  {
   "cell_type": "code",
   "execution_count": 6,
   "id": "d8ff1955-1f4a-4efb-8f69-95d1f2d36170",
   "metadata": {},
   "outputs": [],
   "source": [
    "x_train = np.array(train[0], np.float32)\n",
    "t_train = np.array(train[1], np.int32)\n",
    "\n",
    "x_test = np.array(test[0], np.float32)\n",
    "t_test = np.array(test[1], np.int32)"
   ]
  },
  {
   "cell_type": "code",
   "execution_count": 7,
   "id": "f8bbd149-3946-4cec-bf30-9f02b351aafb",
   "metadata": {},
   "outputs": [
    {
     "data": {
      "text/plain": [
       "(dtype('float32'), (404, 13))"
      ]
     },
     "execution_count": 7,
     "metadata": {},
     "output_type": "execute_result"
    }
   ],
   "source": [
    "x_train.dtype, x_train.shape"
   ]
  },
  {
   "cell_type": "code",
   "execution_count": 8,
   "id": "f74498a0-1496-4182-bc23-103956369e85",
   "metadata": {},
   "outputs": [
    {
     "data": {
      "text/plain": [
       "(dtype('float32'), (102, 13))"
      ]
     },
     "execution_count": 8,
     "metadata": {},
     "output_type": "execute_result"
    }
   ],
   "source": [
    "x_test.dtype, x_test.shape"
   ]
  },
  {
   "cell_type": "code",
   "execution_count": 9,
   "id": "8b99b668-b803-4157-858a-e0fffb3a829d",
   "metadata": {},
   "outputs": [],
   "source": [
    "import os, random\n",
    "\n",
    "def reset_seed(seed = 0):\n",
    "    os.environ['PYTHONHASHSEED'] = '0'\n",
    "    random.seed(seed)\n",
    "    np.random.seed(seed)\n",
    "    tf.random.set_seed(seed)"
   ]
  },
  {
   "cell_type": "code",
   "execution_count": 10,
   "id": "813caaa0-eac6-4f36-a7cf-c8e642007415",
   "metadata": {},
   "outputs": [],
   "source": [
    "reset_seed(0)\n",
    "\n",
    "model = tf.keras.models.Sequential([\n",
    "    tf.keras.layers.Dense(32, activation = 'relu', input_shape = (13,)),\n",
    "    tf.keras.layers.Dense(1),\n",
    "])\n",
    "\n",
    "model.compile(optimizer = 'adam',\n",
    "             loss = 'mse',\n",
    "             metrics = ['mae'])"
   ]
  },
  {
   "cell_type": "code",
   "execution_count": 11,
   "id": "26b0dfb4-fb65-4759-bfa0-82d2de8b8382",
   "metadata": {},
   "outputs": [
    {
     "name": "stdout",
     "output_type": "stream",
     "text": [
      "Model: \"sequential\"\n",
      "_________________________________________________________________\n",
      "Layer (type)                 Output Shape              Param #   \n",
      "=================================================================\n",
      "dense (Dense)                (None, 32)                448       \n",
      "_________________________________________________________________\n",
      "dense_1 (Dense)              (None, 1)                 33        \n",
      "=================================================================\n",
      "Total params: 481\n",
      "Trainable params: 481\n",
      "Non-trainable params: 0\n",
      "_________________________________________________________________\n"
     ]
    }
   ],
   "source": [
    "model.summary()"
   ]
  },
  {
   "cell_type": "code",
   "execution_count": 13,
   "id": "5c343654-f9a9-4b21-9c7b-52639f69f13b",
   "metadata": {},
   "outputs": [
    {
     "data": {
      "image/png": "[encoded data removed]",
      "text/plain": [
       "<IPython.core.display.Image object>"
      ]
     },
     "execution_count": 13,
     "metadata": {},
     "output_type": "execute_result"
    }
   ],
   "source": [
    "tf.keras.utils.plot_model(model)"
   ]
  },
  {
   "cell_type": "code",
   "execution_count": 14,
   "id": "54e19151-2946-4107-89ba-078a1a8a1d49",
   "metadata": {},
   "outputs": [
    {
     "name": "stdout",
     "output_type": "stream",
     "text": [
      "Epoch 1/30\n",
      "13/13 [==============================] - 0s 10ms/step - loss: 24562.4830 - mae: 150.0465 - val_loss: 13315.3271 - val_mae: 108.2218\n",
      "Epoch 2/30\n",
      "13/13 [==============================] - 0s 2ms/step - loss: 10501.7233 - mae: 95.0373 - val_loss: 4070.0107 - val_mae: 55.7379\n",
      "Epoch 3/30\n",
      "13/13 [==============================] - 0s 2ms/step - loss: 3029.1549 - mae: 46.9873 - val_loss: 985.7280 - val_mae: 25.3244\n",
      "Epoch 4/30\n",
      "13/13 [==============================] - 0s 2ms/step - loss: 659.7966 - mae: 21.1643 - val_loss: 499.1852 - val_mae: 19.3275\n",
      "Epoch 5/30\n",
      "13/13 [==============================] - 0s 2ms/step - loss: 467.6584 - mae: 18.5552 - val_loss: 451.2462 - val_mae: 17.8600\n",
      "Epoch 6/30\n",
      "13/13 [==============================] - 0s 2ms/step - loss: 413.3285 - mae: 17.0749 - val_loss: 366.1032 - val_mae: 16.0113\n",
      "Epoch 7/30\n",
      "13/13 [==============================] - 0s 2ms/step - loss: 338.4276 - mae: 15.4052 - val_loss: 290.7779 - val_mae: 14.2709\n",
      "Epoch 8/30\n",
      "13/13 [==============================] - 0s 2ms/step - loss: 255.0557 - mae: 13.8264 - val_loss: 239.0802 - val_mae: 12.8126\n",
      "Epoch 9/30\n",
      "13/13 [==============================] - 0s 2ms/step - loss: 190.3814 - mae: 11.9628 - val_loss: 187.1235 - val_mae: 11.1303\n",
      "Epoch 10/30\n",
      "13/13 [==============================] - 0s 2ms/step - loss: 148.7017 - mae: 10.4822 - val_loss: 128.0974 - val_mae: 8.9487\n",
      "Epoch 11/30\n",
      "13/13 [==============================] - 0s 2ms/step - loss: 97.5234 - mae: 8.1068 - val_loss: 92.8366 - val_mae: 7.5939\n",
      "Epoch 12/30\n",
      "13/13 [==============================] - 0s 2ms/step - loss: 78.5268 - mae: 7.2324 - val_loss: 80.5972 - val_mae: 6.9503\n",
      "Epoch 13/30\n",
      "13/13 [==============================] - 0s 2ms/step - loss: 64.9731 - mae: 6.3699 - val_loss: 76.2972 - val_mae: 6.7456\n",
      "Epoch 14/30\n",
      "13/13 [==============================] - 0s 2ms/step - loss: 65.4913 - mae: 6.2799 - val_loss: 74.5592 - val_mae: 6.6509\n",
      "Epoch 15/30\n",
      "13/13 [==============================] - 0s 2ms/step - loss: 66.4697 - mae: 6.3179 - val_loss: 73.1674 - val_mae: 6.5999\n",
      "Epoch 16/30\n",
      "13/13 [==============================] - 0s 2ms/step - loss: 67.1019 - mae: 6.1957 - val_loss: 71.9212 - val_mae: 6.5562\n",
      "Epoch 17/30\n",
      "13/13 [==============================] - 0s 2ms/step - loss: 53.7250 - mae: 5.5261 - val_loss: 71.8438 - val_mae: 6.5109\n",
      "Epoch 18/30\n",
      "13/13 [==============================] - 0s 2ms/step - loss: 67.3012 - mae: 6.1980 - val_loss: 69.8899 - val_mae: 6.4859\n",
      "Epoch 19/30\n",
      "13/13 [==============================] - 0s 2ms/step - loss: 58.8341 - mae: 5.6916 - val_loss: 70.9613 - val_mae: 6.4345\n",
      "Epoch 20/30\n",
      "13/13 [==============================] - 0s 2ms/step - loss: 62.3228 - mae: 5.7770 - val_loss: 68.4426 - val_mae: 6.4263\n",
      "Epoch 21/30\n",
      "13/13 [==============================] - 0s 2ms/step - loss: 60.7362 - mae: 5.8628 - val_loss: 68.2824 - val_mae: 6.3703\n",
      "Epoch 22/30\n",
      "13/13 [==============================] - 0s 2ms/step - loss: 59.3234 - mae: 5.7089 - val_loss: 67.3868 - val_mae: 6.3410\n",
      "Epoch 23/30\n",
      "13/13 [==============================] - 0s 2ms/step - loss: 58.7768 - mae: 5.7273 - val_loss: 67.3321 - val_mae: 6.3008\n",
      "Epoch 24/30\n",
      "13/13 [==============================] - 0s 2ms/step - loss: 62.7311 - mae: 5.8219 - val_loss: 66.0178 - val_mae: 6.2759\n",
      "Epoch 25/30\n",
      "13/13 [==============================] - 0s 2ms/step - loss: 54.3605 - mae: 5.5437 - val_loss: 66.1542 - val_mae: 6.2409\n",
      "Epoch 26/30\n",
      "13/13 [==============================] - 0s 2ms/step - loss: 53.6599 - mae: 5.6251 - val_loss: 64.5926 - val_mae: 6.2306\n",
      "Epoch 27/30\n",
      "13/13 [==============================] - 0s 2ms/step - loss: 51.1247 - mae: 5.4451 - val_loss: 64.0285 - val_mae: 6.1978\n",
      "Epoch 28/30\n",
      "13/13 [==============================] - 0s 2ms/step - loss: 51.8848 - mae: 5.2757 - val_loss: 63.5342 - val_mae: 6.1651\n",
      "Epoch 29/30\n",
      "13/13 [==============================] - 0s 2ms/step - loss: 51.4601 - mae: 5.2640 - val_loss: 63.6503 - val_mae: 6.1194\n",
      "Epoch 30/30\n",
      "13/13 [==============================] - 0s 2ms/step - loss: 53.2709 - mae: 5.3716 - val_loss: 62.3125 - val_mae: 6.1154\n"
     ]
    }
   ],
   "source": [
    "history = model.fit(x_train, t_train,\n",
    "                   epochs = 30,\n",
    "                   batch_size = 32,\n",
    "                   validation_data = (x_test, t_test))"
   ]
  },
  {
   "cell_type": "code",
   "execution_count": 15,
   "id": "653f13ff-5f27-425f-9199-57aa28c4c37d",
   "metadata": {},
   "outputs": [
    {
     "name": "stdout",
     "output_type": "stream",
     "text": [
      "4/4 [==============================] - 0s 1ms/step - loss: 62.3125 - mae: 6.1154\n"
     ]
    },
    {
     "data": {
      "text/plain": [
       "[62.31245040893555, 6.11537504196167]"
      ]
     },
     "execution_count": 15,
     "metadata": {},
     "output_type": "execute_result"
    }
   ],
   "source": [
    "score = model.evaluate(x_test, t_test)\n",
    "score"
   ]
  },
  {
   "cell_type": "code",
   "execution_count": 17,
   "id": "58d5b24f-48aa-44dd-bc6d-e03f6e00ac80",
   "metadata": {},
   "outputs": [
    {
     "data": {
      "text/plain": [
       "<AxesSubplot:>"
      ]
     },
     "execution_count": 17,
     "metadata": {},
     "output_type": "execute_result"
    },
    {
     "data": {
      "image/png": "[encoded data removed]",
      "text/plain": [
       "<Figure size 432x288 with 1 Axes>"
      ]
     },
     "metadata": {
      "needs_background": "light"
     },
     "output_type": "display_data"
    }
   ],
   "source": [
    "result = pd.DataFrame(history.history)\n",
    "result[['loss', 'val_loss']].plot()"
   ]
  },
  {
   "cell_type": "code",
   "execution_count": 18,
   "id": "f8cd0115-5776-4b5c-b4da-ff01d5e5f0e8",
   "metadata": {},
   "outputs": [
    {
     "data": {
      "text/plain": [
       "<AxesSubplot:>"
      ]
     },
     "execution_count": 18,
     "metadata": {},
     "output_type": "execute_result"
    },
    {
     "data": {
      "image/png": "[encoded data removed]",
      "text/plain": [
       "<Figure size 432x288 with 1 Axes>"
      ]
     },
     "metadata": {
      "needs_background": "light"
     },
     "output_type": "display_data"
    }
   ],
   "source": [
    "result[['mae', 'val_mae']].plot()"
   ]
  },
  {
   "cell_type": "code",
   "execution_count": 20,
   "id": "c4549bf7-9adc-435e-b79d-318837af7237",
   "metadata": {},
   "outputs": [
    {
     "name": "stdout",
     "output_type": "stream",
     "text": [
      "Epoch 1/50\n",
      "13/13 [==============================] - 0s 8ms/step - loss: 546.6461 - mae: 21.6093 - val_loss: 473.7908 - val_mae: 19.9440\n",
      "Epoch 2/50\n",
      "13/13 [==============================] - 0s 2ms/step - loss: 513.8898 - mae: 20.7689 - val_loss: 458.9061 - val_mae: 19.5348\n",
      "Epoch 3/50\n",
      "13/13 [==============================] - 0s 2ms/step - loss: 491.6122 - mae: 20.3958 - val_loss: 444.0861 - val_mae: 19.1191\n",
      "Epoch 4/50\n",
      "13/13 [==============================] - 0s 2ms/step - loss: 492.1592 - mae: 20.4815 - val_loss: 430.0720 - val_mae: 18.7372\n",
      "Epoch 5/50\n",
      "13/13 [==============================] - 0s 2ms/step - loss: 465.9018 - mae: 19.7588 - val_loss: 415.3539 - val_mae: 18.3313\n",
      "Epoch 6/50\n",
      "13/13 [==============================] - 0s 2ms/step - loss: 428.8405 - mae: 18.9474 - val_loss: 399.7553 - val_mae: 17.9110\n",
      "Epoch 7/50\n",
      "13/13 [==============================] - 0s 2ms/step - loss: 394.0477 - mae: 18.3146 - val_loss: 380.1805 - val_mae: 17.4123\n",
      "Epoch 8/50\n",
      "13/13 [==============================] - 0s 2ms/step - loss: 385.1745 - mae: 17.6921 - val_loss: 357.0286 - val_mae: 16.8256\n",
      "Epoch 9/50\n",
      "13/13 [==============================] - 0s 2ms/step - loss: 301.4233 - mae: 15.8034 - val_loss: 330.8445 - val_mae: 16.1417\n",
      "Epoch 10/50\n",
      "13/13 [==============================] - 0s 2ms/step - loss: 270.2467 - mae: 14.6314 - val_loss: 300.0221 - val_mae: 15.3105\n",
      "Epoch 11/50\n",
      "13/13 [==============================] - 0s 2ms/step - loss: 272.7875 - mae: 14.6141 - val_loss: 266.7134 - val_mae: 14.3338\n",
      "Epoch 12/50\n",
      "13/13 [==============================] - 0s 2ms/step - loss: 212.7957 - mae: 12.5461 - val_loss: 233.6342 - val_mae: 13.2764\n",
      "Epoch 13/50\n",
      "13/13 [==============================] - 0s 2ms/step - loss: 193.8645 - mae: 11.8205 - val_loss: 201.4153 - val_mae: 12.1937\n",
      "Epoch 14/50\n",
      "13/13 [==============================] - 0s 2ms/step - loss: 160.8217 - mae: 10.6311 - val_loss: 172.7903 - val_mae: 11.2212\n",
      "Epoch 15/50\n",
      "13/13 [==============================] - 0s 2ms/step - loss: 148.7241 - mae: 9.8011 - val_loss: 147.5544 - val_mae: 10.2870\n",
      "Epoch 16/50\n",
      "13/13 [==============================] - 0s 2ms/step - loss: 144.1410 - mae: 9.4746 - val_loss: 126.0793 - val_mae: 9.4078\n",
      "Epoch 17/50\n",
      "13/13 [==============================] - 0s 2ms/step - loss: 104.5741 - mae: 7.8545 - val_loss: 109.1819 - val_mae: 8.6620\n",
      "Epoch 18/50\n",
      "13/13 [==============================] - 0s 2ms/step - loss: 111.3821 - mae: 7.8015 - val_loss: 94.2750 - val_mae: 7.9544\n",
      "Epoch 19/50\n",
      "13/13 [==============================] - 0s 2ms/step - loss: 78.8348 - mae: 6.6911 - val_loss: 82.8118 - val_mae: 7.3704\n",
      "Epoch 20/50\n",
      "13/13 [==============================] - 0s 2ms/step - loss: 94.7699 - mae: 7.0802 - val_loss: 73.3082 - val_mae: 6.8768\n",
      "Epoch 21/50\n",
      "13/13 [==============================] - 0s 2ms/step - loss: 79.1049 - mae: 6.5194 - val_loss: 65.5027 - val_mae: 6.4286\n",
      "Epoch 22/50\n",
      "13/13 [==============================] - 0s 2ms/step - loss: 66.7649 - mae: 5.9162 - val_loss: 59.0151 - val_mae: 6.0389\n",
      "Epoch 23/50\n",
      "13/13 [==============================] - 0s 2ms/step - loss: 67.1172 - mae: 6.2291 - val_loss: 53.8409 - val_mae: 5.7270\n",
      "Epoch 24/50\n",
      "13/13 [==============================] - 0s 2ms/step - loss: 67.3467 - mae: 6.0512 - val_loss: 49.5182 - val_mae: 5.5080\n",
      "Epoch 25/50\n",
      "13/13 [==============================] - 0s 2ms/step - loss: 56.6037 - mae: 5.4539 - val_loss: 46.4310 - val_mae: 5.3382\n",
      "Epoch 26/50\n",
      "13/13 [==============================] - 0s 2ms/step - loss: 51.6729 - mae: 5.2945 - val_loss: 43.4033 - val_mae: 5.1614\n",
      "Epoch 27/50\n",
      "13/13 [==============================] - 0s 2ms/step - loss: 41.3678 - mae: 4.7655 - val_loss: 40.8107 - val_mae: 5.0179\n",
      "Epoch 28/50\n",
      "13/13 [==============================] - 0s 2ms/step - loss: 48.3074 - mae: 5.1376 - val_loss: 38.9489 - val_mae: 4.9325\n",
      "Epoch 29/50\n",
      "13/13 [==============================] - 0s 2ms/step - loss: 41.1219 - mae: 4.7176 - val_loss: 37.9104 - val_mae: 4.8990\n",
      "Epoch 30/50\n",
      "13/13 [==============================] - 0s 2ms/step - loss: 44.7763 - mae: 4.9329 - val_loss: 36.3295 - val_mae: 4.8114\n",
      "Epoch 31/50\n",
      "13/13 [==============================] - 0s 2ms/step - loss: 38.6796 - mae: 4.6920 - val_loss: 35.4811 - val_mae: 4.7738\n",
      "Epoch 32/50\n",
      "13/13 [==============================] - 0s 2ms/step - loss: 48.1504 - mae: 4.7831 - val_loss: 34.4933 - val_mae: 4.7151\n",
      "Epoch 33/50\n",
      "13/13 [==============================] - 0s 2ms/step - loss: 34.0657 - mae: 4.3320 - val_loss: 33.8867 - val_mae: 4.6670\n",
      "Epoch 34/50\n",
      "13/13 [==============================] - 0s 2ms/step - loss: 32.2985 - mae: 4.2529 - val_loss: 33.2922 - val_mae: 4.6207\n",
      "Epoch 35/50\n",
      "13/13 [==============================] - 0s 2ms/step - loss: 47.8761 - mae: 4.7382 - val_loss: 32.7792 - val_mae: 4.5713\n",
      "Epoch 36/50\n",
      "13/13 [==============================] - 0s 2ms/step - loss: 46.0762 - mae: 4.5602 - val_loss: 32.8010 - val_mae: 4.5723\n",
      "Epoch 37/50\n",
      "13/13 [==============================] - 0s 2ms/step - loss: 38.1406 - mae: 4.2566 - val_loss: 32.6159 - val_mae: 4.5432\n",
      "Epoch 38/50\n",
      "13/13 [==============================] - 0s 2ms/step - loss: 38.0820 - mae: 4.3366 - val_loss: 32.1182 - val_mae: 4.4880\n",
      "Epoch 39/50\n",
      "13/13 [==============================] - 0s 2ms/step - loss: 32.8702 - mae: 4.2968 - val_loss: 31.6277 - val_mae: 4.4363\n",
      "Epoch 40/50\n",
      "13/13 [==============================] - 0s 2ms/step - loss: 32.3095 - mae: 4.0676 - val_loss: 31.2937 - val_mae: 4.3986\n",
      "Epoch 41/50\n",
      "13/13 [==============================] - 0s 2ms/step - loss: 37.5973 - mae: 4.2037 - val_loss: 31.0919 - val_mae: 4.3773\n",
      "Epoch 42/50\n",
      "13/13 [==============================] - 0s 2ms/step - loss: 33.5566 - mae: 4.1443 - val_loss: 30.6780 - val_mae: 4.3380\n",
      "Epoch 43/50\n",
      "13/13 [==============================] - 0s 2ms/step - loss: 35.3134 - mae: 4.2533 - val_loss: 30.5519 - val_mae: 4.3266\n",
      "Epoch 44/50\n",
      "13/13 [==============================] - 0s 2ms/step - loss: 33.2879 - mae: 4.0288 - val_loss: 30.3392 - val_mae: 4.3013\n",
      "Epoch 45/50\n",
      "13/13 [==============================] - 0s 2ms/step - loss: 25.0260 - mae: 3.8360 - val_loss: 29.8609 - val_mae: 4.2580\n",
      "Epoch 46/50\n",
      "13/13 [==============================] - 0s 2ms/step - loss: 26.7377 - mae: 3.6759 - val_loss: 29.5261 - val_mae: 4.2206\n",
      "Epoch 47/50\n",
      "13/13 [==============================] - 0s 2ms/step - loss: 34.3751 - mae: 4.1896 - val_loss: 29.1853 - val_mae: 4.1831\n",
      "Epoch 48/50\n",
      "13/13 [==============================] - 0s 2ms/step - loss: 27.7265 - mae: 3.7515 - val_loss: 29.1231 - val_mae: 4.1681\n",
      "Epoch 49/50\n",
      "13/13 [==============================] - 0s 2ms/step - loss: 31.9149 - mae: 4.1977 - val_loss: 29.3553 - val_mae: 4.1852\n",
      "Epoch 50/50\n",
      "13/13 [==============================] - 0s 2ms/step - loss: 25.5803 - mae: 3.7500 - val_loss: 28.9725 - val_mae: 4.1527\n"
     ]
    }
   ],
   "source": [
    "reset_seed(0)\n",
    "\n",
    "model = tf.keras.models.Sequential([\n",
    "    tf.keras.layers.BatchNormalization(input_shape = (13,)),\n",
    "    tf.keras.layers.Dense(32, activation = 'relu'),\n",
    "    tf.keras.layers.Dense(1),\n",
    "])\n",
    "\n",
    "model.compile(optimizer = 'adam',\n",
    "             loss = 'mse',\n",
    "             metrics = ['mae'])\n",
    "\n",
    "history = model.fit(x_train, t_train,\n",
    "                   epochs = 50,\n",
    "                   batch_size = 32,\n",
    "                   validation_data = (x_test, t_test))"
   ]
  },
  {
   "cell_type": "code",
   "execution_count": 21,
   "id": "7e7a4bef-fe35-44c0-962e-572288dd1703",
   "metadata": {},
   "outputs": [
    {
     "data": {
      "text/plain": [
       "<AxesSubplot:>"
      ]
     },
     "execution_count": 21,
     "metadata": {},
     "output_type": "execute_result"
    },
    {
     "data": {
      "image/png": "[encoded data removed]",
      "text/plain": [
       "<Figure size 432x288 with 1 Axes>"
      ]
     },
     "metadata": {
      "needs_background": "light"
     },
     "output_type": "display_data"
    }
   ],
   "source": [
    "result_batchnorm = pd.DataFrame(history.history)\n",
    "result_batchnorm[['loss', 'val_loss']].plot()"
   ]
  },
  {
   "cell_type": "code",
   "execution_count": 23,
   "id": "1557f327-9f75-4020-9159-2ebfd1f51c28",
   "metadata": {},
   "outputs": [
    {
     "data": {
      "text/plain": [
       "<AxesSubplot:>"
      ]
     },
     "execution_count": 23,
     "metadata": {},
     "output_type": "execute_result"
    },
    {
     "data": {
      "image/png": "[encoded data removed]",
      "text/plain": [
       "<Figure size 432x288 with 1 Axes>"
      ]
     },
     "metadata": {
      "needs_background": "light"
     },
     "output_type": "display_data"
    }
   ],
   "source": [
    "result_batchnorm[['mae', 'val_mae']].plot()"
   ]
  },
  {
   "cell_type": "code",
   "execution_count": 24,
   "id": "86c7e5d3-91e2-4f0c-8e2f-dd04b0719bed",
   "metadata": {},
   "outputs": [
    {
     "name": "stdout",
     "output_type": "stream",
     "text": [
      "4/4 [==============================] - 0s 1ms/step - loss: 28.9725 - mae: 4.1527\n"
     ]
    },
    {
     "data": {
      "text/plain": [
       "[28.97249412536621, 4.15269660949707]"
      ]
     },
     "execution_count": 24,
     "metadata": {},
     "output_type": "execute_result"
    }
   ],
   "source": [
    "score = model.evaluate(x_test, t_test)\n",
    "score"
   ]
  },
  {
   "cell_type": "code",
   "execution_count": null,
   "id": "806ec0c4-dae3-454d-86a3-99d5be3c5266",
   "metadata": {},
   "outputs": [],
   "source": []
  }
 ],
 "metadata": {
  "kernelspec": {
   "display_name": "Python 3",
   "language": "python",
   "name": "python3"
  },
  "language_info": {
   "codemirror_mode": {
    "name": "ipython",
    "version": 3
   },
   "file_extension": ".py",
   "mimetype": "text/x-python",
   "name": "python",
   "nbconvert_exporter": "python",
   "pygments_lexer": "ipython3",
   "version": "3.9.1"
  }
 },
 "nbformat": 4,
 "nbformat_minor": 5
}
