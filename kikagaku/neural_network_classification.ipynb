{
 "cells": [
  {
   "cell_type": "code",
   "execution_count": 2,
   "id": "7cde9aea-7620-4e08-acf2-e4cbf915bf92",
   "metadata": {},
   "outputs": [
    {
     "name": "stdout",
     "output_type": "stream",
     "text": [
      "INFO:tensorflow:Enabling eager execution\n",
      "INFO:tensorflow:Enabling v2 tensorshape\n",
      "INFO:tensorflow:Enabling resource variables\n",
      "INFO:tensorflow:Enabling tensor equality\n",
      "INFO:tensorflow:Enabling control flow v2\n"
     ]
    }
   ],
   "source": [
    "import tensorflow as tf"
   ]
  },
  {
   "cell_type": "code",
   "execution_count": 4,
   "id": "89f0e4d8-a391-4660-a2aa-937bde864460",
   "metadata": {},
   "outputs": [
    {
     "name": "stdout",
     "output_type": "stream",
     "text": [
      "2.5.0-rc1\n"
     ]
    }
   ],
   "source": [
    "print(tf.__version__)"
   ]
  },
  {
   "cell_type": "code",
   "execution_count": 5,
   "id": "e777d38c-f483-4cf1-905a-10d6ea345800",
   "metadata": {},
   "outputs": [],
   "source": [
    "import numpy as np\n",
    "import pandas as pd\n",
    "import matplotlib.pyplot as plt"
   ]
  },
  {
   "cell_type": "code",
   "execution_count": 6,
   "id": "6536c2d9-68b8-4f70-ac96-e41deb21d780",
   "metadata": {},
   "outputs": [],
   "source": [
    "df = pd.read_csv('./wine_class.csv')"
   ]
  },
  {
   "cell_type": "code",
   "execution_count": 7,
   "id": "6cba648c-3c3b-442c-ab95-dd7e3d65b820",
   "metadata": {},
   "outputs": [
    {
     "data": {
      "text/html": [
       "<div>\n",
       "<style scoped>\n",
       "    .dataframe tbody tr th:only-of-type {\n",
       "        vertical-align: middle;\n",
       "    }\n",
       "\n",
       "    .dataframe tbody tr th {\n",
       "        vertical-align: top;\n",
       "    }\n",
       "\n",
       "    .dataframe thead th {\n",
       "        text-align: right;\n",
       "    }\n",
       "</style>\n",
       "<table border=\"1\" class=\"dataframe\">\n",
       "  <thead>\n",
       "    <tr style=\"text-align: right;\">\n",
       "      <th></th>\n",
       "      <th>Class</th>\n",
       "      <th>Alcohol</th>\n",
       "      <th>Ash</th>\n",
       "      <th>Alcalinity of ash</th>\n",
       "      <th>Magnesium</th>\n",
       "      <th>Total phenols</th>\n",
       "      <th>Flavanoids</th>\n",
       "      <th>Nonflavanoid phenols</th>\n",
       "      <th>Color intensity</th>\n",
       "      <th>Hue</th>\n",
       "      <th>Proline</th>\n",
       "    </tr>\n",
       "  </thead>\n",
       "  <tbody>\n",
       "    <tr>\n",
       "      <th>0</th>\n",
       "      <td>1</td>\n",
       "      <td>14.23</td>\n",
       "      <td>2.43</td>\n",
       "      <td>15.6</td>\n",
       "      <td>127</td>\n",
       "      <td>2.80</td>\n",
       "      <td>3.06</td>\n",
       "      <td>0.28</td>\n",
       "      <td>5.64</td>\n",
       "      <td>1.04</td>\n",
       "      <td>1065</td>\n",
       "    </tr>\n",
       "    <tr>\n",
       "      <th>1</th>\n",
       "      <td>1</td>\n",
       "      <td>13.20</td>\n",
       "      <td>2.14</td>\n",
       "      <td>11.2</td>\n",
       "      <td>100</td>\n",
       "      <td>2.65</td>\n",
       "      <td>2.76</td>\n",
       "      <td>0.26</td>\n",
       "      <td>4.38</td>\n",
       "      <td>1.05</td>\n",
       "      <td>1050</td>\n",
       "    </tr>\n",
       "    <tr>\n",
       "      <th>2</th>\n",
       "      <td>1</td>\n",
       "      <td>13.16</td>\n",
       "      <td>2.67</td>\n",
       "      <td>18.6</td>\n",
       "      <td>101</td>\n",
       "      <td>2.80</td>\n",
       "      <td>3.24</td>\n",
       "      <td>0.30</td>\n",
       "      <td>5.68</td>\n",
       "      <td>1.03</td>\n",
       "      <td>1185</td>\n",
       "    </tr>\n",
       "    <tr>\n",
       "      <th>3</th>\n",
       "      <td>1</td>\n",
       "      <td>14.37</td>\n",
       "      <td>2.50</td>\n",
       "      <td>16.8</td>\n",
       "      <td>113</td>\n",
       "      <td>3.85</td>\n",
       "      <td>3.49</td>\n",
       "      <td>0.24</td>\n",
       "      <td>7.80</td>\n",
       "      <td>0.86</td>\n",
       "      <td>1480</td>\n",
       "    </tr>\n",
       "    <tr>\n",
       "      <th>4</th>\n",
       "      <td>1</td>\n",
       "      <td>13.24</td>\n",
       "      <td>2.87</td>\n",
       "      <td>21.0</td>\n",
       "      <td>118</td>\n",
       "      <td>2.80</td>\n",
       "      <td>2.69</td>\n",
       "      <td>0.39</td>\n",
       "      <td>4.32</td>\n",
       "      <td>1.04</td>\n",
       "      <td>735</td>\n",
       "    </tr>\n",
       "  </tbody>\n",
       "</table>\n",
       "</div>"
      ],
      "text/plain": [
       "   Class  Alcohol   Ash  Alcalinity of ash  Magnesium  Total phenols  \\\n",
       "0      1    14.23  2.43               15.6        127           2.80   \n",
       "1      1    13.20  2.14               11.2        100           2.65   \n",
       "2      1    13.16  2.67               18.6        101           2.80   \n",
       "3      1    14.37  2.50               16.8        113           3.85   \n",
       "4      1    13.24  2.87               21.0        118           2.80   \n",
       "\n",
       "   Flavanoids  Nonflavanoid phenols  Color intensity   Hue  Proline  \n",
       "0        3.06                  0.28             5.64  1.04     1065  \n",
       "1        2.76                  0.26             4.38  1.05     1050  \n",
       "2        3.24                  0.30             5.68  1.03     1185  \n",
       "3        3.49                  0.24             7.80  0.86     1480  \n",
       "4        2.69                  0.39             4.32  1.04      735  "
      ]
     },
     "execution_count": 7,
     "metadata": {},
     "output_type": "execute_result"
    }
   ],
   "source": [
    "df.head()"
   ]
  },
  {
   "cell_type": "code",
   "execution_count": 8,
   "id": "a3773908-523e-4e2d-94c1-ee8ce89faafa",
   "metadata": {},
   "outputs": [],
   "source": [
    "t = df['Class']\n",
    "x = df.drop('Class', axis = 1)"
   ]
  },
  {
   "cell_type": "code",
   "execution_count": 11,
   "id": "5ed9c484-7854-4a5b-ac06-4b17d10751d3",
   "metadata": {},
   "outputs": [
    {
     "data": {
      "text/html": [
       "<div>\n",
       "<style scoped>\n",
       "    .dataframe tbody tr th:only-of-type {\n",
       "        vertical-align: middle;\n",
       "    }\n",
       "\n",
       "    .dataframe tbody tr th {\n",
       "        vertical-align: top;\n",
       "    }\n",
       "\n",
       "    .dataframe thead th {\n",
       "        text-align: right;\n",
       "    }\n",
       "</style>\n",
       "<table border=\"1\" class=\"dataframe\">\n",
       "  <thead>\n",
       "    <tr style=\"text-align: right;\">\n",
       "      <th></th>\n",
       "      <th>Alcohol</th>\n",
       "      <th>Ash</th>\n",
       "      <th>Alcalinity of ash</th>\n",
       "      <th>Magnesium</th>\n",
       "      <th>Total phenols</th>\n",
       "      <th>Flavanoids</th>\n",
       "      <th>Nonflavanoid phenols</th>\n",
       "      <th>Color intensity</th>\n",
       "      <th>Hue</th>\n",
       "      <th>Proline</th>\n",
       "    </tr>\n",
       "  </thead>\n",
       "  <tbody>\n",
       "    <tr>\n",
       "      <th>0</th>\n",
       "      <td>14.23</td>\n",
       "      <td>2.43</td>\n",
       "      <td>15.6</td>\n",
       "      <td>127</td>\n",
       "      <td>2.80</td>\n",
       "      <td>3.06</td>\n",
       "      <td>0.28</td>\n",
       "      <td>5.64</td>\n",
       "      <td>1.04</td>\n",
       "      <td>1065</td>\n",
       "    </tr>\n",
       "    <tr>\n",
       "      <th>1</th>\n",
       "      <td>13.20</td>\n",
       "      <td>2.14</td>\n",
       "      <td>11.2</td>\n",
       "      <td>100</td>\n",
       "      <td>2.65</td>\n",
       "      <td>2.76</td>\n",
       "      <td>0.26</td>\n",
       "      <td>4.38</td>\n",
       "      <td>1.05</td>\n",
       "      <td>1050</td>\n",
       "    </tr>\n",
       "    <tr>\n",
       "      <th>2</th>\n",
       "      <td>13.16</td>\n",
       "      <td>2.67</td>\n",
       "      <td>18.6</td>\n",
       "      <td>101</td>\n",
       "      <td>2.80</td>\n",
       "      <td>3.24</td>\n",
       "      <td>0.30</td>\n",
       "      <td>5.68</td>\n",
       "      <td>1.03</td>\n",
       "      <td>1185</td>\n",
       "    </tr>\n",
       "    <tr>\n",
       "      <th>3</th>\n",
       "      <td>14.37</td>\n",
       "      <td>2.50</td>\n",
       "      <td>16.8</td>\n",
       "      <td>113</td>\n",
       "      <td>3.85</td>\n",
       "      <td>3.49</td>\n",
       "      <td>0.24</td>\n",
       "      <td>7.80</td>\n",
       "      <td>0.86</td>\n",
       "      <td>1480</td>\n",
       "    </tr>\n",
       "    <tr>\n",
       "      <th>4</th>\n",
       "      <td>13.24</td>\n",
       "      <td>2.87</td>\n",
       "      <td>21.0</td>\n",
       "      <td>118</td>\n",
       "      <td>2.80</td>\n",
       "      <td>2.69</td>\n",
       "      <td>0.39</td>\n",
       "      <td>4.32</td>\n",
       "      <td>1.04</td>\n",
       "      <td>735</td>\n",
       "    </tr>\n",
       "  </tbody>\n",
       "</table>\n",
       "</div>"
      ],
      "text/plain": [
       "   Alcohol   Ash  Alcalinity of ash  Magnesium  Total phenols  Flavanoids  \\\n",
       "0    14.23  2.43               15.6        127           2.80        3.06   \n",
       "1    13.20  2.14               11.2        100           2.65        2.76   \n",
       "2    13.16  2.67               18.6        101           2.80        3.24   \n",
       "3    14.37  2.50               16.8        113           3.85        3.49   \n",
       "4    13.24  2.87               21.0        118           2.80        2.69   \n",
       "\n",
       "   Nonflavanoid phenols  Color intensity   Hue  Proline  \n",
       "0                  0.28             5.64  1.04     1065  \n",
       "1                  0.26             4.38  1.05     1050  \n",
       "2                  0.30             5.68  1.03     1185  \n",
       "3                  0.24             7.80  0.86     1480  \n",
       "4                  0.39             4.32  1.04      735  "
      ]
     },
     "execution_count": 11,
     "metadata": {},
     "output_type": "execute_result"
    }
   ],
   "source": [
    "x.head()"
   ]
  },
  {
   "cell_type": "code",
   "execution_count": 12,
   "id": "b8bc77ef-de11-47fc-b5fe-205b018ba020",
   "metadata": {},
   "outputs": [
    {
     "data": {
      "text/plain": [
       "(178, 10)"
      ]
     },
     "execution_count": 12,
     "metadata": {},
     "output_type": "execute_result"
    }
   ],
   "source": [
    "x.shape"
   ]
  },
  {
   "cell_type": "code",
   "execution_count": 13,
   "id": "09ab427f-0b59-4b25-947e-6056119a1dab",
   "metadata": {},
   "outputs": [
    {
     "data": {
      "text/plain": [
       "pandas.core.frame.DataFrame"
      ]
     },
     "execution_count": 13,
     "metadata": {},
     "output_type": "execute_result"
    }
   ],
   "source": [
    "type(x)"
   ]
  },
  {
   "cell_type": "code",
   "execution_count": 14,
   "id": "43d56088-6c58-4604-a1a7-0b54e60a087a",
   "metadata": {},
   "outputs": [
    {
     "data": {
      "text/plain": [
       "numpy.ndarray"
      ]
     },
     "execution_count": 14,
     "metadata": {},
     "output_type": "execute_result"
    }
   ],
   "source": [
    "type(x.values)"
   ]
  },
  {
   "cell_type": "code",
   "execution_count": 15,
   "id": "0410bbf2-cc01-4944-b45c-fc5b41f91e98",
   "metadata": {},
   "outputs": [
    {
     "data": {
      "text/plain": [
       "array([1, 2, 3])"
      ]
     },
     "execution_count": 15,
     "metadata": {},
     "output_type": "execute_result"
    }
   ],
   "source": [
    "np.unique(t)"
   ]
  },
  {
   "cell_type": "code",
   "execution_count": 17,
   "id": "ddd01fb8-1b34-42d9-89da-265c38e577b2",
   "metadata": {},
   "outputs": [],
   "source": [
    "t = t.values - 1\n",
    "x = x.values"
   ]
  },
  {
   "cell_type": "code",
   "execution_count": 18,
   "id": "2ad7d271-c9fb-4f4c-817e-45d4453074e3",
   "metadata": {},
   "outputs": [
    {
     "data": {
      "text/plain": [
       "(array([0, 0, 0, 0, 0, 0, 0, 0, 0, 0, 0, 0, 0, 0, 0, 0, 0, 0, 0, 0, 0, 0,\n",
       "        0, 0, 0, 0, 0, 0, 0, 0, 0, 0, 0, 0, 0, 0, 0, 0, 0, 0, 0, 0, 0, 0,\n",
       "        0, 0, 0, 0, 0, 0, 0, 0, 0, 0, 0, 0, 0, 0, 0, 1, 1, 1, 1, 1, 1, 1,\n",
       "        1, 1, 1, 1, 1, 1, 1, 1, 1, 1, 1, 1, 1, 1, 1, 1, 1, 1, 1, 1, 1, 1,\n",
       "        1, 1, 1, 1, 1, 1, 1, 1, 1, 1, 1, 1, 1, 1, 1, 1, 1, 1, 1, 1, 1, 1,\n",
       "        1, 1, 1, 1, 1, 1, 1, 1, 1, 1, 1, 1, 1, 1, 1, 1, 1, 1, 1, 1, 2, 2,\n",
       "        2, 2, 2, 2, 2, 2, 2, 2, 2, 2, 2, 2, 2, 2, 2, 2, 2, 2, 2, 2, 2, 2,\n",
       "        2, 2, 2, 2, 2, 2, 2, 2, 2, 2, 2, 2, 2, 2, 2, 2, 2, 2, 2, 2, 2, 2,\n",
       "        2, 2]),\n",
       " numpy.ndarray)"
      ]
     },
     "execution_count": 18,
     "metadata": {},
     "output_type": "execute_result"
    }
   ],
   "source": [
    "t, type(t)"
   ]
  },
  {
   "cell_type": "code",
   "execution_count": 19,
   "id": "c6d3bcf2-a368-4eb2-a3d1-e7cbb3b2cc32",
   "metadata": {},
   "outputs": [
    {
     "data": {
      "text/plain": [
       "(array([[1.423e+01, 2.430e+00, 1.560e+01, ..., 5.640e+00, 1.040e+00,\n",
       "         1.065e+03],\n",
       "        [1.320e+01, 2.140e+00, 1.120e+01, ..., 4.380e+00, 1.050e+00,\n",
       "         1.050e+03],\n",
       "        [1.316e+01, 2.670e+00, 1.860e+01, ..., 5.680e+00, 1.030e+00,\n",
       "         1.185e+03],\n",
       "        ...,\n",
       "        [1.327e+01, 2.260e+00, 2.000e+01, ..., 1.020e+01, 5.900e-01,\n",
       "         8.350e+02],\n",
       "        [1.317e+01, 2.370e+00, 2.000e+01, ..., 9.300e+00, 6.000e-01,\n",
       "         8.400e+02],\n",
       "        [1.413e+01, 2.740e+00, 2.450e+01, ..., 9.200e+00, 6.100e-01,\n",
       "         5.600e+02]]),\n",
       " numpy.ndarray)"
      ]
     },
     "execution_count": 19,
     "metadata": {},
     "output_type": "execute_result"
    }
   ],
   "source": [
    "x, type(x)"
   ]
  },
  {
   "cell_type": "code",
   "execution_count": 20,
   "id": "e81f82cf-8b00-422a-b2a6-67d3013010fe",
   "metadata": {},
   "outputs": [],
   "source": [
    "from sklearn.model_selection import train_test_split\n",
    "x_train, x_test, t_train, t_test = train_test_split(x, t, train_size = 0.7, random_state = 0)"
   ]
  },
  {
   "cell_type": "code",
   "execution_count": 21,
   "id": "660d8e6d-6123-4337-a676-3d4d4e1907df",
   "metadata": {},
   "outputs": [
    {
     "data": {
      "text/plain": [
       "((124, 10), dtype('float64'), (54, 10), dtype('float64'))"
      ]
     },
     "execution_count": 21,
     "metadata": {},
     "output_type": "execute_result"
    }
   ],
   "source": [
    "x_train.shape, x_train.dtype, x_test.shape, x_test.dtype"
   ]
  },
  {
   "cell_type": "code",
   "execution_count": 22,
   "id": "436a56ff-2938-4441-84bd-40df1da233ed",
   "metadata": {},
   "outputs": [
    {
     "data": {
      "text/plain": [
       "((124,), dtype('int64'), (54,), dtype('int64'))"
      ]
     },
     "execution_count": 22,
     "metadata": {},
     "output_type": "execute_result"
    }
   ],
   "source": [
    "t_train.shape, t_train.dtype, t_test.shape, t_test.dtype"
   ]
  },
  {
   "cell_type": "code",
   "execution_count": 23,
   "id": "58fd8a3b-d3fd-4211-abba-4e375b293dcc",
   "metadata": {},
   "outputs": [],
   "source": [
    "x_train = np.array(x_train, np.float32)\n",
    "x_test = np.array(x_test, np.float32)\n",
    "t_train = np.array(t_train, np.int32)\n",
    "t_test = np.array(t_test, np.int32)"
   ]
  },
  {
   "cell_type": "code",
   "execution_count": 24,
   "id": "908b63ba-fcd4-46df-b8fb-5aa85679d606",
   "metadata": {},
   "outputs": [],
   "source": [
    "import os, random\n",
    "\n",
    "def reset_seed(seed = 0):\n",
    "    os.environ['PYTHONHASHSEED'] = '0'\n",
    "    random.seed(seed)\n",
    "    np.random.seed(seed)\n",
    "    tf.random.set_seed(seed)"
   ]
  },
  {
   "cell_type": "code",
   "execution_count": 25,
   "id": "0dbc6f23-675d-4d75-9f79-98fbf7be4c34",
   "metadata": {},
   "outputs": [],
   "source": [
    "from tensorflow.keras import models, layers"
   ]
  },
  {
   "cell_type": "code",
   "execution_count": 26,
   "id": "0d5bfe04-c6aa-43a5-8628-4a9736aa78fb",
   "metadata": {},
   "outputs": [],
   "source": [
    "reset_seed(0)\n",
    "\n",
    "model = models.Sequential([\n",
    "    layers.Dense(units = 10, activation = 'relu', input_shape = (10,)),\n",
    "    layers.Dense(units = 3, activation = 'softmax'),\n",
    "])"
   ]
  },
  {
   "cell_type": "code",
   "execution_count": 27,
   "id": "b0886778-5bd2-452e-ad13-067c55a8974d",
   "metadata": {},
   "outputs": [],
   "source": [
    "model.compile(optimizer = 'sgd',\n",
    "             loss = 'sparse_categorical_crossentropy',\n",
    "             metrics = ['accuracy'])"
   ]
  },
  {
   "cell_type": "code",
   "execution_count": 28,
   "id": "eef6db7e-8f24-4412-b82a-3e2573b358f2",
   "metadata": {},
   "outputs": [
    {
     "name": "stdout",
     "output_type": "stream",
     "text": [
      "Epoch 1/10\n",
      "13/13 [==============================] - 0s 11ms/step - loss: 1001.3992 - accuracy: 0.3530 - val_loss: 1.0983 - val_accuracy: 0.4074\n",
      "Epoch 2/10\n",
      "13/13 [==============================] - 0s 2ms/step - loss: 1.0986 - accuracy: 0.3744 - val_loss: 1.0968 - val_accuracy: 0.4074\n",
      "Epoch 3/10\n",
      "13/13 [==============================] - 0s 2ms/step - loss: 1.0988 - accuracy: 0.3322 - val_loss: 1.0961 - val_accuracy: 0.4074\n",
      "Epoch 4/10\n",
      "13/13 [==============================] - 0s 2ms/step - loss: 1.0981 - accuracy: 0.3497 - val_loss: 1.0955 - val_accuracy: 0.4074\n",
      "Epoch 5/10\n",
      "13/13 [==============================] - 0s 2ms/step - loss: 1.0948 - accuracy: 0.4345 - val_loss: 1.0944 - val_accuracy: 0.4074\n",
      "Epoch 6/10\n",
      "13/13 [==============================] - 0s 2ms/step - loss: 1.0954 - accuracy: 0.3913 - val_loss: 1.0935 - val_accuracy: 0.4074\n",
      "Epoch 7/10\n",
      "13/13 [==============================] - 0s 2ms/step - loss: 1.0972 - accuracy: 0.3555 - val_loss: 1.0929 - val_accuracy: 0.4074\n",
      "Epoch 8/10\n",
      "13/13 [==============================] - 0s 2ms/step - loss: 1.0925 - accuracy: 0.4072 - val_loss: 1.0925 - val_accuracy: 0.4074\n",
      "Epoch 9/10\n",
      "13/13 [==============================] - 0s 2ms/step - loss: 1.0917 - accuracy: 0.4246 - val_loss: 1.0920 - val_accuracy: 0.4074\n",
      "Epoch 10/10\n",
      "13/13 [==============================] - 0s 2ms/step - loss: 1.0974 - accuracy: 0.3594 - val_loss: 1.0913 - val_accuracy: 0.4074\n"
     ]
    }
   ],
   "source": [
    "history = model.fit(x_train, t_train,\n",
    "                   batch_size = 10,\n",
    "                   epochs = 10,\n",
    "                   validation_data = (x_test, t_test))"
   ]
  },
  {
   "cell_type": "code",
   "execution_count": 29,
   "id": "b1170f5b-5dba-4127-9881-c61e9bb04a3e",
   "metadata": {},
   "outputs": [
    {
     "data": {
      "text/plain": [
       "{'loss': [494.3856506347656,\n",
       "  1.0981626510620117,\n",
       "  1.0972340106964111,\n",
       "  1.0966664552688599,\n",
       "  1.0963795185089111,\n",
       "  1.0955145359039307,\n",
       "  1.094819188117981,\n",
       "  1.0944644212722778,\n",
       "  1.0941150188446045,\n",
       "  1.0940911769866943],\n",
       " 'accuracy': [0.2983871102333069,\n",
       "  0.39516130089759827,\n",
       "  0.39516130089759827,\n",
       "  0.39516130089759827,\n",
       "  0.39516130089759827,\n",
       "  0.39516130089759827,\n",
       "  0.39516130089759827,\n",
       "  0.39516130089759827,\n",
       "  0.39516130089759827,\n",
       "  0.39516130089759827],\n",
       " 'val_loss': [1.0982980728149414,\n",
       "  1.0968209505081177,\n",
       "  1.0960627794265747,\n",
       "  1.095515489578247,\n",
       "  1.0943995714187622,\n",
       "  1.0935187339782715,\n",
       "  1.0929051637649536,\n",
       "  1.0925047397613525,\n",
       "  1.091974139213562,\n",
       "  1.091310977935791],\n",
       " 'val_accuracy': [0.40740740299224854,\n",
       "  0.40740740299224854,\n",
       "  0.40740740299224854,\n",
       "  0.40740740299224854,\n",
       "  0.40740740299224854,\n",
       "  0.40740740299224854,\n",
       "  0.40740740299224854,\n",
       "  0.40740740299224854,\n",
       "  0.40740740299224854,\n",
       "  0.40740740299224854]}"
      ]
     },
     "execution_count": 29,
     "metadata": {},
     "output_type": "execute_result"
    }
   ],
   "source": [
    "history.history"
   ]
  },
  {
   "cell_type": "code",
   "execution_count": 30,
   "id": "e1614952-3f1a-4319-9883-c3a809214e4d",
   "metadata": {},
   "outputs": [
    {
     "data": {
      "text/html": [
       "<div>\n",
       "<style scoped>\n",
       "    .dataframe tbody tr th:only-of-type {\n",
       "        vertical-align: middle;\n",
       "    }\n",
       "\n",
       "    .dataframe tbody tr th {\n",
       "        vertical-align: top;\n",
       "    }\n",
       "\n",
       "    .dataframe thead th {\n",
       "        text-align: right;\n",
       "    }\n",
       "</style>\n",
       "<table border=\"1\" class=\"dataframe\">\n",
       "  <thead>\n",
       "    <tr style=\"text-align: right;\">\n",
       "      <th></th>\n",
       "      <th>loss</th>\n",
       "      <th>accuracy</th>\n",
       "      <th>val_loss</th>\n",
       "      <th>val_accuracy</th>\n",
       "    </tr>\n",
       "  </thead>\n",
       "  <tbody>\n",
       "    <tr>\n",
       "      <th>0</th>\n",
       "      <td>494.385651</td>\n",
       "      <td>0.298387</td>\n",
       "      <td>1.098298</td>\n",
       "      <td>0.407407</td>\n",
       "    </tr>\n",
       "    <tr>\n",
       "      <th>1</th>\n",
       "      <td>1.098163</td>\n",
       "      <td>0.395161</td>\n",
       "      <td>1.096821</td>\n",
       "      <td>0.407407</td>\n",
       "    </tr>\n",
       "    <tr>\n",
       "      <th>2</th>\n",
       "      <td>1.097234</td>\n",
       "      <td>0.395161</td>\n",
       "      <td>1.096063</td>\n",
       "      <td>0.407407</td>\n",
       "    </tr>\n",
       "    <tr>\n",
       "      <th>3</th>\n",
       "      <td>1.096666</td>\n",
       "      <td>0.395161</td>\n",
       "      <td>1.095515</td>\n",
       "      <td>0.407407</td>\n",
       "    </tr>\n",
       "    <tr>\n",
       "      <th>4</th>\n",
       "      <td>1.096380</td>\n",
       "      <td>0.395161</td>\n",
       "      <td>1.094400</td>\n",
       "      <td>0.407407</td>\n",
       "    </tr>\n",
       "  </tbody>\n",
       "</table>\n",
       "</div>"
      ],
      "text/plain": [
       "         loss  accuracy  val_loss  val_accuracy\n",
       "0  494.385651  0.298387  1.098298      0.407407\n",
       "1    1.098163  0.395161  1.096821      0.407407\n",
       "2    1.097234  0.395161  1.096063      0.407407\n",
       "3    1.096666  0.395161  1.095515      0.407407\n",
       "4    1.096380  0.395161  1.094400      0.407407"
      ]
     },
     "execution_count": 30,
     "metadata": {},
     "output_type": "execute_result"
    }
   ],
   "source": [
    "result = pd.DataFrame(history.history)\n",
    "result.head()"
   ]
  },
  {
   "cell_type": "code",
   "execution_count": 31,
   "id": "e688d5b4-01dd-42b5-8673-d76d3a77df1a",
   "metadata": {},
   "outputs": [
    {
     "data": {
      "text/plain": [
       "<AxesSubplot:>"
      ]
     },
     "execution_count": 31,
     "metadata": {},
     "output_type": "execute_result"
    },
    {
     "data": {
      "image/png": "[encoded data removed]",
      "text/plain": [
       "<Figure size 432x288 with 1 Axes>"
      ]
     },
     "metadata": {
      "needs_background": "light"
     },
     "output_type": "display_data"
    }
   ],
   "source": [
    "result[['loss', 'val_loss']].plot()"
   ]
  },
  {
   "cell_type": "code",
   "execution_count": 32,
   "id": "63bc78a8-4d6f-45e1-80de-9f60d56472cd",
   "metadata": {},
   "outputs": [
    {
     "data": {
      "text/plain": [
       "<AxesSubplot:>"
      ]
     },
     "execution_count": 32,
     "metadata": {},
     "output_type": "execute_result"
    },
    {
     "data": {
      "image/png": "[encoded data removed]",
      "text/plain": [
       "<Figure size 432x288 with 1 Axes>"
      ]
     },
     "metadata": {
      "needs_background": "light"
     },
     "output_type": "display_data"
    }
   ],
   "source": [
    "result[['accuracy', 'val_accuracy']].plot()"
   ]
  },
  {
   "cell_type": "code",
   "execution_count": 33,
   "id": "d07b2314-3fb0-4908-86f5-eebc6ca3058d",
   "metadata": {},
   "outputs": [
    {
     "name": "stdout",
     "output_type": "stream",
     "text": [
      "Epoch 1/50\n",
      "13/13 [==============================] - 0s 10ms/step - loss: 1.1679 - accuracy: 0.3845 - val_loss: 6.3959 - val_accuracy: 0.2407\n",
      "Epoch 2/50\n",
      "13/13 [==============================] - 0s 2ms/step - loss: 1.0557 - accuracy: 0.4994 - val_loss: 4.5831 - val_accuracy: 0.3519\n",
      "Epoch 3/50\n",
      "13/13 [==============================] - 0s 2ms/step - loss: 0.9445 - accuracy: 0.5475 - val_loss: 3.9581 - val_accuracy: 0.5741\n",
      "Epoch 4/50\n",
      "13/13 [==============================] - 0s 2ms/step - loss: 0.8214 - accuracy: 0.6580 - val_loss: 3.5925 - val_accuracy: 0.5926\n",
      "Epoch 5/50\n",
      "13/13 [==============================] - 0s 2ms/step - loss: 0.8320 - accuracy: 0.6580 - val_loss: 3.3412 - val_accuracy: 0.5926\n",
      "Epoch 6/50\n",
      "13/13 [==============================] - 0s 2ms/step - loss: 0.6560 - accuracy: 0.8015 - val_loss: 3.0576 - val_accuracy: 0.5741\n",
      "Epoch 7/50\n",
      "13/13 [==============================] - 0s 2ms/step - loss: 0.5438 - accuracy: 0.8691 - val_loss: 2.7988 - val_accuracy: 0.5741\n",
      "Epoch 8/50\n",
      "13/13 [==============================] - 0s 2ms/step - loss: 0.5436 - accuracy: 0.8571 - val_loss: 2.5429 - val_accuracy: 0.5741\n",
      "Epoch 9/50\n",
      "13/13 [==============================] - 0s 2ms/step - loss: 0.4522 - accuracy: 0.8941 - val_loss: 2.2418 - val_accuracy: 0.5926\n",
      "Epoch 10/50\n",
      "13/13 [==============================] - 0s 2ms/step - loss: 0.5286 - accuracy: 0.8208 - val_loss: 1.9963 - val_accuracy: 0.5926\n",
      "Epoch 11/50\n",
      "13/13 [==============================] - 0s 2ms/step - loss: 0.4794 - accuracy: 0.8086 - val_loss: 1.6930 - val_accuracy: 0.5926\n",
      "Epoch 12/50\n",
      "13/13 [==============================] - 0s 2ms/step - loss: 0.4627 - accuracy: 0.9066 - val_loss: 1.4295 - val_accuracy: 0.6111\n",
      "Epoch 13/50\n",
      "13/13 [==============================] - 0s 2ms/step - loss: 0.3704 - accuracy: 0.9228 - val_loss: 1.1847 - val_accuracy: 0.6481\n",
      "Epoch 14/50\n",
      "13/13 [==============================] - 0s 2ms/step - loss: 0.3696 - accuracy: 0.9282 - val_loss: 0.9777 - val_accuracy: 0.6481\n",
      "Epoch 15/50\n",
      "13/13 [==============================] - 0s 2ms/step - loss: 0.3322 - accuracy: 0.9146 - val_loss: 0.8077 - val_accuracy: 0.6481\n",
      "Epoch 16/50\n",
      "13/13 [==============================] - 0s 2ms/step - loss: 0.3888 - accuracy: 0.8910 - val_loss: 0.6494 - val_accuracy: 0.7037\n",
      "Epoch 17/50\n",
      "13/13 [==============================] - 0s 2ms/step - loss: 0.3373 - accuracy: 0.8802 - val_loss: 0.5236 - val_accuracy: 0.8148\n",
      "Epoch 18/50\n",
      "13/13 [==============================] - 0s 2ms/step - loss: 0.3805 - accuracy: 0.8900 - val_loss: 0.4280 - val_accuracy: 0.8333\n",
      "Epoch 19/50\n",
      "13/13 [==============================] - 0s 2ms/step - loss: 0.4817 - accuracy: 0.8635 - val_loss: 0.3576 - val_accuracy: 0.8519\n",
      "Epoch 20/50\n",
      "13/13 [==============================] - 0s 2ms/step - loss: 0.2976 - accuracy: 0.9200 - val_loss: 0.2984 - val_accuracy: 0.9074\n",
      "Epoch 21/50\n",
      "13/13 [==============================] - 0s 2ms/step - loss: 0.2501 - accuracy: 0.9347 - val_loss: 0.2501 - val_accuracy: 0.9074\n",
      "Epoch 22/50\n",
      "13/13 [==============================] - 0s 2ms/step - loss: 0.2579 - accuracy: 0.9424 - val_loss: 0.2154 - val_accuracy: 0.9074\n",
      "Epoch 23/50\n",
      "13/13 [==============================] - 0s 2ms/step - loss: 0.3010 - accuracy: 0.9117 - val_loss: 0.1848 - val_accuracy: 0.9444\n",
      "Epoch 24/50\n",
      "13/13 [==============================] - 0s 2ms/step - loss: 0.2329 - accuracy: 0.9625 - val_loss: 0.1655 - val_accuracy: 0.9444\n",
      "Epoch 25/50\n",
      "13/13 [==============================] - 0s 2ms/step - loss: 0.3024 - accuracy: 0.8898 - val_loss: 0.1487 - val_accuracy: 0.9630\n",
      "Epoch 26/50\n",
      "13/13 [==============================] - 0s 2ms/step - loss: 0.2492 - accuracy: 0.9396 - val_loss: 0.1383 - val_accuracy: 0.9815\n",
      "Epoch 27/50\n",
      "13/13 [==============================] - 0s 2ms/step - loss: 0.4334 - accuracy: 0.8332 - val_loss: 0.1298 - val_accuracy: 0.9815\n",
      "Epoch 28/50\n",
      "13/13 [==============================] - 0s 2ms/step - loss: 0.2687 - accuracy: 0.9120 - val_loss: 0.1213 - val_accuracy: 0.9815\n",
      "Epoch 29/50\n",
      "13/13 [==============================] - 0s 2ms/step - loss: 0.1831 - accuracy: 0.9526 - val_loss: 0.1170 - val_accuracy: 0.9815\n",
      "Epoch 30/50\n",
      "13/13 [==============================] - 0s 2ms/step - loss: 0.1922 - accuracy: 0.9565 - val_loss: 0.1108 - val_accuracy: 0.9815\n",
      "Epoch 31/50\n",
      "13/13 [==============================] - 0s 2ms/step - loss: 0.1967 - accuracy: 0.9784 - val_loss: 0.1052 - val_accuracy: 0.9815\n",
      "Epoch 32/50\n",
      "13/13 [==============================] - 0s 2ms/step - loss: 0.1991 - accuracy: 0.9527 - val_loss: 0.0996 - val_accuracy: 0.9815\n",
      "Epoch 33/50\n",
      "13/13 [==============================] - 0s 2ms/step - loss: 0.1833 - accuracy: 0.9489 - val_loss: 0.0936 - val_accuracy: 1.0000\n",
      "Epoch 34/50\n",
      "13/13 [==============================] - 0s 2ms/step - loss: 0.1812 - accuracy: 0.9450 - val_loss: 0.0889 - val_accuracy: 1.0000\n",
      "Epoch 35/50\n",
      "13/13 [==============================] - 0s 2ms/step - loss: 0.2540 - accuracy: 0.9436 - val_loss: 0.0842 - val_accuracy: 1.0000\n",
      "Epoch 36/50\n",
      "13/13 [==============================] - 0s 2ms/step - loss: 0.2290 - accuracy: 0.9392 - val_loss: 0.0798 - val_accuracy: 1.0000\n",
      "Epoch 37/50\n",
      "13/13 [==============================] - 0s 2ms/step - loss: 0.2491 - accuracy: 0.9357 - val_loss: 0.0767 - val_accuracy: 1.0000\n",
      "Epoch 38/50\n",
      "13/13 [==============================] - 0s 2ms/step - loss: 0.1896 - accuracy: 0.9571 - val_loss: 0.0756 - val_accuracy: 1.0000\n",
      "Epoch 39/50\n",
      "13/13 [==============================] - 0s 2ms/step - loss: 0.1831 - accuracy: 0.9522 - val_loss: 0.0724 - val_accuracy: 1.0000\n",
      "Epoch 40/50\n",
      "13/13 [==============================] - 0s 2ms/step - loss: 0.2448 - accuracy: 0.9199 - val_loss: 0.0700 - val_accuracy: 1.0000\n",
      "Epoch 41/50\n",
      "13/13 [==============================] - 0s 2ms/step - loss: 0.1967 - accuracy: 0.9697 - val_loss: 0.0702 - val_accuracy: 1.0000\n",
      "Epoch 42/50\n",
      "13/13 [==============================] - 0s 2ms/step - loss: 0.2251 - accuracy: 0.9086 - val_loss: 0.0684 - val_accuracy: 1.0000\n",
      "Epoch 43/50\n",
      "13/13 [==============================] - 0s 2ms/step - loss: 0.1808 - accuracy: 0.9246 - val_loss: 0.0668 - val_accuracy: 1.0000\n",
      "Epoch 44/50\n",
      "13/13 [==============================] - 0s 2ms/step - loss: 0.1848 - accuracy: 0.9458 - val_loss: 0.0649 - val_accuracy: 1.0000\n",
      "Epoch 45/50\n",
      "13/13 [==============================] - 0s 2ms/step - loss: 0.1605 - accuracy: 0.9301 - val_loss: 0.0637 - val_accuracy: 1.0000\n",
      "Epoch 46/50\n",
      "13/13 [==============================] - 0s 2ms/step - loss: 0.2897 - accuracy: 0.8827 - val_loss: 0.0621 - val_accuracy: 1.0000\n",
      "Epoch 47/50\n",
      "13/13 [==============================] - 0s 2ms/step - loss: 0.2190 - accuracy: 0.9411 - val_loss: 0.0619 - val_accuracy: 1.0000\n",
      "Epoch 48/50\n",
      "13/13 [==============================] - 0s 2ms/step - loss: 0.1795 - accuracy: 0.9490 - val_loss: 0.0593 - val_accuracy: 1.0000\n",
      "Epoch 49/50\n",
      "13/13 [==============================] - 0s 2ms/step - loss: 0.1663 - accuracy: 0.9413 - val_loss: 0.0584 - val_accuracy: 1.0000\n",
      "Epoch 50/50\n",
      "13/13 [==============================] - 0s 2ms/step - loss: 0.2133 - accuracy: 0.9159 - val_loss: 0.0568 - val_accuracy: 1.0000\n"
     ]
    }
   ],
   "source": [
    "reset_seed(0)\n",
    "\n",
    "model = tf.keras.models.Sequential([\n",
    "    tf.keras.layers.BatchNormalization(input_shape = (10,)),\n",
    "    tf.keras.layers.Dense(10, activation = 'relu'),\n",
    "    tf.keras.layers.Dense(3, activation = 'softmax'),\n",
    "])\n",
    "\n",
    "model.compile(optimizer = 'sgd',\n",
    "             loss = 'sparse_categorical_crossentropy',\n",
    "             metrics = ['accuracy'])\n",
    "\n",
    "history = model.fit(x_train, t_train,\n",
    "                   batch_size = 10,\n",
    "                   epochs = 50,\n",
    "                   validation_data = (x_test, t_test))"
   ]
  },
  {
   "cell_type": "code",
   "execution_count": 34,
   "id": "6e609d20-e763-405d-9dba-3dec5c897c15",
   "metadata": {},
   "outputs": [
    {
     "data": {
      "text/plain": [
       "<AxesSubplot:>"
      ]
     },
     "execution_count": 34,
     "metadata": {},
     "output_type": "execute_result"
    },
    {
     "data": {
      "image/png": "[encoded data removed]",
      "text/plain": [
       "<Figure size 432x288 with 1 Axes>"
      ]
     },
     "metadata": {
      "needs_background": "light"
     },
     "output_type": "display_data"
    }
   ],
   "source": [
    "result_batchnorm = pd.DataFrame(history.history)\n",
    "result_batchnorm[['loss', 'val_loss']].plot()"
   ]
  },
  {
   "cell_type": "code",
   "execution_count": 35,
   "id": "0c0c06ac-f58c-4042-ba2c-4e29d558f014",
   "metadata": {},
   "outputs": [
    {
     "data": {
      "text/plain": [
       "<AxesSubplot:>"
      ]
     },
     "execution_count": 35,
     "metadata": {},
     "output_type": "execute_result"
    },
    {
     "data": {
      "image/png": "[encoded data removed]",
      "text/plain": [
       "<Figure size 432x288 with 1 Axes>"
      ]
     },
     "metadata": {
      "needs_background": "light"
     },
     "output_type": "display_data"
    }
   ],
   "source": [
    "result_batchnorm[['accuracy', 'val_accuracy']].plot()"
   ]
  },
  {
   "cell_type": "code",
   "execution_count": 36,
   "id": "d2e91bac-0598-4799-8f7a-886247f7c773",
   "metadata": {},
   "outputs": [],
   "source": [
    "model.save(filepath = './wine_model.h5', save_format = 'h5')"
   ]
  },
  {
   "cell_type": "code",
   "execution_count": 37,
   "id": "7efbd371-f0f4-462d-a0a8-116e3a02de7f",
   "metadata": {},
   "outputs": [],
   "source": [
    "loaded_model = tf.keras.models.load_model('./wine_model.h5')"
   ]
  },
  {
   "cell_type": "code",
   "execution_count": 48,
   "id": "5f219957-b1cc-489a-9ccd-14c3132c8acf",
   "metadata": {},
   "outputs": [
    {
     "data": {
      "text/plain": [
       "(10,)"
      ]
     },
     "execution_count": 48,
     "metadata": {},
     "output_type": "execute_result"
    }
   ],
   "source": [
    "sample = x_train[0]\n",
    "sample.shape"
   ]
  },
  {
   "cell_type": "code",
   "execution_count": 49,
   "id": "d6e96fad-61dd-4b1c-b448-82a6231559c8",
   "metadata": {},
   "outputs": [
    {
     "data": {
      "text/plain": [
       "(1, 10)"
      ]
     },
     "execution_count": 49,
     "metadata": {},
     "output_type": "execute_result"
    }
   ],
   "source": [
    "sample = sample.reshape(1, 10)\n",
    "sample.shape"
   ]
  },
  {
   "cell_type": "code",
   "execution_count": 50,
   "id": "482cf394-90b4-4d2e-bc16-62737e75a32e",
   "metadata": {},
   "outputs": [
    {
     "data": {
      "text/plain": [
       "array([[0.9737636 , 0.00732896, 0.01890746]], dtype=float32)"
      ]
     },
     "execution_count": 50,
     "metadata": {},
     "output_type": "execute_result"
    }
   ],
   "source": [
    "y = loaded_model.predict(sample)\n",
    "y"
   ]
  },
  {
   "cell_type": "code",
   "execution_count": 51,
   "id": "f96dad0a-fd26-4c86-9ca0-642d53e50ccd",
   "metadata": {},
   "outputs": [
    {
     "data": {
      "text/plain": [
       "0"
      ]
     },
     "execution_count": 51,
     "metadata": {},
     "output_type": "execute_result"
    }
   ],
   "source": [
    "np.argmax(y)"
   ]
  },
  {
   "cell_type": "code",
   "execution_count": 52,
   "id": "389ff794-4e3e-44ed-ad1a-e69eefd12c73",
   "metadata": {},
   "outputs": [
    {
     "data": {
      "text/plain": [
       "0"
      ]
     },
     "execution_count": 52,
     "metadata": {},
     "output_type": "execute_result"
    }
   ],
   "source": [
    "t_train[0]"
   ]
  }
 ],
 "metadata": {
  "kernelspec": {
   "display_name": "Python 3",
   "language": "python",
   "name": "python3"
  },
  "language_info": {
   "codemirror_mode": {
    "name": "ipython",
    "version": 3
   },
   "file_extension": ".py",
   "mimetype": "text/x-python",
   "name": "python",
   "nbconvert_exporter": "python",
   "pygments_lexer": "ipython3",
   "version": "3.9.1"
  }
 },
 "nbformat": 4,
 "nbformat_minor": 5
}
