{
  "nbformat": 4,
  "nbformat_minor": 0,
  "metadata": {
    "colab": {
      "name": "fine_tuning.ipynb",
      "provenance": [],
      "collapsed_sections": [],
      "authorship_tag": "ABX9TyMe5JLT6Czp0aADFwnSGv/O"
    },
    "kernelspec": {
      "name": "python3",
      "display_name": "Python 3"
    },
    "language_info": {
      "name": "python"
    },
    "accelerator": "GPU"
  },
  "cells": [
    {
      "cell_type": "code",
      "metadata": {
        "id": "NKDsQbEzdZmF"
      },
      "source": [
        "import numpy as np\n",
        "import pandas as pd\n",
        "import matplotlib.pyplot as plt\n",
        "import cv2\n",
        "\n",
        "import tensorflow as tf"
      ],
      "execution_count": 2,
      "outputs": []
    },
    {
      "cell_type": "code",
      "metadata": {
        "colab": {
          "base_uri": "https://localhost:8080/"
        },
        "id": "rWA0bfZ1eLWU",
        "outputId": "a7eeae8b-1813-4358-b12e-6b8b90088edc"
      },
      "source": [
        "from tensorflow.python.client import device_lib\n",
        "print(device_lib.list_local_devices())"
      ],
      "execution_count": 3,
      "outputs": [
        {
          "output_type": "stream",
          "text": [
            "[name: \"/device:CPU:0\"\n",
            "device_type: \"CPU\"\n",
            "memory_limit: 268435456\n",
            "locality {\n",
            "}\n",
            "incarnation: 1527275295646408627\n",
            ", name: \"/device:GPU:0\"\n",
            "device_type: \"GPU\"\n",
            "memory_limit: 14674281152\n",
            "locality {\n",
            "  bus_id: 1\n",
            "  links {\n",
            "  }\n",
            "}\n",
            "incarnation: 1186227179653800555\n",
            "physical_device_desc: \"device: 0, name: Tesla T4, pci bus id: 0000:00:04.0, compute capability: 7.5\"\n",
            "]\n"
          ],
          "name": "stdout"
        }
      ]
    },
    {
      "cell_type": "code",
      "metadata": {
        "colab": {
          "base_uri": "https://localhost:8080/"
        },
        "id": "FpzJJ-Sje6gq",
        "outputId": "cbed7d9a-0bbf-433c-fd4a-ce8e2e259385"
      },
      "source": [
        "train, test = tf.keras.datasets.cifar10.load_data()"
      ],
      "execution_count": 4,
      "outputs": [
        {
          "output_type": "stream",
          "text": [
            "Downloading data from https://www.cs.toronto.edu/~kriz/cifar-10-python.tar.gz\n",
            "170500096/170498071 [==============================] - 4s 0us/step\n"
          ],
          "name": "stdout"
        }
      ]
    },
    {
      "cell_type": "code",
      "metadata": {
        "colab": {
          "base_uri": "https://localhost:8080/"
        },
        "id": "--7PZgoyfD1b",
        "outputId": "01970e30-c5a8-4562-d05a-8ee35edfaac4"
      },
      "source": [
        "train[0].shape, test[0].shape"
      ],
      "execution_count": 5,
      "outputs": [
        {
          "output_type": "execute_result",
          "data": {
            "text/plain": [
              "((50000, 32, 32, 3), (10000, 32, 32, 3))"
            ]
          },
          "metadata": {
            "tags": []
          },
          "execution_count": 5
        }
      ]
    },
    {
      "cell_type": "code",
      "metadata": {
        "colab": {
          "base_uri": "https://localhost:8080/"
        },
        "id": "EfP-X1O-fKho",
        "outputId": "3e788a3c-c96a-4e83-cd39-b7bfd61eb56c"
      },
      "source": [
        "train[1].shape, test[1].shape"
      ],
      "execution_count": 6,
      "outputs": [
        {
          "output_type": "execute_result",
          "data": {
            "text/plain": [
              "((50000, 1), (10000, 1))"
            ]
          },
          "metadata": {
            "tags": []
          },
          "execution_count": 6
        }
      ]
    },
    {
      "cell_type": "code",
      "metadata": {
        "id": "cj86dB2bfNld"
      },
      "source": [
        "x_train = train[0] /225\n",
        "x_test = test[0] /225"
      ],
      "execution_count": 7,
      "outputs": []
    },
    {
      "cell_type": "code",
      "metadata": {
        "id": "fGxvrAoOfTTb"
      },
      "source": [
        "t_train = train[1]\n",
        "t_test = test[1]"
      ],
      "execution_count": 8,
      "outputs": []
    },
    {
      "cell_type": "code",
      "metadata": {
        "id": "a51Pl7RofXDv"
      },
      "source": [
        "x_train, x_test = x_train.astype('float32'), x_test.astype('float32')\n",
        "t_train, t_test = t_train.astype('int32'), t_test.astype('int32')"
      ],
      "execution_count": 9,
      "outputs": []
    },
    {
      "cell_type": "code",
      "metadata": {
        "id": "3T0grlQxfmEY"
      },
      "source": [
        "import os, random\n",
        "\n",
        "def reset_seed(seed = 0):\n",
        "  os.environ['PYTHONHASHSEED'] = '0'\n",
        "  random.seed(seed)\n",
        "  np.random.seed(seed)\n",
        "  tf.random.set_seed(seed)"
      ],
      "execution_count": 10,
      "outputs": []
    },
    {
      "cell_type": "code",
      "metadata": {
        "id": "OV22wP5thznZ"
      },
      "source": [
        "from tensorflow.keras import models, layers\n",
        "\n",
        "reset_seed(0)\n",
        "\n",
        "model = models.Sequential([\n",
        "                           layers.Conv2D(filters = 3, kernel_size = (3, 3), activation = 'relu', input_shape = (32, 32, 3)),\n",
        "                           layers.MaxPool2D(pool_size = (2, 2)),\n",
        "                           layers.Flatten(),\n",
        "                           layers.Dense(100, activation = 'relu'),\n",
        "                           layers.Dense(10, activation = 'softmax')\n",
        "])"
      ],
      "execution_count": 11,
      "outputs": []
    },
    {
      "cell_type": "code",
      "metadata": {
        "colab": {
          "base_uri": "https://localhost:8080/"
        },
        "id": "Ljy_jmqBiWvD",
        "outputId": "598e3fd7-b1f8-4297-9510-e37cca5b8c14"
      },
      "source": [
        "model.summary()"
      ],
      "execution_count": 12,
      "outputs": [
        {
          "output_type": "stream",
          "text": [
            "Model: \"sequential\"\n",
            "_________________________________________________________________\n",
            "Layer (type)                 Output Shape              Param #   \n",
            "=================================================================\n",
            "conv2d (Conv2D)              (None, 30, 30, 3)         84        \n",
            "_________________________________________________________________\n",
            "max_pooling2d (MaxPooling2D) (None, 15, 15, 3)         0         \n",
            "_________________________________________________________________\n",
            "flatten (Flatten)            (None, 675)               0         \n",
            "_________________________________________________________________\n",
            "dense (Dense)                (None, 100)               67600     \n",
            "_________________________________________________________________\n",
            "dense_1 (Dense)              (None, 10)                1010      \n",
            "=================================================================\n",
            "Total params: 68,694\n",
            "Trainable params: 68,694\n",
            "Non-trainable params: 0\n",
            "_________________________________________________________________\n"
          ],
          "name": "stdout"
        }
      ]
    },
    {
      "cell_type": "code",
      "metadata": {
        "id": "cVjupoALiYzR"
      },
      "source": [
        "optimizer = tf.keras.optimizers.Adam(lr = 0.01)\n",
        "\n",
        "model.compile(optimizer = optimizer,\n",
        "              loss = 'sparse_categorical_crossentropy',\n",
        "              metrics = ['accuracy'])"
      ],
      "execution_count": 13,
      "outputs": []
    },
    {
      "cell_type": "code",
      "metadata": {
        "colab": {
          "base_uri": "https://localhost:8080/"
        },
        "id": "iMWtHeD0i_Ww",
        "outputId": "e164b56d-56fc-4a7c-db38-a183bf3382eb"
      },
      "source": [
        "batch_size = 4096\n",
        "epochs = 30\n",
        "\n",
        "history = model.fit(x_train, t_train,\n",
        "                    batch_size = batch_size,\n",
        "                    epochs = epochs,\n",
        "                    validation_data = (x_test, t_test))"
      ],
      "execution_count": 14,
      "outputs": [
        {
          "output_type": "stream",
          "text": [
            "Epoch 1/30\n",
            "13/13 [==============================] - 34s 80ms/step - loss: 2.2547 - accuracy: 0.1605 - val_loss: 2.0020 - val_accuracy: 0.2829\n",
            "Epoch 2/30\n",
            "13/13 [==============================] - 1s 39ms/step - loss: 1.9224 - accuracy: 0.3271 - val_loss: 1.7605 - val_accuracy: 0.3790\n",
            "Epoch 3/30\n",
            "13/13 [==============================] - 0s 36ms/step - loss: 1.7064 - accuracy: 0.3966 - val_loss: 1.6287 - val_accuracy: 0.4167\n",
            "Epoch 4/30\n",
            "13/13 [==============================] - 0s 38ms/step - loss: 1.5895 - accuracy: 0.4323 - val_loss: 1.5743 - val_accuracy: 0.4367\n",
            "Epoch 5/30\n",
            "13/13 [==============================] - 0s 38ms/step - loss: 1.5092 - accuracy: 0.4585 - val_loss: 1.5465 - val_accuracy: 0.4443\n",
            "Epoch 6/30\n",
            "13/13 [==============================] - 0s 37ms/step - loss: 1.4648 - accuracy: 0.4742 - val_loss: 1.5024 - val_accuracy: 0.4603\n",
            "Epoch 7/30\n",
            "13/13 [==============================] - 0s 38ms/step - loss: 1.4380 - accuracy: 0.4832 - val_loss: 1.5394 - val_accuracy: 0.4541\n",
            "Epoch 8/30\n",
            "13/13 [==============================] - 0s 37ms/step - loss: 1.4081 - accuracy: 0.4989 - val_loss: 1.4526 - val_accuracy: 0.4849\n",
            "Epoch 9/30\n",
            "13/13 [==============================] - 0s 38ms/step - loss: 1.3413 - accuracy: 0.5256 - val_loss: 1.4307 - val_accuracy: 0.4929\n",
            "Epoch 10/30\n",
            "13/13 [==============================] - 0s 36ms/step - loss: 1.2996 - accuracy: 0.5401 - val_loss: 1.4076 - val_accuracy: 0.5032\n",
            "Epoch 11/30\n",
            "13/13 [==============================] - 0s 38ms/step - loss: 1.2772 - accuracy: 0.5461 - val_loss: 1.4130 - val_accuracy: 0.4999\n",
            "Epoch 12/30\n",
            "13/13 [==============================] - 0s 37ms/step - loss: 1.2561 - accuracy: 0.5590 - val_loss: 1.4008 - val_accuracy: 0.5104\n",
            "Epoch 13/30\n",
            "13/13 [==============================] - 0s 38ms/step - loss: 1.2258 - accuracy: 0.5685 - val_loss: 1.4041 - val_accuracy: 0.5134\n",
            "Epoch 14/30\n",
            "13/13 [==============================] - 0s 38ms/step - loss: 1.2066 - accuracy: 0.5739 - val_loss: 1.3815 - val_accuracy: 0.5166\n",
            "Epoch 15/30\n",
            "13/13 [==============================] - 0s 38ms/step - loss: 1.1791 - accuracy: 0.5838 - val_loss: 1.3757 - val_accuracy: 0.5231\n",
            "Epoch 16/30\n",
            "13/13 [==============================] - 0s 38ms/step - loss: 1.1499 - accuracy: 0.5966 - val_loss: 1.4655 - val_accuracy: 0.4984\n",
            "Epoch 17/30\n",
            "13/13 [==============================] - 0s 36ms/step - loss: 1.1791 - accuracy: 0.5868 - val_loss: 1.4172 - val_accuracy: 0.5067\n",
            "Epoch 18/30\n",
            "13/13 [==============================] - 0s 38ms/step - loss: 1.1396 - accuracy: 0.5989 - val_loss: 1.3945 - val_accuracy: 0.5186\n",
            "Epoch 19/30\n",
            "13/13 [==============================] - 0s 37ms/step - loss: 1.1180 - accuracy: 0.6115 - val_loss: 1.3992 - val_accuracy: 0.5192\n",
            "Epoch 20/30\n",
            "13/13 [==============================] - 0s 37ms/step - loss: 1.0930 - accuracy: 0.6157 - val_loss: 1.4250 - val_accuracy: 0.5198\n",
            "Epoch 21/30\n",
            "13/13 [==============================] - 0s 36ms/step - loss: 1.0976 - accuracy: 0.6157 - val_loss: 1.4202 - val_accuracy: 0.5184\n",
            "Epoch 22/30\n",
            "13/13 [==============================] - 0s 38ms/step - loss: 1.0652 - accuracy: 0.6264 - val_loss: 1.4181 - val_accuracy: 0.5194\n",
            "Epoch 23/30\n",
            "13/13 [==============================] - 0s 37ms/step - loss: 1.0348 - accuracy: 0.6362 - val_loss: 1.4257 - val_accuracy: 0.5203\n",
            "Epoch 24/30\n",
            "13/13 [==============================] - 0s 38ms/step - loss: 1.0289 - accuracy: 0.6387 - val_loss: 1.4155 - val_accuracy: 0.5229\n",
            "Epoch 25/30\n",
            "13/13 [==============================] - 0s 37ms/step - loss: 1.0191 - accuracy: 0.6454 - val_loss: 1.4501 - val_accuracy: 0.5146\n",
            "Epoch 26/30\n",
            "13/13 [==============================] - 0s 36ms/step - loss: 1.0088 - accuracy: 0.6474 - val_loss: 1.4454 - val_accuracy: 0.5237\n",
            "Epoch 27/30\n",
            "13/13 [==============================] - 0s 38ms/step - loss: 0.9962 - accuracy: 0.6499 - val_loss: 1.4396 - val_accuracy: 0.5214\n",
            "Epoch 28/30\n",
            "13/13 [==============================] - 0s 38ms/step - loss: 0.9683 - accuracy: 0.6647 - val_loss: 1.4489 - val_accuracy: 0.5167\n",
            "Epoch 29/30\n",
            "13/13 [==============================] - 0s 37ms/step - loss: 0.9611 - accuracy: 0.6648 - val_loss: 1.4672 - val_accuracy: 0.5145\n",
            "Epoch 30/30\n",
            "13/13 [==============================] - 0s 36ms/step - loss: 0.9522 - accuracy: 0.6671 - val_loss: 1.4565 - val_accuracy: 0.5176\n"
          ],
          "name": "stdout"
        }
      ]
    },
    {
      "cell_type": "code",
      "metadata": {
        "colab": {
          "base_uri": "https://localhost:8080/"
        },
        "id": "BLGe3ERGjQ_J",
        "outputId": "f69cb83b-5a2c-40bf-a971-06ded975dbdc"
      },
      "source": [
        "from tensorflow.keras.applications import resnet, VGG16\n",
        "base_model = VGG16(input_shape = (224, 224, 3),\n",
        "                   include_top = False,\n",
        "                   weights = 'imagenet')"
      ],
      "execution_count": 15,
      "outputs": [
        {
          "output_type": "stream",
          "text": [
            "Downloading data from https://storage.googleapis.com/tensorflow/keras-applications/vgg16/vgg16_weights_tf_dim_ordering_tf_kernels_notop.h5\n",
            "58892288/58889256 [==============================] - 0s 0us/step\n"
          ],
          "name": "stdout"
        }
      ]
    },
    {
      "cell_type": "code",
      "metadata": {
        "colab": {
          "base_uri": "https://localhost:8080/"
        },
        "id": "VXP1836SkAIx",
        "outputId": "8d490bb9-556f-4d9a-84aa-67320838f063"
      },
      "source": [
        "base_model.summary()"
      ],
      "execution_count": 16,
      "outputs": [
        {
          "output_type": "stream",
          "text": [
            "Model: \"vgg16\"\n",
            "_________________________________________________________________\n",
            "Layer (type)                 Output Shape              Param #   \n",
            "=================================================================\n",
            "input_1 (InputLayer)         [(None, 224, 224, 3)]     0         \n",
            "_________________________________________________________________\n",
            "block1_conv1 (Conv2D)        (None, 224, 224, 64)      1792      \n",
            "_________________________________________________________________\n",
            "block1_conv2 (Conv2D)        (None, 224, 224, 64)      36928     \n",
            "_________________________________________________________________\n",
            "block1_pool (MaxPooling2D)   (None, 112, 112, 64)      0         \n",
            "_________________________________________________________________\n",
            "block2_conv1 (Conv2D)        (None, 112, 112, 128)     73856     \n",
            "_________________________________________________________________\n",
            "block2_conv2 (Conv2D)        (None, 112, 112, 128)     147584    \n",
            "_________________________________________________________________\n",
            "block2_pool (MaxPooling2D)   (None, 56, 56, 128)       0         \n",
            "_________________________________________________________________\n",
            "block3_conv1 (Conv2D)        (None, 56, 56, 256)       295168    \n",
            "_________________________________________________________________\n",
            "block3_conv2 (Conv2D)        (None, 56, 56, 256)       590080    \n",
            "_________________________________________________________________\n",
            "block3_conv3 (Conv2D)        (None, 56, 56, 256)       590080    \n",
            "_________________________________________________________________\n",
            "block3_pool (MaxPooling2D)   (None, 28, 28, 256)       0         \n",
            "_________________________________________________________________\n",
            "block4_conv1 (Conv2D)        (None, 28, 28, 512)       1180160   \n",
            "_________________________________________________________________\n",
            "block4_conv2 (Conv2D)        (None, 28, 28, 512)       2359808   \n",
            "_________________________________________________________________\n",
            "block4_conv3 (Conv2D)        (None, 28, 28, 512)       2359808   \n",
            "_________________________________________________________________\n",
            "block4_pool (MaxPooling2D)   (None, 14, 14, 512)       0         \n",
            "_________________________________________________________________\n",
            "block5_conv1 (Conv2D)        (None, 14, 14, 512)       2359808   \n",
            "_________________________________________________________________\n",
            "block5_conv2 (Conv2D)        (None, 14, 14, 512)       2359808   \n",
            "_________________________________________________________________\n",
            "block5_conv3 (Conv2D)        (None, 14, 14, 512)       2359808   \n",
            "_________________________________________________________________\n",
            "block5_pool (MaxPooling2D)   (None, 7, 7, 512)         0         \n",
            "=================================================================\n",
            "Total params: 14,714,688\n",
            "Trainable params: 14,714,688\n",
            "Non-trainable params: 0\n",
            "_________________________________________________________________\n"
          ],
          "name": "stdout"
        }
      ]
    },
    {
      "cell_type": "code",
      "metadata": {
        "id": "b8r-TJotkCrs"
      },
      "source": [
        "train_choice = np.random.randint(low = 0, high = 50000, size = 5000)\n",
        "# train_choice = np.random.randint(low = 0, high = 50000, size = 10000)\n",
        "\n",
        "test_choice = np.random.randint(low = 0, high = 10000, size = 1000)\n",
        "# test_choice = np.random.randint(low = 0, high = 10000, size = 5000)"
      ],
      "execution_count": 17,
      "outputs": []
    },
    {
      "cell_type": "code",
      "metadata": {
        "id": "str98pzWkaRu"
      },
      "source": [
        "x_train = train[0][train_choice]\n",
        "x_test = test[0][test_choice]\n",
        "t_train = train[1][train_choice].astype('int32')\n",
        "t_test = test[1][test_choice].astype('int32')"
      ],
      "execution_count": 18,
      "outputs": []
    },
    {
      "cell_type": "code",
      "metadata": {
        "id": "wbXhfMuHknSw"
      },
      "source": [
        "_train = []\n",
        "\n",
        "for img in x_train:\n",
        "  _train.append(cv2.resize(src = img, dsize = (224, 224)))"
      ],
      "execution_count": 19,
      "outputs": []
    },
    {
      "cell_type": "code",
      "metadata": {
        "id": "-Eoy9eGsk3Cp"
      },
      "source": [
        "x_train = np.array(_train, dtype = 'float32') / 255.0"
      ],
      "execution_count": 20,
      "outputs": []
    },
    {
      "cell_type": "code",
      "metadata": {
        "id": "ieiht_-FpNoh"
      },
      "source": [
        "del _train"
      ],
      "execution_count": 21,
      "outputs": []
    },
    {
      "cell_type": "code",
      "metadata": {
        "id": "hduzSXGBpbbS"
      },
      "source": [
        "_test = []\n",
        "\n",
        "for img in x_test:\n",
        "  _test.append(cv2.resize(src = img, dsize = (224, 224)))"
      ],
      "execution_count": 22,
      "outputs": []
    },
    {
      "cell_type": "code",
      "metadata": {
        "id": "WQF2fnzEmFoh"
      },
      "source": [
        "x_test = np.array(_test, dtype = 'float32') / 255.0"
      ],
      "execution_count": 23,
      "outputs": []
    },
    {
      "cell_type": "code",
      "metadata": {
        "id": "LZXdYdTOlM3b"
      },
      "source": [
        "del _test"
      ],
      "execution_count": 24,
      "outputs": []
    },
    {
      "cell_type": "code",
      "metadata": {
        "colab": {
          "base_uri": "https://localhost:8080/"
        },
        "id": "dmRINkedne9X",
        "outputId": "f737245a-1d45-4ca1-8982-d7e16193d5a7"
      },
      "source": [
        "x_train.shape, x_test.shape"
      ],
      "execution_count": 25,
      "outputs": [
        {
          "output_type": "execute_result",
          "data": {
            "text/plain": [
              "((5000, 224, 224, 3), (1000, 224, 224, 3))"
            ]
          },
          "metadata": {
            "tags": []
          },
          "execution_count": 25
        }
      ]
    },
    {
      "cell_type": "code",
      "metadata": {
        "id": "Lry5tUDGqYWg"
      },
      "source": [
        "reset_seed(0)\n",
        "\n",
        "finetuned_model = models.Sequential([\n",
        "                                     base_model,\n",
        "                                     layers.GlobalAveragePooling2D(),\n",
        "                                     layers.Dense(512, activation = 'relu'),\n",
        "                                     layers.Dense(10, activation = 'softmax')\n",
        "])"
      ],
      "execution_count": 26,
      "outputs": []
    },
    {
      "cell_type": "code",
      "metadata": {
        "id": "x-OyXPEyr4kA"
      },
      "source": [
        "optimizer = tf.keras.optimizers.SGD(lr = 0.01)\n",
        "\n",
        "finetuned_model.compile(optimizer = optimizer,\n",
        "                        loss = 'sparse_categorical_crossentropy',\n",
        "                        metrics = ['accuracy'])"
      ],
      "execution_count": 27,
      "outputs": []
    },
    {
      "cell_type": "code",
      "metadata": {
        "colab": {
          "base_uri": "https://localhost:8080/"
        },
        "id": "pq_ycea5sI_l",
        "outputId": "722c9ab9-41d7-444f-e65a-28f26bd8888b"
      },
      "source": [
        "finetuned_model.summary()"
      ],
      "execution_count": 28,
      "outputs": [
        {
          "output_type": "stream",
          "text": [
            "Model: \"sequential_1\"\n",
            "_________________________________________________________________\n",
            "Layer (type)                 Output Shape              Param #   \n",
            "=================================================================\n",
            "vgg16 (Functional)           (None, 7, 7, 512)         14714688  \n",
            "_________________________________________________________________\n",
            "global_average_pooling2d (Gl (None, 512)               0         \n",
            "_________________________________________________________________\n",
            "dense_2 (Dense)              (None, 512)               262656    \n",
            "_________________________________________________________________\n",
            "dense_3 (Dense)              (None, 10)                5130      \n",
            "=================================================================\n",
            "Total params: 14,982,474\n",
            "Trainable params: 14,982,474\n",
            "Non-trainable params: 0\n",
            "_________________________________________________________________\n"
          ],
          "name": "stdout"
        }
      ]
    },
    {
      "cell_type": "code",
      "metadata": {
        "colab": {
          "base_uri": "https://localhost:8080/"
        },
        "id": "8gTDfatrsLLg",
        "outputId": "c63feb94-b995-4921-ebe6-22f79e1c3214"
      },
      "source": [
        "loss, accuracy = finetuned_model.evaluate(x_test, t_test)"
      ],
      "execution_count": 29,
      "outputs": [
        {
          "output_type": "stream",
          "text": [
            "32/32 [==============================] - 11s 168ms/step - loss: 2.4392 - accuracy: 0.0927\n"
          ],
          "name": "stdout"
        }
      ]
    },
    {
      "cell_type": "code",
      "metadata": {
        "colab": {
          "base_uri": "https://localhost:8080/"
        },
        "id": "AibJjxJ2sRCw",
        "outputId": "db9e2be5-75a4-40b8-dbe5-3834d59c8826"
      },
      "source": [
        "print(f'loss : {loss}, accuracy : {accuracy}')"
      ],
      "execution_count": 30,
      "outputs": [
        {
          "output_type": "stream",
          "text": [
            "loss : 2.4468395709991455, accuracy : 0.10199999809265137\n"
          ],
          "name": "stdout"
        }
      ]
    },
    {
      "cell_type": "code",
      "metadata": {
        "colab": {
          "base_uri": "https://localhost:8080/"
        },
        "id": "Vn-m957psbmV",
        "outputId": "49c43808-13fa-4670-8dbd-785d5eb78ae9"
      },
      "source": [
        "history = finetuned_model.fit(x_train, t_train,\n",
        "                              epochs = 10,\n",
        "                              batch_size = 32,\n",
        "                              validation_data = (x_test, t_test))"
      ],
      "execution_count": 31,
      "outputs": [
        {
          "output_type": "stream",
          "text": [
            "Epoch 1/10\n",
            "157/157 [==============================] - 69s 410ms/step - loss: 2.2041 - accuracy: 0.1754 - val_loss: 2.2975 - val_accuracy: 0.1520\n",
            "Epoch 2/10\n",
            "157/157 [==============================] - 65s 417ms/step - loss: 1.8624 - accuracy: 0.3386 - val_loss: 3.5005 - val_accuracy: 0.1790\n",
            "Epoch 3/10\n",
            "157/157 [==============================] - 67s 427ms/step - loss: 1.5974 - accuracy: 0.4556 - val_loss: 2.4714 - val_accuracy: 0.3070\n",
            "Epoch 4/10\n",
            "157/157 [==============================] - 68s 435ms/step - loss: 1.3429 - accuracy: 0.5272 - val_loss: 1.1947 - val_accuracy: 0.5390\n",
            "Epoch 5/10\n",
            "157/157 [==============================] - 69s 438ms/step - loss: 1.0647 - accuracy: 0.6350 - val_loss: 1.1863 - val_accuracy: 0.5840\n",
            "Epoch 6/10\n",
            "157/157 [==============================] - 68s 435ms/step - loss: 0.8092 - accuracy: 0.7258 - val_loss: 1.5387 - val_accuracy: 0.5000\n",
            "Epoch 7/10\n",
            "157/157 [==============================] - 68s 436ms/step - loss: 0.6462 - accuracy: 0.7704 - val_loss: 2.2913 - val_accuracy: 0.4010\n",
            "Epoch 8/10\n",
            "157/157 [==============================] - 68s 436ms/step - loss: 0.6640 - accuracy: 0.7840 - val_loss: 0.6790 - val_accuracy: 0.7710\n",
            "Epoch 9/10\n",
            "157/157 [==============================] - 68s 436ms/step - loss: 0.4727 - accuracy: 0.8426 - val_loss: 1.7575 - val_accuracy: 0.4790\n",
            "Epoch 10/10\n",
            "157/157 [==============================] - 69s 439ms/step - loss: 0.4236 - accuracy: 0.8582 - val_loss: 0.9276 - val_accuracy: 0.7040\n"
          ],
          "name": "stdout"
        }
      ]
    },
    {
      "cell_type": "code",
      "metadata": {
        "colab": {
          "base_uri": "https://localhost:8080/",
          "height": 204
        },
        "id": "GC6YALzeso94",
        "outputId": "e136b306-6269-4fea-828f-86d45a564cea"
      },
      "source": [
        "results = pd.DataFrame(history.history)\n",
        "results.tail()"
      ],
      "execution_count": 32,
      "outputs": [
        {
          "output_type": "execute_result",
          "data": {
            "text/html": [
              "<div>\n",
              "<style scoped>\n",
              "    .dataframe tbody tr th:only-of-type {\n",
              "        vertical-align: middle;\n",
              "    }\n",
              "\n",
              "    .dataframe tbody tr th {\n",
              "        vertical-align: top;\n",
              "    }\n",
              "\n",
              "    .dataframe thead th {\n",
              "        text-align: right;\n",
              "    }\n",
              "</style>\n",
              "<table border=\"1\" class=\"dataframe\">\n",
              "  <thead>\n",
              "    <tr style=\"text-align: right;\">\n",
              "      <th></th>\n",
              "      <th>loss</th>\n",
              "      <th>accuracy</th>\n",
              "      <th>val_loss</th>\n",
              "      <th>val_accuracy</th>\n",
              "    </tr>\n",
              "  </thead>\n",
              "  <tbody>\n",
              "    <tr>\n",
              "      <th>5</th>\n",
              "      <td>0.809224</td>\n",
              "      <td>0.7258</td>\n",
              "      <td>1.538716</td>\n",
              "      <td>0.500</td>\n",
              "    </tr>\n",
              "    <tr>\n",
              "      <th>6</th>\n",
              "      <td>0.646183</td>\n",
              "      <td>0.7704</td>\n",
              "      <td>2.291312</td>\n",
              "      <td>0.401</td>\n",
              "    </tr>\n",
              "    <tr>\n",
              "      <th>7</th>\n",
              "      <td>0.664044</td>\n",
              "      <td>0.7840</td>\n",
              "      <td>0.678960</td>\n",
              "      <td>0.771</td>\n",
              "    </tr>\n",
              "    <tr>\n",
              "      <th>8</th>\n",
              "      <td>0.472660</td>\n",
              "      <td>0.8426</td>\n",
              "      <td>1.757486</td>\n",
              "      <td>0.479</td>\n",
              "    </tr>\n",
              "    <tr>\n",
              "      <th>9</th>\n",
              "      <td>0.423589</td>\n",
              "      <td>0.8582</td>\n",
              "      <td>0.927553</td>\n",
              "      <td>0.704</td>\n",
              "    </tr>\n",
              "  </tbody>\n",
              "</table>\n",
              "</div>"
            ],
            "text/plain": [
              "       loss  accuracy  val_loss  val_accuracy\n",
              "5  0.809224    0.7258  1.538716         0.500\n",
              "6  0.646183    0.7704  2.291312         0.401\n",
              "7  0.664044    0.7840  0.678960         0.771\n",
              "8  0.472660    0.8426  1.757486         0.479\n",
              "9  0.423589    0.8582  0.927553         0.704"
            ]
          },
          "metadata": {
            "tags": []
          },
          "execution_count": 32
        }
      ]
    },
    {
      "cell_type": "code",
      "metadata": {
        "colab": {
          "base_uri": "https://localhost:8080/",
          "height": 312
        },
        "id": "7MZWpSlktUNl",
        "outputId": "4487a3c1-af22-43b4-aab5-4f58c740e408"
      },
      "source": [
        "results[['loss', 'val_loss']].plot(title = 'loss')\n",
        "plt.xlabel('epochs')"
      ],
      "execution_count": 33,
      "outputs": [
        {
          "output_type": "execute_result",
          "data": {
            "text/plain": [
              "Text(0.5, 0, 'epochs')"
            ]
          },
          "metadata": {
            "tags": []
          },
          "execution_count": 33
        },
        {
          "output_type": "display_data",
          "data": {
            "image/png": "[encoded data removed]",
            "text/plain": [
              "<Figure size 432x288 with 1 Axes>"
            ]
          },
          "metadata": {
            "tags": [],
            "needs_background": "light"
          }
        }
      ]
    },
    {
      "cell_type": "code",
      "metadata": {
        "colab": {
          "base_uri": "https://localhost:8080/",
          "height": 312
        },
        "id": "W41hUQ40tc1u",
        "outputId": "b6476e6a-b6ad-4100-cf9a-2b43b68b4154"
      },
      "source": [
        "results[['accuracy', 'val_accuracy']].plot(title = 'accuracy')\n",
        "plt.xlabel('epochs')"
      ],
      "execution_count": 34,
      "outputs": [
        {
          "output_type": "execute_result",
          "data": {
            "text/plain": [
              "Text(0.5, 0, 'epochs')"
            ]
          },
          "metadata": {
            "tags": []
          },
          "execution_count": 34
        },
        {
          "output_type": "display_data",
          "data": {
            "image/png": "[encoded data removed]",
            "text/plain": [
              "<Figure size 432x288 with 1 Axes>"
            ]
          },
          "metadata": {
            "tags": [],
            "needs_background": "light"
          }
        }
      ]
    },
    {
      "cell_type": "code",
      "metadata": {
        "id": "hNrJRU3Xtk9g"
      },
      "source": [
        ""
      ],
      "execution_count": 34,
      "outputs": []
    }
  ]
}