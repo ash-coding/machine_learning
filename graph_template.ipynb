{
 "cells": [
  {
   "cell_type": "markdown",
   "metadata": {},
   "source": [
    "# matplotlib・seabornを用いた可視化まとめ"
   ]
  },
  {
   "cell_type": "markdown",
   "metadata": {},
   "source": [
    "## 準備\n",
    "***"
   ]
  },
  {
   "cell_type": "markdown",
   "metadata": {},
   "source": [
    "始める前に。。。  \n",
    "matplotlibの階層構造がわからなくなったら、下記のリンクを訪れてみましょう。  \n",
    "[matplotlib Usage Guide](https://matplotlib.org/stable/tutorials/introductory/usage.html)"
   ]
  },
  {
   "cell_type": "markdown",
   "metadata": {},
   "source": [
    "最初にざっくり階層構造を書いておきます。  \n",
    "> **Figure** ： グラフを格納する箱、最上層の箱  \n",
    "> **Axes** ： Figureのひとつ内側の箱、まさにここにグラフを書く  \n",
    "> **Title** ： グラフタイトル  \n",
    "> **Line** ： グラフの線  \n",
    "> **Markers** ： グラフの点  \n",
    "> **Y axis label** ： Y軸のキャプション  \n",
    "> **X axis label** ： X軸のキャプション  \n",
    "> **Legend** ： 凡例  \n",
    "> **Grid** ： 目盛線  \n",
    "> **Spines** ： 外側の線  \n",
    "> **Major tick** ： 目盛間隔  \n",
    "> **Major tick label** ： 目盛スケール  \n",
    "> **Minor tick** ： 補助目盛間隔  \n",
    "> **Minor tick label** ： 補助目盛スケール"
   ]
  },
  {
   "cell_type": "markdown",
   "metadata": {},
   "source": [
    "グラフを作る前に、必要なライブラリをインポートしておきます。"
   ]
  },
  {
   "cell_type": "code",
   "execution_count": 5,
   "metadata": {},
   "outputs": [],
   "source": [
    "%matplotlib inline\n",
    "import numpy as np\n",
    "import pandas as pd\n",
    "import matplotlib.pyplot as plt\n",
    "import seaborn as sns"
   ]
  },
  {
   "cell_type": "markdown",
   "metadata": {},
   "source": [
    "## Line graph(折れ線グラフ)\n",
    "***"
   ]
  },
  {
   "cell_type": "markdown",
   "metadata": {},
   "source": [
    "データの準備をします。  \n",
    "ここでは適当に0~10の乱数を使います。"
   ]
  },
  {
   "cell_type": "code",
   "execution_count": 41,
   "metadata": {},
   "outputs": [],
   "source": [
    "x_lineGraph = np.arange(10)\n",
    "y_lineGraph = x_lineGraph * np.random.rand(10)"
   ]
  },
  {
   "cell_type": "markdown",
   "metadata": {},
   "source": [
    "データの中身を見てみます。"
   ]
  },
  {
   "cell_type": "code",
   "execution_count": 42,
   "metadata": {},
   "outputs": [
    {
     "name": "stdout",
     "output_type": "stream",
     "text": [
      "x_lineGraph...\n",
      "[0 1 2 3 4 5 6 7 8 9]\n",
      "y_lineGraph...\n",
      "[0.         0.64349657 0.13616719 1.90952809 2.80709155 0.45935311\n",
      " 3.08910368 2.72606148 1.14670241 5.85772586]\n"
     ]
    }
   ],
   "source": [
    "print('x_lineGraph...')\n",
    "print(x_lineGraph)\n",
    "print('y_lineGraph...')\n",
    "print(y_lineGraph)"
   ]
  },
  {
   "cell_type": "markdown",
   "metadata": {},
   "source": [
    "折れ線グラフで可視化をします。"
   ]
  },
  {
   "cell_type": "code",
   "execution_count": 48,
   "metadata": {},
   "outputs": [
    {
     "data": {
      "text/plain": [
       "[<matplotlib.lines.Line2D at 0x13bbab160>]"
      ]
     },
     "execution_count": 48,
     "metadata": {},
     "output_type": "execute_result"
    },
    {
     "data": {
      "image/png": "[encoded data removed]",
      "text/plain": [
       "<Figure size 432x288 with 1 Axes>"
      ]
     },
     "metadata": {
      "needs_background": "light"
     },
     "output_type": "display_data"
    }
   ],
   "source": [
    "# 1. FigureとAxesを準備\n",
    "fig, ax = plt.subplots()\n",
    "\n",
    "# 2. グラフタイトルを設定\n",
    "ax.set_title(\"Random Graph\")\n",
    "\n",
    "# 3. X軸、y軸キャプションを設定\n",
    "ax.set_xlabel(\"X-axis\")\n",
    "ax.set_ylabel(\"Y-axis\")\n",
    "\n",
    "# 4. X軸、y軸の範囲を指定\n",
    "ax.set_xlim([0, 10])\n",
    "ax.set_ylim([0, 10])\n",
    "\n",
    "# 5. 目盛線を設定\n",
    "ax.grid()\n",
    "\n",
    "# 6. プロット\n",
    "ax.plot(x_lineGraph, y_lineGraph)"
   ]
  },
  {
   "cell_type": "code",
   "execution_count": null,
   "metadata": {},
   "outputs": [],
   "source": []
  }
 ],
 "metadata": {
  "kernelspec": {
   "display_name": "Python 3",
   "language": "python",
   "name": "python3"
  },
  "language_info": {
   "codemirror_mode": {
    "name": "ipython",
    "version": 3
   },
   "file_extension": ".py",
   "mimetype": "text/x-python",
   "name": "python",
   "nbconvert_exporter": "python",
   "pygments_lexer": "ipython3",
   "version": "3.9.1"
  }
 },
 "nbformat": 4,
 "nbformat_minor": 4
}
