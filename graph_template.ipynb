{
 "cells": [
  {
   "cell_type": "markdown",
   "metadata": {},
   "source": [
    "# matplotlib・seabornを用いた可視化まとめ"
   ]
  },
  {
   "cell_type": "markdown",
   "metadata": {},
   "source": [
    "## 準備\n",
    "***"
   ]
  },
  {
   "cell_type": "markdown",
   "metadata": {},
   "source": [
    "始める前に。。。  \n",
    "matplotlibの階層構造がわからなくなったら、下記のリンクを訪れてみましょう。  \n",
    "[matplotlib Usage Guide](https://matplotlib.org/stable/tutorials/introductory/usage.html)"
   ]
  },
  {
   "cell_type": "markdown",
   "metadata": {},
   "source": [
    "最初にざっくり階層構造を書いておきます。  \n",
    "> **Figure** ： グラフを格納する箱、最上層の箱  \n",
    "> **Axes** ： Figureのひとつ内側の箱、まさにここにグラフを書く  \n",
    "> **Title** ： グラフタイトル  \n",
    "> **Line** ： グラフの線  \n",
    "> **Markers** ： グラフの点  \n",
    "> **Y axis label** ： Y軸のキャプション  \n",
    "> **X axis label** ： X軸のキャプション  \n",
    "> **Legend** ： 凡例  \n",
    "> **Grid** ： 目盛線  \n",
    "> **Spines** ： 外側の線  \n",
    "> **Major tick** ： 目盛間隔  \n",
    "> **Major tick label** ： 目盛スケール  \n",
    "> **Minor tick** ： 補助目盛間隔  \n",
    "> **Minor tick label** ： 補助目盛スケール"
   ]
  },
  {
   "cell_type": "markdown",
   "metadata": {},
   "source": [
    "グラフを作る前に、必要なライブラリをインポートしておきます。"
   ]
  },
  {
   "cell_type": "code",
   "execution_count": 1,
   "metadata": {},
   "outputs": [],
   "source": [
    "%matplotlib inline\n",
    "import numpy as np\n",
    "import pandas as pd\n",
    "import matplotlib.pyplot as plt\n",
    "import seaborn as sns"
   ]
  },
  {
   "cell_type": "markdown",
   "metadata": {},
   "source": [
    "## Line graph(折れ線グラフ)\n",
    "***"
   ]
  },
  {
   "cell_type": "markdown",
   "metadata": {},
   "source": [
    "データの準備をします。  \n",
    "ここでは適当に0~10の乱数を使います。"
   ]
  },
  {
   "cell_type": "code",
   "execution_count": 2,
   "metadata": {},
   "outputs": [],
   "source": [
    "x_lineGraph = np.arange(10)\n",
    "y1_lineGraph = x_lineGraph * np.random.rand(10)\n",
    "y2_lineGraph = x_lineGraph * np.random.rand(10)"
   ]
  },
  {
   "cell_type": "markdown",
   "metadata": {},
   "source": [
    "データの中身を見てみます。"
   ]
  },
  {
   "cell_type": "code",
   "execution_count": 3,
   "metadata": {},
   "outputs": [
    {
     "name": "stdout",
     "output_type": "stream",
     "text": [
      "x |  y1 |  y2\n",
      "0 | 0.0 | 0.0\n",
      "1 | 0.7 | 0.4\n",
      "2 | 1.9 | 1.9\n",
      "3 | 1.8 | 0.5\n",
      "4 | 1.9 | 1.4\n",
      "5 | 3.2 | 1.7\n",
      "6 | 4.7 | 3.8\n",
      "7 | 2.2 | 1.1\n",
      "8 | 3.9 | 7.7\n",
      "9 | 4.2 | 4.3\n"
     ]
    }
   ],
   "source": [
    "print('x', '|', ' y1', '|', ' y2')\n",
    "for i in range(10):\n",
    "    print(x_lineGraph[i], '|', '{:.1f}'.format(y1_lineGraph[i]), '|', '{:.1f}'.format(y2_lineGraph[i]))"
   ]
  },
  {
   "cell_type": "markdown",
   "metadata": {},
   "source": [
    "折れ線グラフで可視化をします。"
   ]
  },
  {
   "cell_type": "code",
   "execution_count": 4,
   "metadata": {},
   "outputs": [
    {
     "data": {
      "text/plain": [
       "<matplotlib.legend.Legend at 0x13079ae50>"
      ]
     },
     "execution_count": 4,
     "metadata": {},
     "output_type": "execute_result"
    },
    {
     "data": {
      "image/png": "[encoded data removed]",
      "text/plain": [
       "<Figure size 432x288 with 1 Axes>"
      ]
     },
     "metadata": {
      "needs_background": "light"
     },
     "output_type": "display_data"
    }
   ],
   "source": [
    "# 1. FigureとAxesを準備\n",
    "fig_line, ax_line = plt.subplots()\n",
    "\n",
    "# 2. グラフタイトルを設定\n",
    "ax_line.set_title(\"Random Line Graph\")\n",
    "\n",
    "# 3. X軸、y軸キャプションを設定\n",
    "ax_line.set_xlabel(\"X-axis\")\n",
    "ax_line.set_ylabel(\"Y-axis\")\n",
    "\n",
    "# 4. X軸、y軸の範囲を指定\n",
    "ax_line.set_xlim([0, 10])\n",
    "ax_line.set_ylim([0, 10])\n",
    "\n",
    "# 5. 目盛線を表示\n",
    "ax_line.grid()\n",
    "\n",
    "# 6. プロット\n",
    "ax_line.plot(x_lineGraph, y1_lineGraph, label = \"random1\", color = 'r', ls = ':', marker = 'o', alpha = 0.5)\n",
    "ax_line.plot(x_lineGraph, y2_lineGraph, label = \"random2\", color = '#4169e1', ls = '--', marker = 'v')\n",
    "\n",
    "# 7. 凡例を表示\n",
    "ax_line.legend()"
   ]
  },
  {
   "cell_type": "markdown",
   "metadata": {},
   "source": [
    "## 線の色  \n",
    "グレースケール、RGB、16進数カラーコード、色の頭文字で指定できる。  \n",
    "```color = 0.5, color = (255, 255, 255), color = '#0f0f0f', color = 'g'```  \n",
    "[色一覧](https://matplotlib.org/2.0.2/examples/color/named_colors.html)"
   ]
  },
  {
   "cell_type": "markdown",
   "metadata": {},
   "source": [
    "## 線種  \n",
    "直感的に指定できる。  \n",
    "```ls = ':', ls = '-.', ls = '--', ls = '-'```  \n",
    "[線種一覧](https://matplotlib.org/3.0.3/gallery/lines_bars_and_markers/line_styles_reference.html)"
   ]
  },
  {
   "cell_type": "markdown",
   "metadata": {},
   "source": [
    "## 線の太さ  \n",
    "```lw = 1.0```のような感じで数字で指定。"
   ]
  },
  {
   "cell_type": "markdown",
   "metadata": {},
   "source": [
    "## マーカーの種類  \n",
    "直感的に指定できる。  \n",
    "```marker = '.', marker = ',', marker = 'o', marker = 'v'```  \n",
    "[マーカー一覧](https://matplotlib.org/stable/api/markers_api.html)"
   ]
  },
  {
   "cell_type": "markdown",
   "metadata": {},
   "source": [
    "## マーカーのその他の設定  \n",
    "#### マーカーのエッジ色  \n",
    "markeredgecolorで指定。基本的に線の色の指定と同じ。  \n",
    "```mec = 'r'```  \n",
    "  \n",
    "#### マーカーのエッジ幅  \n",
    "markeredgewidthで指定。  \n",
    "```mew = '1.0'```  \n",
    "  \n",
    "#### マーカーの内部色  \n",
    "markerfacecolorで指定。基本的に線の色の指定と同じ。  \n",
    "```mfc = 'b'```  \n",
    "\n",
    "#### マーカーサイズ  \n",
    "markersizeで指定。  \n",
    "```ms = '1.0'```  "
   ]
  },
  {
   "cell_type": "markdown",
   "metadata": {},
   "source": [
    "## Bar graph(棒グラフ)\n",
    "***"
   ]
  },
  {
   "cell_type": "markdown",
   "metadata": {},
   "source": [
    "適当にデータを準備をします。  "
   ]
  },
  {
   "cell_type": "code",
   "execution_count": 5,
   "metadata": {},
   "outputs": [],
   "source": [
    "x_barGraph = ['A', 'B', 'C', 'D', 'E', 'F', 'G', 'H', 'I', 'J']\n",
    "n_bar = len(x_barGraph)\n",
    "y1_barGraph = np.random.randint(1, 10, n_bar)\n",
    "y2_barGraph = np.random.randint(1, 10, n_bar)"
   ]
  },
  {
   "cell_type": "markdown",
   "metadata": {},
   "source": [
    "データの中身を見てみます。"
   ]
  },
  {
   "cell_type": "code",
   "execution_count": 6,
   "metadata": {},
   "outputs": [
    {
     "name": "stdout",
     "output_type": "stream",
     "text": [
      "x | y1 | y2\n",
      "A | 8 | 6\n",
      "B | 5 | 2\n",
      "C | 4 | 8\n",
      "D | 8 | 9\n",
      "E | 3 | 2\n",
      "F | 1 | 2\n",
      "G | 4 | 2\n",
      "H | 8 | 8\n",
      "I | 4 | 3\n",
      "J | 7 | 3\n"
     ]
    }
   ],
   "source": [
    "print('x', '|', 'y1', '|', 'y2')\n",
    "for i in range(n_bar):\n",
    "    print(x_barGraph[i], '|', y1_barGraph[i], '|', y2_barGraph[i])"
   ]
  },
  {
   "cell_type": "code",
   "execution_count": 10,
   "metadata": {},
   "outputs": [
    {
     "data": {
      "text/plain": [
       "<matplotlib.legend.Legend at 0x130aaf610>"
      ]
     },
     "execution_count": 10,
     "metadata": {},
     "output_type": "execute_result"
    },
    {
     "data": {
      "image/png": "[encoded data removed]",
      "text/plain": [
       "<Figure size 432x288 with 1 Axes>"
      ]
     },
     "metadata": {
      "needs_background": "light"
     },
     "output_type": "display_data"
    }
   ],
   "source": [
    "# 1. FigureとAxesを準備\n",
    "fig_bar, ax_bar = plt.subplots()\n",
    "\n",
    "# 2. グラフタイトルを設定\n",
    "ax_bar.set_title(\"Random Bar Graph\")\n",
    "\n",
    "# 3. X軸、y軸キャプションを設定\n",
    "ax_bar.set_xlabel(\"X-axis\")\n",
    "ax_bar.set_ylabel(\"Y-axis\")\n",
    "\n",
    "# 4. X軸、y軸の範囲を指定\n",
    "width = 0.4\n",
    "ax_bar.set_xlim([-1 - width / 2, n_bar + width / 2])\n",
    "ax_bar.set_ylim([0, 10])\n",
    "\n",
    "# 5. 目盛線を表示\n",
    "ax_bar.grid(axis = 'y', color = 'gray', ls = '--', lw = 0.5)\n",
    "\n",
    "# 6. プロット\n",
    "ax_bar.bar(np.arange(n) - width / 2, y1_barGraph, label = \"random1\", color = 'tomato', width = width, tick_label = x_barGraph, align = 'edge')\n",
    "ax_bar.bar(np.arange(n) + width / 2, y2_barGraph, label = \"random2\", color = '#4169e1', width = width, tick_label = x_barGraph, align = 'edge')\n",
    "\n",
    "# 7. 凡例を表示\n",
    "ax_bar.legend()"
   ]
  },
  {
   "cell_type": "markdown",
   "metadata": {},
   "source": [
    "## Scatter graph(散布図)\n",
    "***"
   ]
  },
  {
   "cell_type": "markdown",
   "metadata": {},
   "source": [
    "適当にデータを準備をします。  "
   ]
  },
  {
   "cell_type": "code",
   "execution_count": 14,
   "metadata": {},
   "outputs": [],
   "source": [
    "x1_scatterGraph = np.arange(10, 0, -1)\n",
    "x2_scatterGraph = 10 * np.random.rand(10)\n",
    "n_scatter = len(x1_scatterGraph)\n",
    "y1_scatterGraph = np.sqrt(x1_scatterGraph)\n",
    "y2_scatterGraph = 10 * np.random.rand(10)"
   ]
  },
  {
   "cell_type": "markdown",
   "metadata": {},
   "source": [
    "データの中身を見てみます。"
   ]
  },
  {
   "cell_type": "code",
   "execution_count": 20,
   "metadata": {},
   "outputs": [
    {
     "name": "stdout",
     "output_type": "stream",
     "text": [
      "x1 | y1 | x2 | y2\n",
      "10 | 3.2 | 6.1 | 5.8\n",
      "9 | 3.0 | 9.8 | 6.5\n",
      "8 | 2.8 | 3.5 | 2.7\n",
      "7 | 2.6 | 3.2 | 3.3\n",
      "6 | 2.4 | 9.3 | 5.4\n",
      "5 | 2.2 | 1.9 | 1.2\n",
      "4 | 2.0 | 5.0 | 5.4\n",
      "3 | 1.7 | 7.9 | 6.7\n",
      "2 | 1.4 | 4.2 | 5.8\n",
      "1 | 1.0 | 9.4 | 7.5\n"
     ]
    }
   ],
   "source": [
    "print('x1', '|', 'y1', '|', 'x2', '|', 'y2')\n",
    "for i in range(n_scatter):\n",
    "    print(x1_scatterGraph[i], '|', '{:.1f}'.format(y1_scatterGraph[i]), '|', '{:.1f}'.format(x2_scatterGraph[i]), '|', '{:.1f}'.format(y2_scatterGraph[i]))"
   ]
  },
  {
   "cell_type": "code",
   "execution_count": null,
   "metadata": {},
   "outputs": [],
   "source": []
  }
 ],
 "metadata": {
  "kernelspec": {
   "display_name": "Python 3",
   "language": "python",
   "name": "python3"
  },
  "language_info": {
   "codemirror_mode": {
    "name": "ipython",
    "version": 3
   },
   "file_extension": ".py",
   "mimetype": "text/x-python",
   "name": "python",
   "nbconvert_exporter": "python",
   "pygments_lexer": "ipython3",
   "version": "3.9.1"
  }
 },
 "nbformat": 4,
 "nbformat_minor": 4
}
